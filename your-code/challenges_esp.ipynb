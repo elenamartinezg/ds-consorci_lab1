{
 "cells": [
  {
   "cell_type": "markdown",
   "metadata": {},
   "source": [
    "## Desafío 1: Tuplas\n",
    "\n",
    "#### ¿Sabías que puedes crear tuplas con solo un elemento?\n",
    "\n",
    "**En la celda de abajo, define una variable `tup` con un único elemento `\"I\"`.**"
   ]
  },
  {
   "cell_type": "code",
   "execution_count": 1,
   "metadata": {},
   "outputs": [
    {
     "name": "stdout",
     "output_type": "stream",
     "text": [
      "('I',)\n"
     ]
    }
   ],
   "source": [
    "# Tu codígo aquí\n",
    "\n",
    "# Crear una tupla con un solo elemento\n",
    "tup = (\"I\",)\n",
    "\n",
    "print(tup)"
   ]
  },
  {
   "cell_type": "markdown",
   "metadata": {},
   "source": [
    "#### Imprime el tipo de `tup`.\n",
    "\n",
    "Asegúrate de que su tipo sea correcto (es decir, *tuple* en lugar de *str*)."
   ]
  },
  {
   "cell_type": "code",
   "execution_count": 2,
   "metadata": {},
   "outputs": [
    {
     "name": "stdout",
     "output_type": "stream",
     "text": [
      "<class 'tuple'>\n",
      "('I',)\n"
     ]
    }
   ],
   "source": [
    "# Tu codígo aquí\n",
    "\n",
    "# Crear una tupla con un solo elemento\n",
    "tup = (\"I\",)\n",
    "\n",
    "# Verificar el tipo de dato\n",
    "# y el contenido de la tupla\n",
    "print(type(tup))\n",
    "print(tup)"
   ]
  },
  {
   "cell_type": "markdown",
   "metadata": {},
   "source": [
    "#### Ahora intenta agregar los siguientes elementos a `tup`.\n",
    "\n",
    "¿Puedes hacerlo? Explica.\n",
    "\n",
    "```\n",
    "\"r\", \"o\", \"n\", \"h\", \"a\", \"c\", \"k',\n",
    "```"
   ]
  },
  {
   "cell_type": "code",
   "execution_count": 32,
   "metadata": {
    "scrolled": true
   },
   "outputs": [
    {
     "name": "stdout",
     "output_type": "stream",
     "text": [
      "('I', 'r', 'o', 'n', 'h', 'a', 'c', 'k')\n"
     ]
    }
   ],
   "source": [
    "# Tu codígo aquí\n",
    "\n",
    "tup = (\"I\",)\n",
    "append = (\"r\", \"o\", \"n\", \"h\", \"a\", \"c\", \"k\",)\n",
    "\n",
    "# Concatenar las tuplas\n",
    "tup = tup + append\n",
    "# Verificar el contenido de la tupla\n",
    "print(tup)"
   ]
  },
  {
   "cell_type": "markdown",
   "metadata": {},
   "source": [
    "Tu explicación aquí\n",
    "\n",
    "Los tuples son inmutables (no se pueden cambiar después de su creación), necesitas \n",
    "crear un nuevo tuple que contenga los elementos del tuple original más los nuevos \n",
    "elementos que deseas añadir. Puedes hacer esto mediante la concatenación de tuples."
   ]
  },
  {
   "cell_type": "markdown",
   "metadata": {},
   "source": [
    "#### ¿Qué tal si reasignas un nuevo valor a una tupla existente?\n",
    "\n",
    "Reasigna los siguientes elementos a `tup`. ¿Puedes hacerlo? Explica.\n",
    "\n",
    "```\n",
    "\"I\", \"r\", \"o\", \"n\", \"h\", \"a\", \"c\", \"k\"\n",
    "```"
   ]
  },
  {
   "cell_type": "code",
   "execution_count": 33,
   "metadata": {},
   "outputs": [
    {
     "name": "stdout",
     "output_type": "stream",
     "text": [
      "('I', 'r', 'o', 'n', 'h', 'a', 'c', 'k')\n"
     ]
    }
   ],
   "source": [
    "# Tu codígo aquí\n",
    "\n",
    "# Crear un nuevo tuple con los elementos de la tupla y reasignar a la variable\n",
    "tup = (\"I\",)\n",
    "new = (\"I\", \"r\", \"o\", \"n\", \"h\", \"a\", \"c\", \"k\",)\n",
    "\n",
    "tup = new\n",
    "print(tup)"
   ]
  },
  {
   "cell_type": "markdown",
   "metadata": {},
   "source": [
    "#### Divide `tup` en `tup1` y `tup2` con 4 elementos en cada una.\n",
    "\n",
    "`tup1` debe ser `(\"I\", \"r\", \"o\", \"n\")` y `tup2` debe ser `(\"h\", \"a\", \"c\", \"k\")`.\n",
    "\n",
    "*Sugerencia: usa números de índice positivos para la asignación de `tup1` y números de índice negativos para la asignación de `tup2`. Los números de índice positivos cuentan desde el principio, mientras que los números de índice negativos cuentan desde el final de la secuencia.*\n",
    "\n",
    "También imprime `tup1` y `tup2`."
   ]
  },
  {
   "cell_type": "code",
   "execution_count": 34,
   "metadata": {},
   "outputs": [
    {
     "name": "stdout",
     "output_type": "stream",
     "text": [
      "('I', 'r', 'o', 'n', 'h', 'a', 'c', 'k')\n",
      "<class 'tuple'>\n",
      "('I', 'r', 'o', 'n')\n",
      "<class 'tuple'>\n",
      "('h', 'a', 'c', 'k')\n"
     ]
    }
   ],
   "source": [
    "# Tu codígo aquí\n",
    "\n",
    "tup = (\"I\", \"r\", \"o\", \"n\", \"h\", \"a\", \"c\", \"k\",)\n",
    "count = 0\n",
    "\n",
    "tup1 = ()\n",
    "tup2 = ()\n",
    "\n",
    "# Iterar sobre los elementos de la tupla\n",
    "# y dividirlos en dos tuplas diferentes\n",
    "# basado en la posición del elemento\n",
    "# (los primeros 4 elementos en una tupla y el resto en otra)\n",
    "for i in tup:\n",
    "    aux = (i,)\n",
    "    if count < 4:\n",
    "        tup1 = tup1 + aux\n",
    "    else:\n",
    "        tup2 = tup2 + aux\n",
    "    count += 1\n",
    "\n",
    "print(tup)\n",
    "\n",
    "print(type(tup1))\n",
    "print(tup1)\n",
    "print(type(tup2))\n",
    "print(tup2)"
   ]
  },
  {
   "cell_type": "markdown",
   "metadata": {},
   "source": [
    "#### Suma `tup1` y `tup2` en `tup3` usando el operador `+`.\n",
    "\n",
    "Luego imprime `tup3` y verifica si `tup3` es igual a `tup`."
   ]
  },
  {
   "cell_type": "code",
   "execution_count": 6,
   "metadata": {},
   "outputs": [
    {
     "name": "stdout",
     "output_type": "stream",
     "text": [
      "('I', 'r', 'o', 'n', 'h', 'a', 'c', 'k')\n",
      "<class 'tuple'>\n",
      "('I', 'r', 'o', 'n')\n",
      "<class 'tuple'>\n",
      "('h', 'a', 'c', 'k')\n",
      "<class 'tuple'>\n",
      "('I', 'r', 'o', 'n', 'h', 'a', 'c', 'k')\n"
     ]
    }
   ],
   "source": [
    "# Tu codígo aquí\n",
    "\n",
    "tup = (\"I\", \"r\", \"o\", \"n\", \"h\", \"a\", \"c\", \"k\",)\n",
    "count = 0\n",
    "\n",
    "tup1 = ()\n",
    "tup2 = ()\n",
    "\n",
    "# Iterar sobre los elementos de la tupla\n",
    "# y dividirlos en dos tuplas diferentes\n",
    "# basado en la posición del elemento\n",
    "# (los primeros 4 elementos en una tupla y el resto en otra)\n",
    "for i in tup:\n",
    "    aux = (i,)\n",
    "    if count < 4:\n",
    "        tup1 = tup1 + aux\n",
    "    else:\n",
    "        tup2 = tup2 + aux\n",
    "    count += 1\n",
    "\n",
    "# Definir una nueva tupla que contenga los elementos de las tuplas anteriores\n",
    "tup3 = tup1 + tup2\n",
    "\n",
    "print(tup)\n",
    "\n",
    "print(type(tup1))\n",
    "print(tup1)\n",
    "print(type(tup2))\n",
    "print(tup2)\n",
    "print(type(tup3))\n",
    "print(tup3)"
   ]
  },
  {
   "cell_type": "markdown",
   "metadata": {},
   "source": [
    "#### Cuenta el número de elementos en `tup1` y `tup2`. Luego suma los dos conteos y verifica si la suma es igual al número de elementos en `tup3`."
   ]
  },
  {
   "cell_type": "code",
   "execution_count": 7,
   "metadata": {},
   "outputs": [
    {
     "name": "stdout",
     "output_type": "stream",
     "text": [
      "Count de tup1 es : 4\n",
      "Count de tup2 es : 4\n",
      "Count de tup1 + tup2 = 8\n",
      "Count de tup3 es : 8\n",
      "Son equivalentes\n",
      "('I', 'r', 'o', 'n')\n",
      "('I', 'r', 'o', 'n', 'h', 'a', 'c', 'k')\n",
      "<class 'tuple'>\n",
      "('I', 'r', 'o', 'n')\n",
      "<class 'tuple'>\n",
      "('h', 'a', 'c', 'k')\n",
      "<class 'tuple'>\n",
      "('I', 'r', 'o', 'n', 'h', 'a', 'c', 'k')\n"
     ]
    }
   ],
   "source": [
    "# Tu codígo aquí\n",
    "\n",
    "tup = (\"I\", \"r\", \"o\", \"n\", \"h\", \"a\", \"c\", \"k\",)\n",
    "count = 0\n",
    "\n",
    "tup1 = ()\n",
    "tup2 = ()\n",
    "\n",
    "# Iterar sobre los elementos de la tupla y dividirlos en dos tuplas diferentes\n",
    "# basado en la posición del elemento (los primeros 4 elementos en una tupla y el resto en otra)\n",
    "for i in tup:\n",
    "    aux = (i,)\n",
    "    if count < 4:\n",
    "        tup1 = tup1 + aux\n",
    "    else:\n",
    "        tup2 = tup2 + aux\n",
    "    count += 1\n",
    "\n",
    "# Definir una nueva tupla que contenga los elementos de las tuplas anteriores\n",
    "tup3 = tup1 + tup2\n",
    "\n",
    "count1 = 0\n",
    "count2 = 0\n",
    "count3 = 0\n",
    "\n",
    "# Contar los elementos de las tuplas\n",
    "# y comparar si la nueva tupla tiene la misma cantidad de elementos\n",
    "for i in tup1:\n",
    "    count1 += 1\n",
    "print (\"Count de tup1 es :\", count1)\n",
    "for i in tup2:\n",
    "    count2 += 1\n",
    "print (\"Count de tup2 es :\", count2)\n",
    "\n",
    "# Sumar los elementos de las tuplas 1 y 2\n",
    "count1 += count2\n",
    "\n",
    "# Contar los elementos de la tupla 3\n",
    "for i in tup3:\n",
    "    count3 += 1\n",
    "\n",
    "# Verificar si la cantidad de elementos de las tuplas 1 y 2\n",
    "# es igual a la cantidad de elementos de la tupla 3\n",
    "print (\"Count de tup1 + tup2 =\", count1)\n",
    "print (\"Count de tup3 es :\", count3)\n",
    "if count1 == count3:\n",
    "    print(\"Son equivalentes\")\n",
    "else:\n",
    "    print(\"No son equivalentes\")\n",
    "\n",
    "\n",
    "# Sacamos todo por pantalla\n",
    "print (tup1)\n",
    "print(tup)\n",
    "print(type(tup1))\n",
    "print(tup1)\n",
    "print(type(tup2))\n",
    "print(tup2)\n",
    "print(type(tup3))\n",
    "print(tup3)"
   ]
  },
  {
   "cell_type": "markdown",
   "metadata": {},
   "source": [
    "#### ¿Cuál es el número de índice de `\"h\"` en `tup3`?"
   ]
  },
  {
   "cell_type": "code",
   "execution_count": 8,
   "metadata": {},
   "outputs": [
    {
     "name": "stdout",
     "output_type": "stream",
     "text": [
      "El indice es : 4\n"
     ]
    }
   ],
   "source": [
    "# Tu codígo aquí\n",
    "\n",
    "tup = (\"I\", \"r\", \"o\", \"n\", \"h\", \"a\", \"c\", \"k\",)\n",
    "count = 0\n",
    "\n",
    "tup1 = ()\n",
    "tup2 = ()\n",
    "\n",
    "# Iterar sobre los elementos de la tupla y dividirlos en dos tuplas diferentes\n",
    "# basado en la posición del elemento (los primeros 4 elementos en una tupla y el resto en otra)\n",
    "for i in tup:\n",
    "    aux = (i,)\n",
    "    if count < 4:\n",
    "        tup1 = tup1 + aux\n",
    "    else:\n",
    "        tup2 = tup2 + aux\n",
    "    count += 1\n",
    "\n",
    "# Definir una nueva tupla que contenga los elementos de las tuplas anteriores\n",
    "tup3 = tup1 + tup2\n",
    "\n",
    "# Encontrar el índice del elemento \"h\" en la tupla 3\n",
    "# Imprimir el índice en pantalla y detener el bucle\n",
    "count = 0\n",
    "for i in tup3:\n",
    "    if i == 'h':\n",
    "        print (\"El indice es :\", count)\n",
    "        break\n",
    "    else:\n",
    "        count += 1"
   ]
  },
  {
   "cell_type": "markdown",
   "metadata": {},
   "source": [
    "#### Ahora, usa un bucle FOR para verificar si cada letra en la siguiente lista está presente en `tup3`:\n",
    "\n",
    "\n",
    "```\n",
    "letters = [\"a\", \"b\", \"c\", \"d\", \"e\"]\n",
    "```\n",
    "\n",
    "\n",
    "Para cada letra que verifiques, imprime `True` si está presente en `tup3`, de lo contrario imprime `False`.\n",
    "\n",
    "*Sugerencia: solo necesitas hacer un bucle con `letters`. No necesitas hacer un bucle con `tup3` porque hay un operador de Python `in` que puedes usar. Consulta la [referencia](https://stackoverflow.com/questions/17920147/how-to-check-if-a-tuple-contains-an-element-in-python).*"
   ]
  },
  {
   "cell_type": "code",
   "execution_count": 9,
   "metadata": {},
   "outputs": [
    {
     "name": "stdout",
     "output_type": "stream",
     "text": [
      "True\n",
      "False\n",
      "True\n",
      "False\n",
      "False\n"
     ]
    }
   ],
   "source": [
    "# Tu codígo aquí\n",
    "\n",
    "tup = (\"I\", \"r\", \"o\", \"n\", \"h\", \"a\", \"c\", \"k\",)\n",
    "count = 0\n",
    "\n",
    "tup1 = ()\n",
    "tup2 = ()\n",
    "\n",
    "# Iterar sobre los elementos de la tupla y dividirlos en dos tuplas diferentes\n",
    "# basado en la posición del elemento (los primeros 4 elementos en una tupla y el resto en otra)\n",
    "for i in tup:\n",
    "    aux = (i,)\n",
    "    if count < 4:\n",
    "        tup1 = tup1 + aux\n",
    "    else:\n",
    "        tup2 = tup2 + aux\n",
    "    count += 1\n",
    "\n",
    "# Definir una nueva tupla que contenga los elementos de las tuplas anteriores\n",
    "tup3 = tup1 + tup2\n",
    "\n",
    "letters = [\"a\", \"b\", \"c\", \"d\", \"e\"]\n",
    "# Iterar sobre la lista de letras y verificar si cada letra está presente en la tupla 3\n",
    "# Imprimir True si un elemento está presente en la tupla 3, de lo contrario False\n",
    "for elements in letters:\n",
    "    if elements in tup:\n",
    "        print(True)\n",
    "    else:\n",
    "        print(False)"
   ]
  },
  {
   "cell_type": "markdown",
   "metadata": {},
   "source": [
    "#### ¿Cuántas veces aparece cada letra de `letters` en `tup3`?\n",
    "\n",
    "Imprime el número de ocurrencias de cada letra."
   ]
  },
  {
   "cell_type": "code",
   "execution_count": 10,
   "metadata": {},
   "outputs": [
    {
     "name": "stdout",
     "output_type": "stream",
     "text": [
      "El elemento 'a' se encuentra 1 veces en la tupla.\n",
      "El elemento 'b' se encuentra 0 veces en la tupla.\n",
      "El elemento 'c' se encuentra 1 veces en la tupla.\n",
      "El elemento 'd' se encuentra 0 veces en la tupla.\n",
      "El elemento 'e' se encuentra 0 veces en la tupla.\n"
     ]
    }
   ],
   "source": [
    "# Tu codígo aquí\n",
    "\n",
    "tup = (\"I\", \"r\", \"o\", \"n\", \"h\", \"a\", \"c\", \"k\",)\n",
    "count = 0\n",
    "\n",
    "tup1 = ()\n",
    "tup2 = ()\n",
    "\n",
    "# Iterar sobre los elementos de la tupla y dividirlos en dos tuplas diferentes\n",
    "# basado en la posición del elemento (los primeros 4 elementos en una tupla y el resto en otra)\n",
    "for i in tup:\n",
    "    aux = (i,)\n",
    "    if count < 4:\n",
    "        tup1 = tup1 + aux\n",
    "    else:\n",
    "        tup2 = tup2 + aux\n",
    "    count += 1\n",
    "\n",
    "# Definir una nueva tupla que contenga los elementos de las tuplas anteriores\n",
    "tup3 = tup1 + tup2\n",
    "\n",
    "letters = [\"a\", \"b\", \"c\", \"d\", \"e\"]\n",
    "\n",
    "# Iterar sobre la lista de letras y verificar si cada letra está presente en la tupla 3\n",
    "for element in letters:\n",
    "    # Contar cuántas veces aparece el elemento en la tupla 3\n",
    "    count = tup3.count(element)\n",
    "    # Imprimir el resultado\n",
    "    print(f\"El elemento '{element}' se encuentra {count} veces en la tupla.\")"
   ]
  },
  {
   "cell_type": "markdown",
   "metadata": {},
   "source": [
    "## Desafío 2: Conjuntos\n",
    "\n",
    "Hay mucho que aprender sobre los Conjuntos en Python y la información presentada en la lección es limitada debido a su longitud. Para aprender a fondo sobre los Conjuntos en Python, te recomendamos encarecidamente que revises el tutorial de W3Schools sobre [Ejemplos y Métodos de Conjuntos en Python](https://www.w3schools.com/python/python_sets.asp) antes de trabajar en este laboratorio. Algunas preguntas difíciles de este laboratorio tienen sus soluciones en el tutorial de W3Schools.\n",
    "\n",
    "#### Primero, importa la biblioteca `random` de Python."
   ]
  },
  {
   "cell_type": "code",
   "execution_count": 11,
   "metadata": {},
   "outputs": [],
   "source": [
    "import random"
   ]
  },
  {
   "cell_type": "markdown",
   "metadata": {},
   "source": [
    "#### En la celda de abajo, crea una lista llamada `sample_list_1` con 80 valores aleatorios.\n",
    "\n",
    "Requisitos:\n",
    "\n",
    "* Cada valor es un entero entre 0 y 100.\n",
    "* Cada valor en la lista es único.\n",
    "\n",
    "Imprime `sample_list_1` para revisar sus valores.\n",
    "\n",
    "*Sugerencia: usa `random.sample` ([referencia](https://docs.python.org/3/library/random.html#random.sample)).*"
   ]
  },
  {
   "cell_type": "code",
   "execution_count": 12,
   "metadata": {},
   "outputs": [
    {
     "name": "stdout",
     "output_type": "stream",
     "text": [
      "[2, 99, 85, 5, 88, 90, 70, 51, 14, 13, 89, 74, 38, 97, 7, 12, 87, 11, 52, 64, 73, 39, 60, 36, 16, 3, 53, 9, 76, 0, 54, 50, 100, 24, 67, 30, 55, 57, 28, 46, 18, 22, 66, 94, 82, 47, 6, 96, 23, 29, 84, 48, 1, 62, 93, 61, 49, 42, 25, 21, 81, 32, 91, 45, 26, 71, 72, 10, 79, 4, 86, 59, 65, 41, 78, 31, 35, 56, 43, 20]\n"
     ]
    }
   ],
   "source": [
    "# tu codigo aquí\n",
    "\n",
    "import random\n",
    "\n",
    "# Generar una lista de 80 elementos aleatorios del 0 al 100\n",
    "sample_list_1 = random.sample(range(101), 80)\n",
    "\n",
    "print(sample_list_1)"
   ]
  },
  {
   "cell_type": "markdown",
   "metadata": {},
   "source": [
    "#### Convierte `sample_list_1` en un conjunto llamado `set1`. Imprime la longitud del conjunto. ¿Su longitud sigue siendo 80?"
   ]
  },
  {
   "cell_type": "code",
   "execution_count": 13,
   "metadata": {},
   "outputs": [
    {
     "name": "stdout",
     "output_type": "stream",
     "text": [
      "80\n"
     ]
    }
   ],
   "source": [
    "# tu codigo aquí\n",
    "\n",
    "import random\n",
    "\n",
    "# Generar una lista de 80 elementos aleatorios del 0 al 100\n",
    "# y convertirlo a un conjunto (set) para obtener los elementos únicos de la lista\n",
    "sample_list_1 = random.sample(range(101), 80)\n",
    "set_1 = set(sample_list_1)\n",
    "\n",
    "print(len(set_1))"
   ]
  },
  {
   "cell_type": "markdown",
   "metadata": {},
   "source": [
    "#### Crea otra lista llamada `sample_list_2` con 80 valores aleatorios.\n",
    "\n",
    "Requisitos:\n",
    "\n",
    "* Cada valor es un entero entre 0 y 100.\n",
    "* Los valores en la lista no tienen que ser únicos.\n",
    "\n",
    "*Sugerencia: Usa un bucle FOR.*"
   ]
  },
  {
   "cell_type": "code",
   "execution_count": 14,
   "metadata": {},
   "outputs": [
    {
     "name": "stdout",
     "output_type": "stream",
     "text": [
      "[84, 96, 73, 76, 17, 45, 81, 83, 26, 48, 2, 72, 49, 9, 69, 29, 3, 99, 6, 71, 99, 89, 31, 24, 54, 3, 31, 48, 54, 1, 9, 44, 56, 59, 76, 15, 48, 3, 34, 46, 17, 11, 61, 58, 92, 7, 82, 11, 58, 72, 63, 36, 97, 44, 85, 52, 63, 79, 74, 60, 88, 6, 47, 60, 72, 73, 89, 36, 52, 46, 84, 99, 73, 51, 33, 51, 12, 19, 73]\n"
     ]
    }
   ],
   "source": [
    "# tu codigo aquí\n",
    "\n",
    "import random\n",
    "\n",
    "sample_list_2 = []\n",
    "\n",
    "# Generar una lista de 80 elementos aleatorios del 0 al 100\n",
    "for i in range(1, 80):\n",
    "    random_unit = random.randint(1, 100)\n",
    "    sample_list_2.append(random_unit)\n",
    "print (sample_list_2)"
   ]
  },
  {
   "cell_type": "markdown",
   "metadata": {},
   "source": [
    "#### Convierte `sample_list_2` en un conjunto llamado `set2`. Imprime la longitud del conjunto. ¿Su longitud sigue siendo 80?"
   ]
  },
  {
   "cell_type": "code",
   "execution_count": 15,
   "metadata": {},
   "outputs": [
    {
     "name": "stdout",
     "output_type": "stream",
     "text": [
      "51\n",
      "79\n"
     ]
    }
   ],
   "source": [
    "# tu codigo aquí\n",
    "\n",
    "import random\n",
    "\n",
    "sample_list_2 = []\n",
    "\n",
    "# Generar una lista de 80 elementos aleatorios del 0 al 100\n",
    "# y convertirlo a un conjunto (set) para obtener los elementos únicos de la lista\n",
    "for i in range(1, 80):\n",
    "    random_unit = random.randint(1, 100)\n",
    "    sample_list_2.append(random_unit)\n",
    "\n",
    "set_2 = set(sample_list_2)\n",
    "\n",
    "print(len(set_2))\n",
    "print (len(sample_list_2))\n",
    "\n",
    "# La longitud no es la misma, set() elimina los elementos duplicados"
   ]
  },
  {
   "cell_type": "markdown",
   "metadata": {},
   "source": [
    "#### Identifica los elementos presentes en `set1` pero no en `set2`. Asigna los elementos a un nuevo conjunto llamado `set3`."
   ]
  },
  {
   "cell_type": "code",
   "execution_count": 16,
   "metadata": {},
   "outputs": [
    {
     "name": "stdout",
     "output_type": "stream",
     "text": [
      "{0, 1, 4, 7, 8, 10, 14, 18, 21, 23, 27, 33, 36, 37, 39, 45, 47, 50, 55, 58, 59, 60, 62, 63, 65, 67, 71, 74, 76, 79, 81, 85, 86, 88, 89, 91, 94, 95, 97, 100}\n"
     ]
    }
   ],
   "source": [
    "# tu codigo aquí\n",
    "\n",
    "import random\n",
    "\n",
    "# Generar dos listas de 80 elementos aleatorios del 0 al 100\n",
    "# y convertirlas a un conjunto (set) para obtener los elementos únicos de la lista\n",
    "sample_list_1 = random.sample(range(101), 80)\n",
    "sample_list_2 = []\n",
    "\n",
    "for i in range(1, 80):\n",
    "    random_unit = random.randint(1, 100)\n",
    "    sample_list_2.append(random_unit)\n",
    "\n",
    "set1 = set(sample_list_1)\n",
    "set2 = set(sample_list_2)\n",
    "sample_list_3 = []\n",
    "\n",
    "# Iterar sobre los elementos de la lista 1 y agregarlos a la lista 3 si también están en la lista 2\n",
    "for i in set1:\n",
    "    if i not in set2:\n",
    "        sample_list_3.append(i)\n",
    "# Convertir la lista 3 a un conjunto\n",
    "set3 = set(sample_list_3)\n",
    "print(set3)"
   ]
  },
  {
   "cell_type": "markdown",
   "metadata": {},
   "source": [
    "#### Identifica los elementos presentes en `set2` pero no en `set1`. Asigna los elementos a un nuevo conjunto llamado `set4`."
   ]
  },
  {
   "cell_type": "code",
   "execution_count": 17,
   "metadata": {},
   "outputs": [
    {
     "name": "stdout",
     "output_type": "stream",
     "text": [
      "{32, 1, 98, 35, 5, 42, 74, 76, 78, 47, 16, 51, 21, 25, 94}\n"
     ]
    }
   ],
   "source": [
    "# tu codigo aquí\n",
    "\n",
    "import random\n",
    "\n",
    "# Generar dos listas de 80 elementos aleatorios del 0 al 100\n",
    "# y convertirlas a un conjunto (set) para obtener los elementos únicos de la lista\n",
    "sample_list_1 = random.sample(range(101), 80)\n",
    "sample_list_2 = []\n",
    "\n",
    "for i in range(1, 80):\n",
    "    random_unit = random.randint(1, 100)\n",
    "    sample_list_2.append(random_unit)\n",
    "\n",
    "set1 = set(sample_list_1)\n",
    "set2 = set(sample_list_2)\n",
    "sample_list_4 = []\n",
    "\n",
    "# Iterar sobre los elementos de la lista 2 y agregarlos a la lista 4 si no están en la lista 1\n",
    "for i in set2:\n",
    "    if i not in set1:\n",
    "        sample_list_4.append(i)\n",
    "# Convertir la lista 4 a un conjunto\n",
    "set4 = set(sample_list_4)\n",
    "print(set4)"
   ]
  },
  {
   "cell_type": "markdown",
   "metadata": {},
   "source": [
    "#### Ahora identifica los elementos compartidos entre `set1` y `set2`. Asigna los elementos a un nuevo conjunto llamado `set5`."
   ]
  },
  {
   "cell_type": "code",
   "execution_count": 18,
   "metadata": {},
   "outputs": [
    {
     "name": "stdout",
     "output_type": "stream",
     "text": [
      "{3, 6, 8, 9, 11, 12, 13, 16, 18, 21, 23, 27, 28, 31, 33, 35, 36, 38, 39, 43, 44, 45, 46, 48, 49, 50, 57, 60, 62, 63, 65, 66, 67, 68, 74, 77, 79, 80, 83, 84, 87, 89, 91, 95, 97, 98}\n"
     ]
    }
   ],
   "source": [
    "# tu codigo aquí\n",
    "\n",
    "# tu codigo aquí\n",
    "\n",
    "import random\n",
    "\n",
    "# Generar dos listas de 80 elementos aleatorios del 0 al 100\n",
    "# y convertirlas a un conjunto (set) para obtener los elementos únicos de la lista\n",
    "sample_list_1 = random.sample(range(101), 80)\n",
    "sample_list_2 = []\n",
    "\n",
    "for i in range(1, 80):\n",
    "    random_unit = random.randint(1, 100)\n",
    "    sample_list_2.append(random_unit)\n",
    "\n",
    "\n",
    "set1 = set(sample_list_1)\n",
    "set2 = set(sample_list_2)\n",
    "sample_list_5 = []\n",
    "\n",
    "# Iterar sobre los elementos de la lista 1 y agregarlos a la lista 5 si también están en la lista 2\n",
    "for i in set1:\n",
    "    if i in set2:\n",
    "        sample_list_5.append(i)\n",
    "set5 = set(sample_list_5)\n",
    "print(set5)"
   ]
  },
  {
   "cell_type": "markdown",
   "metadata": {},
   "source": [
    "#### ¿Cuál es la relación entre los siguientes valores?\n",
    "\n",
    "* len(set1)\n",
    "* len(set2)\n",
    "* len(set3)\n",
    "* len(set4)\n",
    "* len(set5)\n",
    "\n",
    "Usa una fórmula matemática para representar esa relación. Prueba tu fórmula con código Python."
   ]
  },
  {
   "cell_type": "code",
   "execution_count": 19,
   "metadata": {},
   "outputs": [
    {
     "name": "stdout",
     "output_type": "stream",
     "text": [
      "len(set1 ∪ set2): 89\n",
      "len(set1) + len(set2) - len(set1 ∩ set2): 89\n",
      "len(set3): 43\n",
      "len(set4): 9\n",
      "len(set5): 37\n"
     ]
    }
   ],
   "source": [
    "# tu codigo aquí\n",
    "\n",
    "import random\n",
    "\n",
    "sample_list_1 = random.sample(range(101), 80)\n",
    "sample_list_2 = []\n",
    "\n",
    "for i in range(1, 80):\n",
    "    random_unit = random.randint(1, 100)\n",
    "    sample_list_2.append(random_unit)\n",
    "\n",
    "set1 = set(sample_list_1)\n",
    "set2 = set(sample_list_2)\n",
    "\n",
    "sample_list_3 = []\n",
    "for i in set1:\n",
    "    if i not in set2:\n",
    "        sample_list_3.append(i)\n",
    "set3 = set(sample_list_3)\n",
    "\n",
    "sample_list_4 = []\n",
    "for i in set2:\n",
    "    if i not in set1:\n",
    "        sample_list_4.append(i)\n",
    "set4 = set(sample_list_4)\n",
    "\n",
    "sample_list_5 = []\n",
    "for i in set1:\n",
    "    if i in set2:\n",
    "        sample_list_5.append(i)\n",
    "set5 = set(sample_list_5)\n",
    "\n",
    "# Calcular la longitud de los conjuntos y realizar las operaciones de conjuntos\n",
    "# para verificar si los resultados son correctos (deben ser iguales)\n",
    "union_len = len(set1.union(set2))\n",
    "intersection_len = len(set1.intersection(set2))\n",
    "\n",
    "print(\"len(set1 ∪ set2):\", union_len)\n",
    "print(\"len(set1) + len(set2) - len(set1 ∩ set2):\", len(set1) + len(set2) - intersection_len)\n",
    "print(\"len(set3):\", len(set3))\n",
    "print(\"len(set4):\", len(set4))\n",
    "print(\"len(set5):\", len(set5))"
   ]
  },
  {
   "cell_type": "markdown",
   "metadata": {},
   "source": [
    "#### Crea un conjunto vacío llamado `set6`."
   ]
  },
  {
   "cell_type": "code",
   "execution_count": 20,
   "metadata": {},
   "outputs": [
    {
     "name": "stdout",
     "output_type": "stream",
     "text": [
      "len(set1 ∪ set2): 94\n",
      "len(set1) + len(set2) - len(set1 ∩ set2): 94\n",
      "len(set3): 39\n",
      "len(set4): 14\n",
      "len(set5): 41\n"
     ]
    }
   ],
   "source": [
    "# tu codigo aquí\n",
    "\n",
    "import random\n",
    "\n",
    "sample_list_1 = random.sample(range(101), 80)\n",
    "sample_list_2 = []\n",
    "\n",
    "for i in range(1, 80):\n",
    "    random_unit = random.randint(1, 100)\n",
    "    sample_list_2.append(random_unit)\n",
    "\n",
    "set1 = set(sample_list_1)\n",
    "set2 = set(sample_list_2)\n",
    "\n",
    "sample_list_3 = []\n",
    "for i in set1:\n",
    "    if i not in set2:\n",
    "        sample_list_3.append(i)\n",
    "set3 = set(sample_list_3)\n",
    "\n",
    "sample_list_4 = []\n",
    "for i in set2:\n",
    "    if i not in set1:\n",
    "        sample_list_4.append(i)\n",
    "set4 = set(sample_list_4)\n",
    "\n",
    "sample_list_5 = []\n",
    "for i in set1:\n",
    "    if i in set2:\n",
    "        sample_list_5.append(i)\n",
    "set5 = set(sample_list_5)\n",
    "\n",
    "union_len = len(set1.union(set2))\n",
    "intersection_len = len(set1.intersection(set2))\n",
    "\n",
    "# Creamos un conjunto vacío\n",
    "set6 = set()\n",
    "\n",
    "print(\"len(set1 ∪ set2):\", union_len)\n",
    "print(\"len(set1) + len(set2) - len(set1 ∩ set2):\", len(set1) + len(set2) - intersection_len)\n",
    "print(\"len(set3):\", len(set3))\n",
    "print(\"len(set4):\", len(set4))\n",
    "print(\"len(set5):\", len(set5))"
   ]
  },
  {
   "cell_type": "markdown",
   "metadata": {},
   "source": [
    "#### Añade `set3` y `set5` a `set6` usando el método `update` de los Conjuntos de Python."
   ]
  },
  {
   "cell_type": "code",
   "execution_count": 21,
   "metadata": {},
   "outputs": [
    {
     "name": "stdout",
     "output_type": "stream",
     "text": [
      "{0, 2, 5, 9, 18, 20, 24, 25, 27, 29, 35, 36, 40, 41, 43, 45, 46, 47, 51, 52, 54, 58, 59, 61, 64, 65, 68, 69, 70, 71, 73, 76, 80, 82, 83, 85, 93, 96}\n",
      "{1, 6, 8, 10, 11, 12, 13, 14, 15, 19, 21, 23, 26, 30, 32, 33, 34, 37, 38, 39, 44, 48, 49, 55, 56, 57, 60, 62, 66, 74, 75, 77, 79, 81, 84, 86, 88, 90, 92, 94, 95, 97}\n",
      "{0, 1, 2, 5, 6, 8, 9, 10, 11, 12, 13, 14, 15, 18, 19, 20, 21, 23, 24, 25, 26, 27, 29, 30, 32, 33, 34, 35, 36, 37, 38, 39, 40, 41, 43, 44, 45, 46, 47, 48, 49, 51, 52, 54, 55, 56, 57, 58, 59, 60, 61, 62, 64, 65, 66, 68, 69, 70, 71, 73, 74, 75, 76, 77, 79, 80, 81, 82, 83, 84, 85, 86, 88, 90, 92, 93, 94, 95, 96, 97}\n"
     ]
    }
   ],
   "source": [
    "# tu codigo aquí\n",
    "\n",
    "import random\n",
    "\n",
    "sample_list_1 = random.sample(range(101), 80)\n",
    "sample_list_2 = []\n",
    "\n",
    "for i in range(1, 80):\n",
    "    random_unit = random.randint(1, 100)\n",
    "    sample_list_2.append(random_unit)\n",
    "\n",
    "set1 = set(sample_list_1)\n",
    "set2 = set(sample_list_2)\n",
    "\n",
    "sample_list_3 = []\n",
    "for i in set1:\n",
    "    if i not in set2:\n",
    "        sample_list_3.append(i)\n",
    "set3 = set(sample_list_3)\n",
    "\n",
    "sample_list_4 = []\n",
    "for i in set2:\n",
    "    if i not in set1:\n",
    "        sample_list_4.append(i)\n",
    "set4 = set(sample_list_4)\n",
    "\n",
    "sample_list_5 = []\n",
    "for i in set1:\n",
    "    if i in set2:\n",
    "        sample_list_5.append(i)\n",
    "set5 = set(sample_list_5)\n",
    "\n",
    "union_len = len(set1.union(set2))\n",
    "intersection_len = len(set1.intersection(set2))\n",
    "\n",
    "# Creamos un conjunto vacío y actualizamos el conjunto con los elementos de los conjuntos 3 y 5\n",
    "set6 = set()\n",
    "set6.update(set3, set5)\n",
    "\n",
    "print (set3)\n",
    "print (set5)\n",
    "print (set6)\n"
   ]
  },
  {
   "cell_type": "markdown",
   "metadata": {},
   "source": [
    "#### Verifica si `set1` y `set6` son iguales."
   ]
  },
  {
   "cell_type": "code",
   "execution_count": 22,
   "metadata": {},
   "outputs": [
    {
     "name": "stdout",
     "output_type": "stream",
     "text": [
      "Son equivalentes\n"
     ]
    }
   ],
   "source": [
    "# tu codigo aquí\n",
    "\n",
    "import random\n",
    "\n",
    "sample_list_1 = random.sample(range(101), 80)\n",
    "sample_list_2 = []\n",
    "\n",
    "for i in range(1, 80):\n",
    "    random_unit = random.randint(1, 100)\n",
    "    sample_list_2.append(random_unit)\n",
    "\n",
    "set1 = set(sample_list_1)\n",
    "set2 = set(sample_list_2)\n",
    "\n",
    "sample_list_3 = []\n",
    "for i in set1:\n",
    "    if i not in set2:\n",
    "        sample_list_3.append(i)\n",
    "set3 = set(sample_list_3)\n",
    "\n",
    "sample_list_4 = []\n",
    "for i in set2:\n",
    "    if i not in set1:\n",
    "        sample_list_4.append(i)\n",
    "set4 = set(sample_list_4)\n",
    "\n",
    "sample_list_5 = []\n",
    "for i in set1:\n",
    "    if i in set2:\n",
    "        sample_list_5.append(i)\n",
    "set5 = set(sample_list_5)\n",
    "\n",
    "union_len = len(set1.union(set2))\n",
    "intersection_len = len(set1.intersection(set2))\n",
    "\n",
    "set6 = set()\n",
    "set6.update(set3, set5)\n",
    "\n",
    "# Verificamos si los conjuntos 1 y 6 son equivalentes\n",
    "if set1 == set6:\n",
    "    print(\"Son equivalentes\")\n"
   ]
  },
  {
   "cell_type": "markdown",
   "metadata": {},
   "source": [
    "#### Comprueba si `set1` contiene a `set2` utilizando el método `issubset` de los Conjuntos de Python. Luego verifica si `set1` contiene a `set3`."
   ]
  },
  {
   "cell_type": "code",
   "execution_count": 23,
   "metadata": {},
   "outputs": [
    {
     "name": "stdout",
     "output_type": "stream",
     "text": [
      "set1 contiene a set3\n"
     ]
    }
   ],
   "source": [
    "# tu codigo aquí\n",
    "\n",
    "import random\n",
    "\n",
    "sample_list_1 = random.sample(range(101), 80)\n",
    "sample_list_2 = []\n",
    "\n",
    "for i in range(1, 80):\n",
    "    random_unit = random.randint(1, 100)\n",
    "    sample_list_2.append(random_unit)\n",
    "\n",
    "set1 = set(sample_list_1)\n",
    "set2 = set(sample_list_2)\n",
    "\n",
    "sample_list_3 = []\n",
    "for i in set1:\n",
    "    if i not in set2:\n",
    "        sample_list_3.append(i)\n",
    "set3 = set(sample_list_3)\n",
    "\n",
    "sample_list_4 = []\n",
    "for i in set2:\n",
    "    if i not in set1:\n",
    "        sample_list_4.append(i)\n",
    "set4 = set(sample_list_4)\n",
    "\n",
    "sample_list_5 = []\n",
    "for i in set1:\n",
    "    if i in set2:\n",
    "        sample_list_5.append(i)\n",
    "set5 = set(sample_list_5)\n",
    "\n",
    "union_len = len(set1.union(set2))\n",
    "intersection_len = len(set1.intersection(set2))\n",
    "\n",
    "set6 = set()\n",
    "set6.update(set3, set5)\n",
    "\n",
    "# Verificamos si el conjunto 4 es subconjunto de los conjuntos 1 y 2\n",
    "if set2.issubset(set1):\n",
    "    print(\"set1 contiene a set2\")\n",
    "\n",
    "# Verificamos si el conjunto 3 es subconjunto de los conjuntos 1 y 2\n",
    "if set3.issubset(set1):\n",
    "    print(\"set1 contiene a set3\")\n"
   ]
  },
  {
   "cell_type": "markdown",
   "metadata": {},
   "source": [
    "#### Utilizando el método `union` de los Conjuntos de Python, agrega `set3`, `set4` y `set5`. Luego agrega `set1` y `set2`.\n",
    "\n",
    "#### Verifica si los valores agregados son iguales."
   ]
  },
  {
   "cell_type": "code",
   "execution_count": 24,
   "metadata": {},
   "outputs": [],
   "source": [
    "# tu codigo aquí\n",
    "\n",
    "# No comprendo lo que pide el ejercicio"
   ]
  },
  {
   "cell_type": "markdown",
   "metadata": {},
   "source": [
    "#### Utilizando el método `pop`, elimina el primer elemento de `set1`."
   ]
  },
  {
   "cell_type": "code",
   "execution_count": 25,
   "metadata": {},
   "outputs": [
    {
     "name": "stdout",
     "output_type": "stream",
     "text": [
      "{0, 1, 2, 3, 4, 5, 9, 10, 11, 12, 14, 15, 17, 18, 19, 20, 21, 22, 23, 24, 26, 27, 28, 29, 30, 31, 32, 33, 34, 35, 37, 38, 39, 40, 41, 42, 43, 44, 46, 47, 48, 49, 50, 52, 53, 54, 55, 57, 58, 59, 60, 61, 62, 63, 67, 68, 69, 70, 72, 73, 74, 76, 77, 78, 80, 81, 82, 83, 84, 85, 86, 87, 88, 89, 90, 91, 97, 98, 99, 100}\n",
      "{1, 2, 3, 4, 5, 9, 10, 11, 12, 14, 15, 17, 18, 19, 20, 21, 22, 23, 24, 26, 27, 28, 29, 30, 31, 32, 33, 34, 35, 37, 38, 39, 40, 41, 42, 43, 44, 46, 47, 48, 49, 50, 52, 53, 54, 55, 57, 58, 59, 60, 61, 62, 63, 67, 68, 69, 70, 72, 73, 74, 76, 77, 78, 80, 81, 82, 83, 84, 85, 86, 87, 88, 89, 90, 91, 97, 98, 99, 100}\n"
     ]
    }
   ],
   "source": [
    "# tu codigo aquí\n",
    "\n",
    "import random\n",
    "\n",
    "sample_list_1 = random.sample(range(101), 80)\n",
    "sample_list_2 = []\n",
    "\n",
    "for i in range(1, 80):\n",
    "    random_unit = random.randint(1, 100)\n",
    "    sample_list_2.append(random_unit)\n",
    "\n",
    "set1 = set(sample_list_1)\n",
    "set2 = set(sample_list_2)\n",
    "\n",
    "sample_list_3 = []\n",
    "for i in set1:\n",
    "    if i not in set2:\n",
    "        sample_list_3.append(i)\n",
    "set3 = set(sample_list_3)\n",
    "\n",
    "sample_list_4 = []\n",
    "for i in set2:\n",
    "    if i not in set1:\n",
    "        sample_list_4.append(i)\n",
    "set4 = set(sample_list_4)\n",
    "\n",
    "sample_list_5 = []\n",
    "for i in set1:\n",
    "    if i in set2:\n",
    "        sample_list_5.append(i)\n",
    "set5 = set(sample_list_5)\n",
    "\n",
    "union_len = len(set1.union(set2))\n",
    "intersection_len = len(set1.intersection(set2))\n",
    "\n",
    "set6 = set()\n",
    "set6.update(set3, set5)\n",
    "\n",
    "print(set1)\n",
    "\n",
    "# Creamos una lista temporal con los elementos del conjunto 1 y eliminamos el primer elemento\n",
    "# Actualizamos el conjunto 1 con los elementos de la lista temporal\n",
    "# Esto lo hacemos porque los conjuntos no son indexables y no podemos eliminar un elemento directamente\n",
    "lista_temporal = list(set1)\n",
    "elemento_borrado = lista_temporal.pop(0)\n",
    "set1 = set(lista_temporal)\n",
    "\n",
    "print(set1)"
   ]
  },
  {
   "cell_type": "markdown",
   "metadata": {},
   "source": [
    "#### Elimina cada elemento en la siguiente lista de `set1` si están presentes en el conjunto. Imprime los elementos restantes.\n",
    "\n",
    "```\n",
    "list_to_remove = [1, 9, 11, 19, 21, 29, 31, 39, 41, 49, 51, 59, 61, 69, 71, 79, 81, 89, 91, 99]\n",
    "```"
   ]
  },
  {
   "cell_type": "code",
   "execution_count": 26,
   "metadata": {},
   "outputs": [
    {
     "name": "stdout",
     "output_type": "stream",
     "text": [
      "{1, 3, 4, 5, 8, 9, 11, 13, 14, 15, 16, 17, 19, 20, 21, 22, 23, 24, 25, 26, 27, 28, 29, 30, 31, 32, 33, 34, 35, 36, 37, 38, 40, 41, 43, 47, 48, 49, 50, 51, 52, 53, 54, 55, 56, 58, 59, 60, 61, 62, 64, 65, 66, 67, 68, 69, 70, 71, 72, 73, 74, 78, 80, 81, 82, 84, 85, 86, 88, 89, 90, 91, 92, 93, 94, 95, 96, 97, 98, 99}\n",
      "\n",
      "[1, 9, 11, 19, 21, 29, 31, 39, 41, 49, 51, 59, 61, 69, 71, 79, 81, 89, 91, 99]\n",
      "\n",
      "{3, 4, 5, 8, 13, 14, 15, 16, 17, 20, 22, 23, 24, 25, 26, 27, 28, 30, 32, 33, 34, 35, 36, 37, 38, 40, 43, 47, 48, 50, 52, 53, 54, 55, 56, 58, 60, 62, 64, 65, 66, 67, 68, 70, 72, 73, 74, 78, 80, 82, 84, 85, 86, 88, 90, 92, 93, 94, 95, 96, 97, 98}\n",
      "\n"
     ]
    }
   ],
   "source": [
    "# tu codigo aquí\n",
    "\n",
    "import random\n",
    "\n",
    "sample_list_1 = random.sample(range(101), 80)\n",
    "set1 = set(sample_list_1)\n",
    "print(set1)\n",
    "print()\n",
    "\n",
    "list_to_remove = [1, 9, 11, 19, 21, 29, 31, 39, 41, 49, 51, 59, 61, 69, 71, 79, 81, 89, 91, 99]\n",
    "i = 0\n",
    "print(list_to_remove)\n",
    "print()\n",
    "\n",
    "# Creamos una lista temporal con los elementos del conjunto 1 porqué los conjuntos no son indexables\n",
    "temp = list(set1)\n",
    "\n",
    "# Eliminamos los elementos de la lista list_to_remove de la lista temporal\n",
    "for i in list_to_remove:\n",
    "    # Comprobamos si el elemento está en la lista temporal\n",
    "    if i in temp:\n",
    "        # Si está, lo eliminamos\n",
    "        temp.remove(i)\n",
    "    i += 1\n",
    "\n",
    "# Actualizamos el conjunto 1 con los elementos de la lista temporal\n",
    "set1 = set(temp)\n",
    "print(set1)\n",
    "print()"
   ]
  },
  {
   "cell_type": "markdown",
   "metadata": {},
   "source": [
    "## BONUS - Desafío 3: Diccionarios\n",
    "\n",
    "En este desafío practicarás cómo manipular diccionarios en Python. Antes de empezar este desafío, te animamos a revisar los [Ejemplos y Métodos de Diccionarios en Python](https://www.w3schools.com/python/python_dictionaries.asp) de W3School.\n",
    "\n",
    "Lo primero que practicarás es cómo ordenar las claves en un diccionario. A diferencia del objeto de lista, el diccionario de Python no tiene un método *sort* incorporado. Necesitarás usar bucles FOR para ordenar los diccionarios ya sea por clave o por valor.\n",
    "\n",
    "El diccionario a continuación es un resumen de la frecuencia de palabras de la canción *Shape of You* de Ed Sheeran. Cada clave es una palabra en la letra y el valor es el número de veces que esa palabra aparece en la letra."
   ]
  },
  {
   "cell_type": "code",
   "execution_count": 27,
   "metadata": {},
   "outputs": [],
   "source": [
    "word_freq = {'love': 25, 'conversation': 1, 'every': 6, \"we're\": 1, 'plate': 1, 'sour': 1, 'jukebox': 1, 'now': 11, 'taxi': 1, 'fast': 1, 'bag': 1, 'man': 1, 'push': 3, 'baby': 14, 'going': 1, 'you': 16, \"don't\": 2, 'one': 1, 'mind': 2, 'backseat': 1, 'friends': 1, 'then': 3, 'know': 2, 'take': 1, 'play': 1, 'okay': 1, 'so': 2, 'begin': 1, 'start': 2, 'over': 1, 'body': 17, 'boy': 2, 'just': 1, 'we': 7, 'are': 1, 'girl': 2, 'tell': 1, 'singing': 2, 'drinking': 1, 'put': 3, 'our': 1, 'where': 1, \"i'll\": 1, 'all': 1, \"isn't\": 1, 'make': 1, 'lover': 1, 'get': 1, 'radio': 1, 'give': 1, \"i'm\": 23, 'like': 10, 'can': 1, 'doing': 2, 'with': 22, 'club': 1, 'come': 37, 'it': 1, 'somebody': 2, 'handmade': 2, 'out': 1, 'new': 6, 'room': 3, 'chance': 1, 'follow': 6, 'in': 27, 'may': 2, 'brand': 6, 'that': 2, 'magnet': 3, 'up': 3, 'first': 1, 'and': 23, 'pull': 3, 'of': 6, 'table': 1, 'much': 2, 'last': 3, 'i': 6, 'thrifty': 1, 'grab': 2, 'was': 2, 'driver': 1, 'slow': 1, 'dance': 1, 'the': 18, 'say': 2, 'trust': 1, 'family': 1, 'week': 1, 'date': 1, 'me': 10, 'do': 3, 'waist': 2, 'smell': 3, 'day': 6, 'although': 3, 'your': 21, 'leave': 1, 'want': 2, \"let's\": 2, 'lead': 6, 'at': 1, 'hand': 1, 'how': 1, 'talk': 4, 'not': 2, 'eat': 1, 'falling': 3, 'about': 1, 'story': 1, 'sweet': 1, 'best': 1, 'crazy': 2, 'let': 1, 'too': 5, 'van': 1, 'shots': 1, 'go': 2, 'to': 2, 'a': 8, 'my': 33, 'is': 5, 'place': 1, 'find': 1, 'shape': 6, 'on': 40, 'kiss': 1, 'were': 3, 'night': 3, 'heart': 3, 'for': 3, 'discovering': 6, 'something': 6, 'be': 16, 'bedsheets': 3, 'fill': 2, 'hours': 2, 'stop': 1, 'bar': 1}"
   ]
  },
  {
   "cell_type": "markdown",
   "metadata": {},
   "source": [
    "#### Ordena las claves de `word_freq` de forma ascendente.\n",
    "\n",
    "Por favor, crea un nuevo diccionario llamado `word_freq2` basado en `word_freq` con las claves ordenadas de forma ascendente.\n",
    "\n",
    "Hay varias formas de lograr ese objetivo, pero muchas de ellas van más allá de lo que hemos cubierto hasta ahora en el curso. Hay una forma que describiremos empleando lo que has aprendido. Por favor, siéntete libre de usar esta forma o cualquier otra que desees.\n",
    "\n",
    "1. Primero extrae las claves de `word_freq` y conviértelas en una lista llamada `keys`.\n",
    "\n",
    "1. Ordena la lista `keys`.\n",
    "\n",
    "1. Crea un diccionario vacío `word_freq2`.\n",
    "\n",
    "1. Usa un bucle FOR para iterar cada valor en `keys`. Para cada clave iterada, encuentra el valor correspondiente en `word_freq` e inserta el par clave-valor en `word_freq2`.\n",
    "\n",
    "📖 [Documentación para un bucle for](https://docs.python.org/3/reference/compound_stmts.html#for)\n",
    "\n",
    "Imprime `word_freq2` para examinar sus claves y valores. Tu salida debería ser:\n",
    "\n",
    "```python\n",
    "{'a': 8, 'about': 1, 'all': 1, 'although': 3, 'and': 23, 'are': 1, 'at': 1, 'baby': 14, 'backseat': 1, 'bag': 1, 'bar': 1, 'be': 16, 'bedsheets': 3, 'begin': 1, 'best': 1, 'body': 17, 'boy': 2, 'brand': 6, 'can': 1, 'chance': 1, 'club': 1, 'come': 37, 'conversation': 1, 'crazy': 2, 'dance': 1, 'date': 1, 'day': 6, 'discovering': 6, 'do': 3, 'doing': 2, \"don't\": 2, 'drinking': 1, 'driver': 1, 'eat': 1, 'every': 6, 'falling': 3, 'family': 1, 'fast': 1, 'fill': 2, 'find': 1, 'first': 1, 'follow': 6, 'for': 3, 'friends': 1, 'get': 1, 'girl': 2, 'give': 1, 'go': 2, 'going': 1, 'grab': 2, 'hand': 1, 'handmade': 2, 'heart': 3, 'hours': 2, 'how': 1, 'i': 6, \"i'll\": 1, \"i'm\": 23, 'in': 27, 'is': 5, \"isn't\": 1, 'it': 1, 'jukebox': 1, 'just': 1, 'kiss': 1, 'know': 2, 'last': 3, 'lead': 6, 'leave': 1, 'let': 1, \"let's\": 2, 'like': 10, 'love': 25, 'lover': 1, 'magnet': 3, 'make': 1, 'man': 1, 'may': 2, 'me': 10, 'mind': 2, 'much': 2, 'my': 33, 'new': 6, 'night': 3, 'not': 2, 'now': 11, 'of': 6, 'okay': 1, 'on': 40, 'one': 1, 'our': 1, 'out': 1, 'over': 1, 'place': 1, 'plate': 1, 'play': 1, 'pull': 3, 'push': 3, 'put': 3, 'radio': 1, 'room': 3, 'say': 2, 'shape': 6, 'shots': 1, 'singing': 2, 'slow': 1, 'smell': 3, 'so': 2, 'somebody': 2, 'something': 6, 'sour': 1, 'start': 2, 'stop': 1, 'story': 1, 'sweet': 1, 'table': 1, 'take': 1, 'talk': 4, 'taxi': 1, 'tell': 1, 'that': 2, 'the': 18, 'then': 3, 'thrifty': 1, 'to': 2, 'too': 5, 'trust': 1, 'up': 3, 'van': 1, 'waist': 2, 'want': 2, 'was': 2, 'we': 7, \"we're\": 1, 'week': 1, 'were': 3, 'where': 1, 'with': 22, 'you': 16, 'your': 21}\n",
    "```"
   ]
  },
  {
   "cell_type": "code",
   "execution_count": 28,
   "metadata": {},
   "outputs": [],
   "source": [
    "# Tu codigo aquí"
   ]
  },
  {
   "cell_type": "markdown",
   "metadata": {},
   "source": [
    "#### Ordena los valores de `word_freq` de forma ascendente.\n",
    "\n",
    "Ordenar los valores de un diccionario es más complicado que ordenar las claves porque los valores de un diccionario no son únicos. Por lo tanto, no puedes usar la misma forma en que ordenaste las claves del diccionario para ordenar los valores del diccionario.\n",
    "\n",
    "La forma de ordenar un diccionario por valor es utilizar las funciones `sorted` y `operator.itemgetter`. El siguiente fragmento de código se te proporciona para que lo pruebes. Te dará una lista de tuplas en la que cada tupla contiene la clave y el valor de un elemento del diccionario. Y la lista está ordenada basada en el valor del diccionario ( [referencia](http://thomas-cokelaer.info/blog/2017/12/how-to-sort-a-dictionary-by-values-in-python/)\n",
    ").\n",
    "\n",
    "```python\n",
    "import operator\n",
    "sorted_tups = sorted(word_freq.items(), key=operator.itemgetter(1))\n",
    "print(sorted_tups)\n",
    "```\n",
    "\n",
    "Por lo tanto, los pasos para ordenar `word_freq` por valor son:\n",
    "\n",
    "* Utilizando `sorted` y `operator.itemgetter`, obtén una lista de tuplas de los pares clave-valor del diccionario que está ordenada por el valor.\n",
    "\n",
    "* Crea un diccionario vacío llamado `word_freq2`.\n",
    "\n",
    "* Itera la lista de tuplas. Inserta cada par clave-valor en `word_freq2` como un objeto.\n",
    "\n",
    "Imprime `word_freq2` para confirmar que tu diccionario tiene sus valores ordenados. Tu salida debería ser:\n",
    "\n",
    "```python\n",
    "{'conversation': 1, \"we're\": 1, 'plate': 1, 'sour': 1, 'jukebox': 1, 'taxi': 1, 'fast': 1, 'bag': 1, 'man': 1, 'going': 1, 'one': 1, 'backseat': 1, 'friends': 1, 'take': 1, 'play': 1, 'okay': 1, 'begin': 1, 'over': 1, 'just': 1, 'are': 1, 'tell': 1, 'drinking': 1, 'our': 1, 'where': 1, \"i'll\": 1, 'all': 1, \"isn't\": 1, 'make': 1, 'lover': 1, 'get': 1, 'radio': 1, 'give': 1, 'can': 1, 'club': 1, 'it': 1, 'out': 1, 'chance': 1, 'first': 1, 'table': 1, 'thrifty': 1, 'driver': 1, 'slow': 1, 'dance': 1, 'trust': 1, 'family': 1, 'week': 1, 'date': 1, 'leave': 1, 'at': 1, 'hand': 1, 'how': 1, 'eat': 1, 'about': 1, 'story': 1, 'sweet': 1, 'best': 1, 'let': 1, 'van': 1, 'shots': 1, 'place': 1, 'find': 1, 'kiss': 1, 'stop': 1, 'bar': 1, \"don't\": 2, 'mind': 2, 'know': 2, 'so': 2, 'start': 2, 'boy': 2, 'girl': 2, 'singing': 2, 'doing': 2, 'somebody': 2, 'handmade': 2, 'may': 2, 'that': 2, 'much': 2, 'grab': 2, 'was': 2, 'say': 2, 'waist': 2, 'want': 2, \"let's\": 2, 'not': 2, 'crazy': 2, 'go': 2, 'to': 2, 'fill': 2, 'hours': 2, 'push': 3, 'then': 3, 'put': 3, 'room': 3, 'magnet': 3, 'up': 3, 'pull': 3, 'last': 3, 'do': 3, 'smell': 3, 'although': 3, 'falling': 3, 'were': 3, 'night': 3, 'heart': 3, 'for': 3, 'bedsheets': 3, 'talk': 4, 'too': 5, 'is': 5, 'every': 6, 'new': 6, 'follow': 6, 'brand': 6, 'of': 6, 'i': 6, 'day': 6, 'lead': 6, 'shape': 6, 'discovering': 6, 'something': 6, 'we': 7, 'a': 8, 'like': 10, 'me': 10, 'now': 11, 'baby': 14, 'you': 16, 'be': 16, 'body': 17, 'the': 18, 'your': 21, 'with': 22, \"i'm\": 23, 'and': 23, 'love': 25, 'in': 27, 'my': 33, 'come': 37, 'on': 40}\n",
    "```"
   ]
  },
  {
   "cell_type": "code",
   "execution_count": 29,
   "metadata": {},
   "outputs": [],
   "source": [
    "# Tu codigo aquí"
   ]
  }
 ],
 "metadata": {
  "kernelspec": {
   "display_name": "Python 3 (ipykernel)",
   "language": "python",
   "name": "python3"
  },
  "language_info": {
   "codemirror_mode": {
    "name": "ipython",
    "version": 3
   },
   "file_extension": ".py",
   "mimetype": "text/x-python",
   "name": "python",
   "nbconvert_exporter": "python",
   "pygments_lexer": "ipython3",
   "version": "3.10.7"
  },
  "vscode": {
   "interpreter": {
    "hash": "aee8b7b246df8f9039afb4144a1f6fd8d2ca17a180786b69acc140d282b71a49"
   }
  }
 },
 "nbformat": 4,
 "nbformat_minor": 2
}
