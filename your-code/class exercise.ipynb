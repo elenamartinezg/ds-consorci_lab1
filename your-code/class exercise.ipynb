{
 "cells": [
  {
   "cell_type": "code",
   "execution_count": null,
   "id": "0cf8cca7",
   "metadata": {},
   "outputs": [],
   "source": []
  },
  {
   "cell_type": "code",
   "execution_count": null,
   "id": "7e3d49a3",
   "metadata": {},
   "outputs": [],
   "source": []
  },
  {
   "cell_type": "code",
   "execution_count": 1,
   "id": "f723244c",
   "metadata": {},
   "outputs": [
    {
     "name": "stdout",
     "output_type": "stream",
     "text": [
      "Hello World\n"
     ]
    }
   ],
   "source": [
    "print (\"Hello World\")"
   ]
  },
  {
   "cell_type": "code",
   "execution_count": 3,
   "id": "be10925d",
   "metadata": {},
   "outputs": [],
   "source": [
    "a=1"
   ]
  },
  {
   "cell_type": "code",
   "execution_count": 4,
   "id": "3324d374",
   "metadata": {},
   "outputs": [],
   "source": [
    "b=2"
   ]
  },
  {
   "cell_type": "code",
   "execution_count": 5,
   "id": "0a96c58a",
   "metadata": {},
   "outputs": [
    {
     "data": {
      "text/plain": [
       "3"
      ]
     },
     "execution_count": 5,
     "metadata": {},
     "output_type": "execute_result"
    }
   ],
   "source": [
    "a+b"
   ]
  },
  {
   "cell_type": "code",
   "execution_count": 6,
   "id": "a028bb26",
   "metadata": {},
   "outputs": [
    {
     "data": {
      "text/plain": [
       "int"
      ]
     },
     "execution_count": 6,
     "metadata": {},
     "output_type": "execute_result"
    }
   ],
   "source": [
    "type(a)"
   ]
  },
  {
   "cell_type": "code",
   "execution_count": 7,
   "id": "0e4f59c4",
   "metadata": {},
   "outputs": [],
   "source": [
    "list_ = [1,2,3,4,5,6]"
   ]
  },
  {
   "cell_type": "markdown",
   "id": "73db166a",
   "metadata": {},
   "source": [
    "Instructions:\n",
    "\n",
    "Create two new variables, x and y, and assign any integer number to each of them.\n",
    "Perform the following operations using these variables:\n",
    "Addition\n",
    "Subtraction\n",
    "Multiplication\n",
    "Division and check the type of result\n",
    "Floor division and check the type of result\n",
    "Find the modulo (remainder of division)\n",
    "Use a for loop to iterate over a list of numbers from 1 to 10 and print whether each number is even or odd.\n",
    "Don't forget to print the results to verify your solutions."
   ]
  },
  {
   "cell_type": "markdown",
   "id": "e08a4d5d",
   "metadata": {},
   "source": [
    "Exercise\n",
    "Now it's your turn to try converting from int to str. Perform the following tasks:\n",
    "\n",
    "Create a variable age and assign your age as an integer.\n",
    "Convert the variable age to a string using the str() function.\n",
    "Concatenate the string \"My age is: \" with the variable age (now a string) and store the result in a new variable called message.\n",
    "Print the variable message to the console."
   ]
  },
  {
   "cell_type": "code",
   "execution_count": 8,
   "id": "b001db5c",
   "metadata": {},
   "outputs": [],
   "source": [
    "age = 28"
   ]
  },
  {
   "cell_type": "code",
   "execution_count": 9,
   "id": "c873cfe5",
   "metadata": {},
   "outputs": [
    {
     "data": {
      "text/plain": [
       "int"
      ]
     },
     "execution_count": 9,
     "metadata": {},
     "output_type": "execute_result"
    }
   ],
   "source": [
    "type (age)"
   ]
  },
  {
   "cell_type": "code",
   "execution_count": 10,
   "id": "2ef08ff3",
   "metadata": {},
   "outputs": [],
   "source": [
    "age = str(age)"
   ]
  },
  {
   "cell_type": "code",
   "execution_count": 11,
   "id": "5b6e30f7",
   "metadata": {},
   "outputs": [
    {
     "data": {
      "text/plain": [
       "str"
      ]
     },
     "execution_count": 11,
     "metadata": {},
     "output_type": "execute_result"
    }
   ],
   "source": [
    "type(age)"
   ]
  },
  {
   "cell_type": "code",
   "execution_count": 12,
   "id": "79839f98",
   "metadata": {},
   "outputs": [],
   "source": [
    "message = \"my age is : \" + age "
   ]
  },
  {
   "cell_type": "code",
   "execution_count": 13,
   "id": "bfb732ab",
   "metadata": {},
   "outputs": [
    {
     "data": {
      "text/plain": [
       "'my age is : 28'"
      ]
     },
     "execution_count": 13,
     "metadata": {},
     "output_type": "execute_result"
    }
   ],
   "source": [
    "message"
   ]
  },
  {
   "cell_type": "code",
   "execution_count": 14,
   "id": "f3c82a89",
   "metadata": {},
   "outputs": [
    {
     "name": "stdout",
     "output_type": "stream",
     "text": [
      "whenewna\n"
     ]
    }
   ],
   "source": [
    "saludo=input()"
   ]
  },
  {
   "cell_type": "code",
   "execution_count": null,
   "id": "8cd90d5b",
   "metadata": {},
   "outputs": [],
   "source": []
  },
  {
   "cell_type": "code",
   "execution_count": 15,
   "id": "1fafb134",
   "metadata": {},
   "outputs": [
    {
     "name": "stdout",
     "output_type": "stream",
     "text": [
      "introduce tu edad28\n"
     ]
    }
   ],
   "source": [
    "edad=input(\"introduce tu edad\")"
   ]
  },
  {
   "cell_type": "code",
   "execution_count": 16,
   "id": "eaba5939",
   "metadata": {},
   "outputs": [
    {
     "data": {
      "text/plain": [
       "'28'"
      ]
     },
     "execution_count": 16,
     "metadata": {},
     "output_type": "execute_result"
    }
   ],
   "source": [
    "edad"
   ]
  },
  {
   "cell_type": "code",
   "execution_count": null,
   "id": "75481c77",
   "metadata": {},
   "outputs": [],
   "source": []
  }
 ],
 "metadata": {
  "kernelspec": {
   "display_name": "Python 3 (ipykernel)",
   "language": "python",
   "name": "python3"
  },
  "language_info": {
   "codemirror_mode": {
    "name": "ipython",
    "version": 3
   },
   "file_extension": ".py",
   "mimetype": "text/x-python",
   "name": "python",
   "nbconvert_exporter": "python",
   "pygments_lexer": "ipython3",
   "version": "3.9.13"
  }
 },
 "nbformat": 4,
 "nbformat_minor": 5
}
