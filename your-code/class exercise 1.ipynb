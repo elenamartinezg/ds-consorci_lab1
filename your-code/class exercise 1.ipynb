{
 "cells": [
  {
   "cell_type": "markdown",
   "id": "3f5e5f27",
   "metadata": {},
   "source": [
    "Exercise\n",
    "\n",
    "Now that we've learned several ways to format strings in Python, it's time to put our knowledge into practice. In this exercise, we'll ask you to use the input() function to request certain information from the user, and then format that information using at least two of the methods we've discussed previously (concatenation with '+', using commas, f-strings, or the .format() method).\n",
    "\n",
    "Instructions:\n",
    "\n",
    "Ask the user to enter their name and age using the input() function.\n",
    "Create a greeting message that includes the user's name and age, using two different string formatting methods.\n",
    "Print both messages on the console to verify your work."
   ]
  },
  {
   "cell_type": "code",
   "execution_count": 1,
   "id": "895d1893",
   "metadata": {},
   "outputs": [],
   "source": [
    "age = 25"
   ]
  },
  {
   "cell_type": "code",
   "execution_count": 3,
   "id": "ce515d09",
   "metadata": {},
   "outputs": [],
   "source": [
    "name = \"Katy\""
   ]
  },
  {
   "cell_type": "code",
   "execution_count": 7,
   "id": "86b5b9f9",
   "metadata": {},
   "outputs": [],
   "source": [
    "greeting = \"My name is {}\" + \"I'm {} years old\" . format(name,age)"
   ]
  },
  {
   "cell_type": "code",
   "execution_count": 8,
   "id": "260e619c",
   "metadata": {},
   "outputs": [
    {
     "name": "stdout",
     "output_type": "stream",
     "text": [
      "My name is {}I'm Katy years old\n"
     ]
    }
   ],
   "source": [
    "print (greeting)"
   ]
  },
  {
   "cell_type": "code",
   "execution_count": 9,
   "id": "38558251",
   "metadata": {},
   "outputs": [
    {
     "name": "stderr",
     "output_type": "stream",
     "text": [
      "<>:1: SyntaxWarning: 'str' object is not callable; perhaps you missed a comma?\n",
      "<>:1: SyntaxWarning: 'str' object is not callable; perhaps you missed a comma?\n",
      "/var/folders/31/2t1n00ls5kq101v6vw8zcthm0000gn/T/ipykernel_2282/823781336.py:1: SyntaxWarning: 'str' object is not callable; perhaps you missed a comma?\n",
      "  greeting = \"Hello my name is {} and my age is {}\" (age) .format(name,age\n"
     ]
    },
    {
     "ename": "TypeError",
     "evalue": "'str' object is not callable",
     "output_type": "error",
     "traceback": [
      "\u001b[0;31m---------------------------------------------------------------------------\u001b[0m",
      "\u001b[0;31mTypeError\u001b[0m                                 Traceback (most recent call last)",
      "\u001b[0;32m/var/folders/31/2t1n00ls5kq101v6vw8zcthm0000gn/T/ipykernel_2282/823781336.py\u001b[0m in \u001b[0;36m<module>\u001b[0;34m\u001b[0m\n\u001b[0;32m----> 1\u001b[0;31m greeting = \"Hello my name is {} and my age is {}\" (age) .format(name,age\n\u001b[0m\u001b[1;32m      2\u001b[0m                                                             )\n",
      "\u001b[0;31mTypeError\u001b[0m: 'str' object is not callable"
     ]
    }
   ],
   "source": [
    "greeting = \"Hello my name is {} and my age is {}\" (age) .format(name,age\n",
    "                                         )"
   ]
  },
  {
   "cell_type": "code",
   "execution_count": 12,
   "id": "cecf90b6",
   "metadata": {},
   "outputs": [],
   "source": [
    "Greeting = \"Hello my name is \" + name + \" and my age is \" + str(age)"
   ]
  },
  {
   "cell_type": "code",
   "execution_count": 13,
   "id": "f06dfd65",
   "metadata": {},
   "outputs": [
    {
     "name": "stdout",
     "output_type": "stream",
     "text": [
      "Hello my name is Katy and my age is 25\n"
     ]
    }
   ],
   "source": [
    "print(Greeting)"
   ]
  },
  {
   "cell_type": "markdown",
   "id": "1fc13e7f",
   "metadata": {},
   "source": [
    "Create a list called months that contains the names of all the months of the year.\n",
    "Use the append method to add an extra element to the list that is \"End of Year\".\n",
    "Use the remove method to delete this last element you added.\n",
    "Using slicing, create a new list that contains only the months of the second quarter (April, May, and June).\n",
    "Use the reverse method to reverse the order of the elements in the original list of months.\n",
    "Find the appropriate method to sort the list of months in alphabetical order and apply it.\n",
    "Use the index method to find the position of your birth month in the list sorted alphabetically.\n"
   ]
  },
  {
   "cell_type": "code",
   "execution_count": 30,
   "id": "64dd9675",
   "metadata": {},
   "outputs": [],
   "source": [
    "Month = ['jan' , 'feb', 'mar', 'apr', 'may', 'jun', 'jul', 'aug', 'sep, oct', 'nov', 'dec']"
   ]
  },
  {
   "cell_type": "code",
   "execution_count": 31,
   "id": "6c2ef3d5",
   "metadata": {},
   "outputs": [],
   "source": [
    "Month.append('end of the year')"
   ]
  },
  {
   "cell_type": "code",
   "execution_count": 32,
   "id": "fe3d34bb",
   "metadata": {},
   "outputs": [
    {
     "data": {
      "text/plain": [
       "['jan',\n",
       " 'feb',\n",
       " 'mar',\n",
       " 'apr',\n",
       " 'may',\n",
       " 'jun',\n",
       " 'jul',\n",
       " 'aug',\n",
       " 'sep, oct',\n",
       " 'nov',\n",
       " 'dec',\n",
       " 'end of the year']"
      ]
     },
     "execution_count": 32,
     "metadata": {},
     "output_type": "execute_result"
    }
   ],
   "source": [
    "Month"
   ]
  },
  {
   "cell_type": "code",
   "execution_count": 33,
   "id": "4ca03974",
   "metadata": {},
   "outputs": [
    {
     "data": {
      "text/plain": [
       "'mar'"
      ]
     },
     "execution_count": 33,
     "metadata": {},
     "output_type": "execute_result"
    }
   ],
   "source": [
    "Month.pop(2)"
   ]
  },
  {
   "cell_type": "code",
   "execution_count": 34,
   "id": "7dba7d59",
   "metadata": {},
   "outputs": [
    {
     "data": {
      "text/plain": [
       "['jan',\n",
       " 'feb',\n",
       " 'apr',\n",
       " 'may',\n",
       " 'jun',\n",
       " 'jul',\n",
       " 'aug',\n",
       " 'sep, oct',\n",
       " 'nov',\n",
       " 'dec',\n",
       " 'end of the year']"
      ]
     },
     "execution_count": 34,
     "metadata": {},
     "output_type": "execute_result"
    }
   ],
   "source": [
    "Month"
   ]
  },
  {
   "cell_type": "code",
   "execution_count": 35,
   "id": "4396d8a6",
   "metadata": {},
   "outputs": [
    {
     "data": {
      "text/plain": [
       "['apr']"
      ]
     },
     "execution_count": 35,
     "metadata": {},
     "output_type": "execute_result"
    }
   ],
   "source": [
    "Month[2:3:1]"
   ]
  },
  {
   "cell_type": "code",
   "execution_count": 36,
   "id": "cea3f348",
   "metadata": {},
   "outputs": [],
   "source": [
    "Month.reverse()"
   ]
  },
  {
   "cell_type": "code",
   "execution_count": 37,
   "id": "ce8666cf",
   "metadata": {},
   "outputs": [
    {
     "data": {
      "text/plain": [
       "['end of the year',\n",
       " 'dec',\n",
       " 'nov',\n",
       " 'sep, oct',\n",
       " 'aug',\n",
       " 'jul',\n",
       " 'jun',\n",
       " 'may',\n",
       " 'apr',\n",
       " 'feb',\n",
       " 'jan']"
      ]
     },
     "execution_count": 37,
     "metadata": {},
     "output_type": "execute_result"
    }
   ],
   "source": [
    "Month"
   ]
  },
  {
   "cell_type": "code",
   "execution_count": 38,
   "id": "75111d95",
   "metadata": {},
   "outputs": [],
   "source": [
    "Month.sort()"
   ]
  },
  {
   "cell_type": "code",
   "execution_count": 39,
   "id": "bff78a99",
   "metadata": {},
   "outputs": [
    {
     "data": {
      "text/plain": [
       "['apr',\n",
       " 'aug',\n",
       " 'dec',\n",
       " 'end of the year',\n",
       " 'feb',\n",
       " 'jan',\n",
       " 'jul',\n",
       " 'jun',\n",
       " 'may',\n",
       " 'nov',\n",
       " 'sep, oct']"
      ]
     },
     "execution_count": 39,
     "metadata": {},
     "output_type": "execute_result"
    }
   ],
   "source": [
    "Month"
   ]
  },
  {
   "cell_type": "code",
   "execution_count": 40,
   "id": "a977e072",
   "metadata": {},
   "outputs": [],
   "source": [
    "Month.sort()"
   ]
  },
  {
   "cell_type": "code",
   "execution_count": 41,
   "id": "a4c4db62",
   "metadata": {},
   "outputs": [
    {
     "data": {
      "text/plain": [
       "['apr',\n",
       " 'aug',\n",
       " 'dec',\n",
       " 'end of the year',\n",
       " 'feb',\n",
       " 'jan',\n",
       " 'jul',\n",
       " 'jun',\n",
       " 'may',\n",
       " 'nov',\n",
       " 'sep, oct']"
      ]
     },
     "execution_count": 41,
     "metadata": {},
     "output_type": "execute_result"
    }
   ],
   "source": [
    "Month"
   ]
  },
  {
   "cell_type": "code",
   "execution_count": 42,
   "id": "109fedf2",
   "metadata": {},
   "outputs": [],
   "source": [
    "inventario = {\n",
    "    \"camisa negra\": (30, 20.50),\n",
    "    \"pantalones\": (20, 30.00),\n",
    "    \"zapatos\": (50,80.00)\n",
    "}"
   ]
  },
  {
   "cell_type": "code",
   "execution_count": 45,
   "id": "430ff4fd",
   "metadata": {},
   "outputs": [
    {
     "name": "stdout",
     "output_type": "stream",
     "text": [
      "escribe producto y cantidadcamisa 2\n"
     ]
    }
   ],
   "source": [
    "pedido = input(\"escribe producto y cantidad\")"
   ]
  },
  {
   "cell_type": "code",
   "execution_count": 46,
   "id": "cca5c401",
   "metadata": {},
   "outputs": [
    {
     "data": {
      "text/plain": [
       "'camisa 2'"
      ]
     },
     "execution_count": 46,
     "metadata": {},
     "output_type": "execute_result"
    }
   ],
   "source": [
    "pedido"
   ]
  },
  {
   "cell_type": "code",
   "execution_count": 47,
   "id": "72735fa5",
   "metadata": {},
   "outputs": [],
   "source": [
    "a = 10"
   ]
  },
  {
   "cell_type": "code",
   "execution_count": 48,
   "id": "6eecd3c6",
   "metadata": {},
   "outputs": [
    {
     "name": "stdout",
     "output_type": "stream",
     "text": [
      "890\n"
     ]
    }
   ],
   "source": [
    "salutation = input()"
   ]
  },
  {
   "cell_type": "code",
   "execution_count": null,
   "id": "40d6cd71",
   "metadata": {},
   "outputs": [],
   "source": []
  }
 ],
 "metadata": {
  "kernelspec": {
   "display_name": "Python 3 (ipykernel)",
   "language": "python",
   "name": "python3"
  },
  "language_info": {
   "codemirror_mode": {
    "name": "ipython",
    "version": 3
   },
   "file_extension": ".py",
   "mimetype": "text/x-python",
   "name": "python",
   "nbconvert_exporter": "python",
   "pygments_lexer": "ipython3",
   "version": "3.9.13"
  }
 },
 "nbformat": 4,
 "nbformat_minor": 5
}
