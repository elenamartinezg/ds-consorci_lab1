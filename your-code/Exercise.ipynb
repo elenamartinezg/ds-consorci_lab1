{
 "cells": [
  {
   "cell_type": "code",
   "execution_count": 2,
   "id": "ab849913",
   "metadata": {},
   "outputs": [
    {
     "name": "stdout",
     "output_type": "stream",
     "text": [
      "Hello World\n"
     ]
    }
   ],
   "source": [
    "print (\"Hello World\")"
   ]
  },
  {
   "cell_type": "markdown",
   "id": "04d1edb8",
   "metadata": {},
   "source": [
    "# Header1\n",
    "## Header2 \n",
    "### Header3\n",
    "#### Header4\n",
    "\n",
    "**Bold**\n",
    "*Italic*\n",
    "a blank line is a graph\n",
    "\n",
    "This is a new line"
   ]
  },
  {
   "cell_type": "markdown",
   "id": "4d888390",
   "metadata": {},
   "source": [
    "[this is youtube] (https://www.youtube.com/)"
   ]
  },
  {
   "cell_type": "code",
   "execution_count": 15,
   "id": "efb54b34",
   "metadata": {},
   "outputs": [],
   "source": [
    "link = \"https://www.youtube.com/\""
   ]
  },
  {
   "cell_type": "markdown",
   "id": "4f5feadb",
   "metadata": {},
   "source": [
    "[YouTube](https://www.youtube.com/) - This is a YouTube link"
   ]
  },
  {
   "cell_type": "markdown",
   "id": "5a7e69bf",
   "metadata": {},
   "source": [
    "[YouTube](https://www.youtube.com/)"
   ]
  },
  {
   "cell_type": "markdown",
   "id": "660ab942",
   "metadata": {},
   "source": [
    "![this image won't render](https://wallpapers.com/images/high/beautiful-amazing-nv66eyiniq5gowsy.webp)"
   ]
  },
  {
   "cell_type": "code",
   "execution_count": 19,
   "id": "efbfc4fc",
   "metadata": {},
   "outputs": [],
   "source": [
    "whole_number = 4"
   ]
  },
  {
   "cell_type": "code",
   "execution_count": 22,
   "id": "b76dddca",
   "metadata": {},
   "outputs": [
    {
     "name": "stdout",
     "output_type": "stream",
     "text": [
      "4\n"
     ]
    }
   ],
   "source": [
    "print (whole_number)"
   ]
  },
  {
   "cell_type": "code",
   "execution_count": 23,
   "id": "631f5dea",
   "metadata": {},
   "outputs": [
    {
     "data": {
      "text/plain": [
       "20"
      ]
     },
     "execution_count": 23,
     "metadata": {},
     "output_type": "execute_result"
    }
   ],
   "source": [
    "a = 10\n",
    "b = 20\n",
    "a\n",
    "b"
   ]
  },
  {
   "cell_type": "code",
   "execution_count": 24,
   "id": "77947a0d",
   "metadata": {},
   "outputs": [
    {
     "name": "stdout",
     "output_type": "stream",
     "text": [
      "10\n"
     ]
    },
    {
     "data": {
      "text/plain": [
       "20"
      ]
     },
     "execution_count": 24,
     "metadata": {},
     "output_type": "execute_result"
    }
   ],
   "source": [
    "a = 10\n",
    "b = 20\n",
    "print(a)\n",
    "b"
   ]
  },
  {
   "cell_type": "code",
   "execution_count": 25,
   "id": "91b92c45",
   "metadata": {},
   "outputs": [
    {
     "ename": "SyntaxError",
     "evalue": "invalid syntax (3950847182.py, line 1)",
     "output_type": "error",
     "traceback": [
      "\u001b[0;36m  File \u001b[0;32m\"/var/folders/31/2t1n00ls5kq101v6vw8zcthm0000gn/T/ipykernel_3510/3950847182.py\"\u001b[0;36m, line \u001b[0;32m1\u001b[0m\n\u001b[0;31m    class(a)\u001b[0m\n\u001b[0m         ^\u001b[0m\n\u001b[0;31mSyntaxError\u001b[0m\u001b[0;31m:\u001b[0m invalid syntax\n"
     ]
    }
   ],
   "source": [
    "class(a)"
   ]
  },
  {
   "cell_type": "code",
   "execution_count": 26,
   "id": "963bee9d",
   "metadata": {},
   "outputs": [
    {
     "data": {
      "text/plain": [
       "int"
      ]
     },
     "execution_count": 26,
     "metadata": {},
     "output_type": "execute_result"
    }
   ],
   "source": [
    "type(a)"
   ]
  },
  {
   "cell_type": "code",
   "execution_count": 27,
   "id": "2d309429",
   "metadata": {},
   "outputs": [],
   "source": [
    "a = 2.45"
   ]
  },
  {
   "cell_type": "code",
   "execution_count": 28,
   "id": "e57450b1",
   "metadata": {},
   "outputs": [
    {
     "data": {
      "text/plain": [
       "float"
      ]
     },
     "execution_count": 28,
     "metadata": {},
     "output_type": "execute_result"
    }
   ],
   "source": [
    "type(a)"
   ]
  },
  {
   "cell_type": "code",
   "execution_count": 30,
   "id": "a9b527d3",
   "metadata": {},
   "outputs": [],
   "source": [
    "b = 10.3"
   ]
  },
  {
   "cell_type": "code",
   "execution_count": 31,
   "id": "2da91084",
   "metadata": {},
   "outputs": [],
   "source": [
    "# type(b)"
   ]
  },
  {
   "cell_type": "code",
   "execution_count": 32,
   "id": "902a9414",
   "metadata": {},
   "outputs": [],
   "source": [
    "a = 89\n",
    "b = 20.8\n",
    "c = 40.21"
   ]
  },
  {
   "cell_type": "code",
   "execution_count": 33,
   "id": "3b386864",
   "metadata": {},
   "outputs": [
    {
     "data": {
      "text/plain": [
       "150.01"
      ]
     },
     "execution_count": 33,
     "metadata": {},
     "output_type": "execute_result"
    }
   ],
   "source": [
    "a + b + c"
   ]
  },
  {
   "cell_type": "code",
   "execution_count": 34,
   "id": "36d31f9f",
   "metadata": {},
   "outputs": [
    {
     "data": {
      "text/plain": [
       "14.278846153846153"
      ]
     },
     "execution_count": 34,
     "metadata": {},
     "output_type": "execute_result"
    }
   ],
   "source": [
    "a / b + 10"
   ]
  },
  {
   "cell_type": "code",
   "execution_count": 35,
   "id": "4ecd3052",
   "metadata": {},
   "outputs": [
    {
     "data": {
      "text/plain": [
       "0.10641248828266982"
      ]
     },
     "execution_count": 35,
     "metadata": {},
     "output_type": "execute_result"
    }
   ],
   "source": [
    "# division\n",
    "a / b / c"
   ]
  },
  {
   "cell_type": "code",
   "execution_count": 36,
   "id": "5946f64a",
   "metadata": {},
   "outputs": [
    {
     "ename": "NameError",
     "evalue": "name 'division' is not defined",
     "output_type": "error",
     "traceback": [
      "\u001b[0;31m---------------------------------------------------------------------------\u001b[0m",
      "\u001b[0;31mNameError\u001b[0m                                 Traceback (most recent call last)",
      "\u001b[0;32m/var/folders/31/2t1n00ls5kq101v6vw8zcthm0000gn/T/ipykernel_3510/2037911452.py\u001b[0m in \u001b[0;36m<module>\u001b[0;34m\u001b[0m\n\u001b[0;32m----> 1\u001b[0;31m \u001b[0mtype\u001b[0m\u001b[0;34m(\u001b[0m\u001b[0mdivision\u001b[0m\u001b[0;34m)\u001b[0m\u001b[0;34m\u001b[0m\u001b[0;34m\u001b[0m\u001b[0m\n\u001b[0m",
      "\u001b[0;31mNameError\u001b[0m: name 'division' is not defined"
     ]
    }
   ],
   "source": [
    "type(division)"
   ]
  },
  {
   "cell_type": "code",
   "execution_count": 37,
   "id": "34271529",
   "metadata": {},
   "outputs": [
    {
     "data": {
      "text/plain": [
       "0.10641248828266982"
      ]
     },
     "execution_count": 37,
     "metadata": {},
     "output_type": "execute_result"
    }
   ],
   "source": [
    "a / b / c"
   ]
  },
  {
   "cell_type": "code",
   "execution_count": 39,
   "id": "2eee2ff6",
   "metadata": {},
   "outputs": [],
   "source": [
    "may = a // b // c"
   ]
  },
  {
   "cell_type": "code",
   "execution_count": 40,
   "id": "c5d00cb0",
   "metadata": {},
   "outputs": [
    {
     "data": {
      "text/plain": [
       "float"
      ]
     },
     "execution_count": 40,
     "metadata": {},
     "output_type": "execute_result"
    }
   ],
   "source": [
    "type(may)"
   ]
  },
  {
   "cell_type": "code",
   "execution_count": 47,
   "id": "2459c31f",
   "metadata": {},
   "outputs": [
    {
     "name": "stdout",
     "output_type": "stream",
     "text": [
      "fElnumero {i} es par\n",
      "fElnumero {i} es par\n",
      "fElnumero{i} no es par\n",
      "fElnumero {i} es par\n",
      "fElnumero{i} no es par\n",
      "fElnumero {i} es par\n"
     ]
    }
   ],
   "source": [
    "list_ = [10, 30, 89, 76, 47, 88]\n",
    "\n",
    "for i in list_:\n",
    "    if i % 2 == 0:\n",
    "        print(\"fElnumero {i} es par\")\n",
    "    else:\n",
    "        print(\"fElnumero{i} no es par\")"
   ]
  },
  {
   "cell_type": "code",
   "execution_count": 51,
   "id": "73088fab",
   "metadata": {},
   "outputs": [
    {
     "name": "stdout",
     "output_type": "stream",
     "text": [
      "340\n"
     ]
    }
   ],
   "source": [
    "list_ = [10, 30, 89, 76, 47, 88]\n",
    "Q = 0\n",
    "for i in list_:\n",
    "    Q = Q + i\n",
    "print(Q)\n",
    "    "
   ]
  },
  {
   "cell_type": "code",
   "execution_count": 61,
   "id": "2819c196",
   "metadata": {},
   "outputs": [
    {
     "name": "stdout",
     "output_type": "stream",
     "text": [
      " 38 couldn't be divided by 3\n",
      " 67 couldn't be divided by 3\n",
      " 60 is divided by 3\n",
      " 53 couldn't be divided by 3\n"
     ]
    }
   ],
   "source": [
    "aprday = [38, 67, 60, 53]\n",
    "for i in aprday:\n",
    "    if i % 3 ==0:\n",
    "        print(f\" {i} is divided by 3\")\n",
    "    else:\n",
    "        print(f\" {i} couldn't be divided by 3\")"
   ]
  },
  {
   "cell_type": "code",
   "execution_count": 58,
   "id": "a9e7273c",
   "metadata": {},
   "outputs": [
    {
     "name": "stdout",
     "output_type": "stream",
     "text": [
      "El numero 1 NO es par\n",
      "El numero 2 es par\n",
      "El numero 3 NO es par\n",
      "El numero 4 es par\n",
      "El numero 5 NO es par\n",
      "El numero 6 es par\n"
     ]
    }
   ],
   "source": [
    "list_ = [1, 2, 3, 4, 5, 6]\n",
    "\n",
    "for i in list_:\n",
    "    if i % 2 == 0:\n",
    "        print(f\"El numero {i} es par\")\n",
    "    else:\n",
    "        print(f\"El numero {i} NO es par\")"
   ]
  },
  {
   "cell_type": "code",
   "execution_count": 65,
   "id": "191c2d8d",
   "metadata": {},
   "outputs": [
    {
     "data": {
      "text/plain": [
       "'JOHN IS MY FIREND'"
      ]
     },
     "execution_count": 65,
     "metadata": {},
     "output_type": "execute_result"
    }
   ],
   "source": [
    "\"John is my firend\".upper()"
   ]
  },
  {
   "cell_type": "code",
   "execution_count": 66,
   "id": "a93c3d29",
   "metadata": {},
   "outputs": [],
   "source": [
    "import math"
   ]
  },
  {
   "cell_type": "code",
   "execution_count": 67,
   "id": "84a60c32",
   "metadata": {},
   "outputs": [
    {
     "data": {
      "text/plain": [
       "3"
      ]
     },
     "execution_count": 67,
     "metadata": {},
     "output_type": "execute_result"
    }
   ],
   "source": [
    "math.floor(3.141592654)"
   ]
  },
  {
   "cell_type": "code",
   "execution_count": 69,
   "id": "bf529c74",
   "metadata": {},
   "outputs": [
    {
     "data": {
      "text/plain": [
       "3"
      ]
     },
     "execution_count": 69,
     "metadata": {},
     "output_type": "execute_result"
    }
   ],
   "source": [
    "round(3.141592654)"
   ]
  },
  {
   "cell_type": "code",
   "execution_count": 70,
   "id": "c0fc9c99",
   "metadata": {},
   "outputs": [
    {
     "data": {
      "text/plain": [
       "'This is a string'"
      ]
     },
     "execution_count": 70,
     "metadata": {},
     "output_type": "execute_result"
    }
   ],
   "source": [
    "\"This is a string\""
   ]
  },
  {
   "cell_type": "code",
   "execution_count": 71,
   "id": "3afdc45c",
   "metadata": {},
   "outputs": [
    {
     "data": {
      "text/plain": [
       "'This is a string'"
      ]
     },
     "execution_count": 71,
     "metadata": {},
     "output_type": "execute_result"
    }
   ],
   "source": [
    "'This is a string'"
   ]
  },
  {
   "cell_type": "code",
   "execution_count": 72,
   "id": "163b98d7",
   "metadata": {},
   "outputs": [
    {
     "data": {
      "text/plain": [
       "'This is a string with simple quotes'"
      ]
     },
     "execution_count": 72,
     "metadata": {},
     "output_type": "execute_result"
    }
   ],
   "source": [
    "\"This is a string with simple quotes\" #End Of Line"
   ]
  },
  {
   "cell_type": "code",
   "execution_count": 75,
   "id": "322409a3",
   "metadata": {},
   "outputs": [
    {
     "data": {
      "text/plain": [
       "'4'"
      ]
     },
     "execution_count": 75,
     "metadata": {},
     "output_type": "execute_result"
    }
   ],
   "source": [
    "elisa = \"4\"\n",
    "this_is_also_a_string"
   ]
  },
  {
   "cell_type": "code",
   "execution_count": 76,
   "id": "41a1f9ed",
   "metadata": {},
   "outputs": [
    {
     "name": "stdout",
     "output_type": "stream",
     "text": [
      "4\n"
     ]
    }
   ],
   "source": [
    "print(elisa)"
   ]
  },
  {
   "cell_type": "code",
   "execution_count": 85,
   "id": "a59af1fd",
   "metadata": {},
   "outputs": [],
   "source": [
    "ekiusa = \"4\"\n"
   ]
  },
  {
   "cell_type": "code",
   "execution_count": 79,
   "id": "22ea3351",
   "metadata": {},
   "outputs": [
    {
     "name": "stdout",
     "output_type": "stream",
     "text": [
      "4\n"
     ]
    }
   ],
   "source": [
    "print(ekiusa)"
   ]
  },
  {
   "cell_type": "code",
   "execution_count": 80,
   "id": "d8844406",
   "metadata": {},
   "outputs": [
    {
     "data": {
      "text/plain": [
       "str"
      ]
     },
     "execution_count": 80,
     "metadata": {},
     "output_type": "execute_result"
    }
   ],
   "source": [
    "type(elisa)"
   ]
  },
  {
   "cell_type": "code",
   "execution_count": 86,
   "id": "5b4d129c",
   "metadata": {},
   "outputs": [
    {
     "data": {
      "text/plain": [
       "str"
      ]
     },
     "execution_count": 86,
     "metadata": {},
     "output_type": "execute_result"
    }
   ],
   "source": [
    "type(ekiusa)"
   ]
  },
  {
   "cell_type": "code",
   "execution_count": 87,
   "id": "74eb00df",
   "metadata": {},
   "outputs": [
    {
     "data": {
      "text/plain": [
       "'4'"
      ]
     },
     "execution_count": 87,
     "metadata": {},
     "output_type": "execute_result"
    }
   ],
   "source": [
    "this_is_also_a_string = \"4\"\n",
    "this_is_also_a_string"
   ]
  },
  {
   "cell_type": "code",
   "execution_count": 105,
   "id": "f1ffcfe9",
   "metadata": {},
   "outputs": [],
   "source": [
    "a = 40"
   ]
  },
  {
   "cell_type": "code",
   "execution_count": 88,
   "id": "b532c545",
   "metadata": {},
   "outputs": [
    {
     "data": {
      "text/plain": [
       "str"
      ]
     },
     "execution_count": 88,
     "metadata": {},
     "output_type": "execute_result"
    }
   ],
   "source": [
    "type(this_is_also_a_string)"
   ]
  },
  {
   "cell_type": "code",
   "execution_count": 94,
   "id": "898e693b",
   "metadata": {},
   "outputs": [
    {
     "data": {
      "text/plain": [
       "'\\nthis is a string \\nwith multiple lines'"
      ]
     },
     "execution_count": 94,
     "metadata": {},
     "output_type": "execute_result"
    }
   ],
   "source": [
    "\"\"\"\n",
    "this is a string \n",
    "with multiple lines\"\"\""
   ]
  },
  {
   "cell_type": "code",
   "execution_count": 95,
   "id": "3d9dad8d",
   "metadata": {},
   "outputs": [
    {
     "data": {
      "text/plain": [
       "'\\nThis is a string\\nwith multiple liness'"
      ]
     },
     "execution_count": 95,
     "metadata": {},
     "output_type": "execute_result"
    }
   ],
   "source": [
    "\"\"\"\n",
    "This is a string\n",
    "with multiple liness\"\"\""
   ]
  },
  {
   "cell_type": "code",
   "execution_count": 96,
   "id": "05b2e297",
   "metadata": {},
   "outputs": [],
   "source": [
    "Love = \"👽\""
   ]
  },
  {
   "cell_type": "code",
   "execution_count": 98,
   "id": "227c8e12",
   "metadata": {},
   "outputs": [
    {
     "name": "stdout",
     "output_type": "stream",
     "text": [
      "👽\n"
     ]
    }
   ],
   "source": [
    "print(Love)"
   ]
  },
  {
   "cell_type": "code",
   "execution_count": 107,
   "id": "e1f01053",
   "metadata": {},
   "outputs": [
    {
     "name": "stdout",
     "output_type": "stream",
     "text": [
      "<class 'float'>\n"
     ]
    }
   ],
   "source": [
    "a = 3.1415926\n",
    "print(type(a))"
   ]
  },
  {
   "cell_type": "code",
   "execution_count": 100,
   "id": "bd4d9450",
   "metadata": {},
   "outputs": [],
   "source": [
    "a = str(a)"
   ]
  },
  {
   "cell_type": "code",
   "execution_count": 101,
   "id": "ca2620d6",
   "metadata": {},
   "outputs": [
    {
     "name": "stdout",
     "output_type": "stream",
     "text": [
      "<class 'str'>\n"
     ]
    }
   ],
   "source": [
    "print(type(a))"
   ]
  },
  {
   "cell_type": "code",
   "execution_count": 102,
   "id": "56aa7bcf",
   "metadata": {},
   "outputs": [],
   "source": [
    "x = str(23345\n",
    "    )"
   ]
  },
  {
   "cell_type": "code",
   "execution_count": 103,
   "id": "8c879523",
   "metadata": {},
   "outputs": [
    {
     "name": "stdout",
     "output_type": "stream",
     "text": [
      "<class 'str'>\n"
     ]
    }
   ],
   "source": [
    "print(type(x))"
   ]
  },
  {
   "cell_type": "code",
   "execution_count": 108,
   "id": "9cfd44b6",
   "metadata": {},
   "outputs": [
    {
     "name": "stdout",
     "output_type": "stream",
     "text": [
      "3.1415926\n"
     ]
    }
   ],
   "source": [
    "print(a)"
   ]
  },
  {
   "cell_type": "code",
   "execution_count": 110,
   "id": "210e51fc",
   "metadata": {},
   "outputs": [],
   "source": [
    "age = 28"
   ]
  },
  {
   "cell_type": "code",
   "execution_count": 113,
   "id": "7f8debf3",
   "metadata": {},
   "outputs": [
    {
     "ename": "TypeError",
     "evalue": "can only concatenate str (not \"int\") to str",
     "output_type": "error",
     "traceback": [
      "\u001b[0;31m---------------------------------------------------------------------------\u001b[0m",
      "\u001b[0;31mTypeError\u001b[0m                                 Traceback (most recent call last)",
      "\u001b[0;32m/var/folders/31/2t1n00ls5kq101v6vw8zcthm0000gn/T/ipykernel_3510/1604424087.py\u001b[0m in \u001b[0;36m<module>\u001b[0;34m\u001b[0m\n\u001b[0;32m----> 1\u001b[0;31m \u001b[0mMessage\u001b[0m \u001b[0;34m=\u001b[0m \u001b[0;34m\"My age is\"\u001b[0m \u001b[0;34m+\u001b[0m \u001b[0mage\u001b[0m\u001b[0;34m\u001b[0m\u001b[0;34m\u001b[0m\u001b[0m\n\u001b[0m",
      "\u001b[0;31mTypeError\u001b[0m: can only concatenate str (not \"int\") to str"
     ]
    }
   ],
   "source": [
    "Message = \"My age is\" + age"
   ]
  },
  {
   "cell_type": "code",
   "execution_count": null,
   "id": "3686e765",
   "metadata": {},
   "outputs": [],
   "source": [
    "age = str(age)"
   ]
  },
  {
   "cell_type": "code",
   "execution_count": 140,
   "id": "acaa791e",
   "metadata": {},
   "outputs": [],
   "source": [
    "Message = \"my age is, \" , age"
   ]
  },
  {
   "cell_type": "code",
   "execution_count": null,
   "id": "055005e5",
   "metadata": {},
   "outputs": [],
   "source": [
    "print(Message)"
   ]
  },
  {
   "cell_type": "code",
   "execution_count": null,
   "id": "5f284ed4",
   "metadata": {},
   "outputs": [],
   "source": [
    "salutation = input(\"hola mi amor\")"
   ]
  },
  {
   "cell_type": "code",
   "execution_count": null,
   "id": "d8a33156",
   "metadata": {},
   "outputs": [],
   "source": [
    "salutation = input(prompt = \"thi is a prompt\")"
   ]
  },
  {
   "cell_type": "code",
   "execution_count": null,
   "id": "4e1fbd60",
   "metadata": {},
   "outputs": [],
   "source": [
    "input(prompt=\"this is a prompt\")"
   ]
  },
  {
   "cell_type": "code",
   "execution_count": null,
   "id": "b0696e8a",
   "metadata": {},
   "outputs": [],
   "source": [
    "this is a prompt\n",
    "\n"
   ]
  },
  {
   "cell_type": "code",
   "execution_count": null,
   "id": "c0a29ff1",
   "metadata": {},
   "outputs": [],
   "source": [
    "this is a prompt\n",
    "\n"
   ]
  },
  {
   "cell_type": "code",
   "execution_count": 1,
   "id": "50418079",
   "metadata": {},
   "outputs": [
    {
     "ename": "NameError",
     "evalue": "name 'a' is not defined",
     "output_type": "error",
     "traceback": [
      "\u001b[0;31m---------------------------------------------------------------------------\u001b[0m",
      "\u001b[0;31mNameError\u001b[0m                                 Traceback (most recent call last)",
      "\u001b[0;32m/var/folders/31/2t1n00ls5kq101v6vw8zcthm0000gn/T/ipykernel_3965/1699638341.py\u001b[0m in \u001b[0;36m<module>\u001b[0;34m\u001b[0m\n\u001b[0;32m----> 1\u001b[0;31m \u001b[0ma\u001b[0m\u001b[0;34m=\u001b[0m\u001b[0ma\u001b[0m\u001b[0;34m\u001b[0m\u001b[0;34m\u001b[0m\u001b[0m\n\u001b[0m\u001b[1;32m      2\u001b[0m \u001b[0mprint\u001b[0m\u001b[0;34m(\u001b[0m\u001b[0ma\u001b[0m\u001b[0;34m)\u001b[0m\u001b[0;34m\u001b[0m\u001b[0;34m\u001b[0m\u001b[0m\n",
      "\u001b[0;31mNameError\u001b[0m: name 'a' is not defined"
     ]
    }
   ],
   "source": [
    "a=a\n",
    "print(a)"
   ]
  },
  {
   "cell_type": "code",
   "execution_count": 2,
   "id": "192c88ea",
   "metadata": {},
   "outputs": [
    {
     "ename": "TypeError",
     "evalue": "'prompt' is an invalid keyword argument for print()",
     "output_type": "error",
     "traceback": [
      "\u001b[0;31m---------------------------------------------------------------------------\u001b[0m",
      "\u001b[0;31mTypeError\u001b[0m                                 Traceback (most recent call last)",
      "\u001b[0;32m/var/folders/31/2t1n00ls5kq101v6vw8zcthm0000gn/T/ipykernel_3965/2767234994.py\u001b[0m in \u001b[0;36m<module>\u001b[0;34m\u001b[0m\n\u001b[0;32m----> 1\u001b[0;31m \u001b[0msalutation\u001b[0m \u001b[0;34m=\u001b[0m \u001b[0mprint\u001b[0m\u001b[0;34m(\u001b[0m\u001b[0mprompt\u001b[0m \u001b[0;34m=\u001b[0m \u001b[0;34m\"this is a prompt\"\u001b[0m\u001b[0;34m)\u001b[0m\u001b[0;34m\u001b[0m\u001b[0;34m\u001b[0m\u001b[0m\n\u001b[0m",
      "\u001b[0;31mTypeError\u001b[0m: 'prompt' is an invalid keyword argument for print()"
     ]
    }
   ],
   "source": [
    "salutation = print(prompt = \"this is a prompt\")"
   ]
  },
  {
   "cell_type": "code",
   "execution_count": 3,
   "id": "cbb089a5",
   "metadata": {},
   "outputs": [
    {
     "name": "stdout",
     "output_type": "stream",
     "text": [
      "This is a prompthsihifdw\n"
     ]
    }
   ],
   "source": [
    "salutation = input(prompt = \"This is a prompt\")"
   ]
  },
  {
   "cell_type": "code",
   "execution_count": null,
   "id": "65d3d37b",
   "metadata": {},
   "outputs": [],
   "source": [
    "name = input(\"Write here your name: \")"
   ]
  },
  {
   "cell_type": "code",
   "execution_count": 1,
   "id": "b6bddb98",
   "metadata": {},
   "outputs": [
    {
     "name": "stdout",
     "output_type": "stream",
     "text": [
      "write your name:John\n"
     ]
    }
   ],
   "source": [
    "name = input(\"write your name:\")"
   ]
  },
  {
   "cell_type": "code",
   "execution_count": 2,
   "id": "68ee88e5",
   "metadata": {},
   "outputs": [
    {
     "name": "stdout",
     "output_type": "stream",
     "text": [
      "John\n"
     ]
    }
   ],
   "source": [
    "print(name)"
   ]
  },
  {
   "cell_type": "code",
   "execution_count": 3,
   "id": "9a653c40",
   "metadata": {},
   "outputs": [
    {
     "name": "stdout",
     "output_type": "stream",
     "text": [
      "your age10\n"
     ]
    }
   ],
   "source": [
    "number = input(\"your age\")"
   ]
  },
  {
   "cell_type": "code",
   "execution_count": 6,
   "id": "5b7fac0b",
   "metadata": {},
   "outputs": [
    {
     "data": {
      "text/plain": [
       "str"
      ]
     },
     "execution_count": 6,
     "metadata": {},
     "output_type": "execute_result"
    }
   ],
   "source": [
    "type(number)"
   ]
  },
  {
   "cell_type": "code",
   "execution_count": 7,
   "id": "1681e4c2",
   "metadata": {},
   "outputs": [
    {
     "data": {
      "text/plain": [
       "'10101010101010101010'"
      ]
     },
     "execution_count": 7,
     "metadata": {},
     "output_type": "execute_result"
    }
   ],
   "source": [
    "number * 10"
   ]
  },
  {
   "cell_type": "code",
   "execution_count": 8,
   "id": "007b57de",
   "metadata": {},
   "outputs": [
    {
     "ename": "TypeError",
     "evalue": "unsupported operand type(s) for /: 'str' and 'int'",
     "output_type": "error",
     "traceback": [
      "\u001b[0;31m---------------------------------------------------------------------------\u001b[0m",
      "\u001b[0;31mTypeError\u001b[0m                                 Traceback (most recent call last)",
      "\u001b[0;32m/var/folders/31/2t1n00ls5kq101v6vw8zcthm0000gn/T/ipykernel_3984/3949742378.py\u001b[0m in \u001b[0;36m<module>\u001b[0;34m\u001b[0m\n\u001b[0;32m----> 1\u001b[0;31m \u001b[0mnumber\u001b[0m \u001b[0;34m/\u001b[0m \u001b[0;36m2\u001b[0m\u001b[0;34m\u001b[0m\u001b[0;34m\u001b[0m\u001b[0m\n\u001b[0m",
      "\u001b[0;31mTypeError\u001b[0m: unsupported operand type(s) for /: 'str' and 'int'"
     ]
    }
   ],
   "source": [
    "number / 2"
   ]
  },
  {
   "cell_type": "code",
   "execution_count": 9,
   "id": "2eb826b2",
   "metadata": {},
   "outputs": [
    {
     "data": {
      "text/plain": [
       "'10101010101010101010'"
      ]
     },
     "execution_count": 9,
     "metadata": {},
     "output_type": "execute_result"
    }
   ],
   "source": [
    "number * 10"
   ]
  },
  {
   "cell_type": "code",
   "execution_count": 11,
   "id": "8957de28",
   "metadata": {},
   "outputs": [
    {
     "ename": "TypeError",
     "evalue": "unsupported operand type(s) for /: 'str' and 'int'",
     "output_type": "error",
     "traceback": [
      "\u001b[0;31m---------------------------------------------------------------------------\u001b[0m",
      "\u001b[0;31mTypeError\u001b[0m                                 Traceback (most recent call last)",
      "\u001b[0;32m/var/folders/31/2t1n00ls5kq101v6vw8zcthm0000gn/T/ipykernel_3984/2457248782.py\u001b[0m in \u001b[0;36m<module>\u001b[0;34m\u001b[0m\n\u001b[0;32m----> 1\u001b[0;31m \u001b[0mint\u001b[0m\u001b[0;34m(\u001b[0m\u001b[0mnumber\u001b[0m \u001b[0;34m/\u001b[0m \u001b[0;36m2\u001b[0m\u001b[0;34m)\u001b[0m\u001b[0;34m\u001b[0m\u001b[0;34m\u001b[0m\u001b[0m\n\u001b[0m",
      "\u001b[0;31mTypeError\u001b[0m: unsupported operand type(s) for /: 'str' and 'int'"
     ]
    }
   ],
   "source": [
    "int(number / 2)"
   ]
  },
  {
   "cell_type": "code",
   "execution_count": 12,
   "id": "f5cc7e17",
   "metadata": {},
   "outputs": [
    {
     "name": "stdout",
     "output_type": "stream",
     "text": [
      "your age9\n"
     ]
    }
   ],
   "source": [
    "number = int(input(\"your age\"))"
   ]
  },
  {
   "cell_type": "code",
   "execution_count": 13,
   "id": "0c7614c0",
   "metadata": {},
   "outputs": [
    {
     "data": {
      "text/plain": [
       "4"
      ]
     },
     "execution_count": 13,
     "metadata": {},
     "output_type": "execute_result"
    }
   ],
   "source": [
    "int(number / 2)"
   ]
  },
  {
   "cell_type": "code",
   "execution_count": 15,
   "id": "a19ed866",
   "metadata": {},
   "outputs": [
    {
     "data": {
      "text/plain": [
       "4.5"
      ]
     },
     "execution_count": 15,
     "metadata": {},
     "output_type": "execute_result"
    }
   ],
   "source": [
    "number / 2"
   ]
  },
  {
   "cell_type": "code",
   "execution_count": 1,
   "id": "077ea112",
   "metadata": {},
   "outputs": [],
   "source": [
    "greeting = \"hello\""
   ]
  },
  {
   "cell_type": "code",
   "execution_count": 2,
   "id": "fca638db",
   "metadata": {},
   "outputs": [
    {
     "data": {
      "text/plain": [
       "str"
      ]
     },
     "execution_count": 2,
     "metadata": {},
     "output_type": "execute_result"
    }
   ],
   "source": [
    "type(greeting)"
   ]
  },
  {
   "cell_type": "code",
   "execution_count": 4,
   "id": "d4862b68",
   "metadata": {},
   "outputs": [
    {
     "name": "stdout",
     "output_type": "stream",
     "text": [
      "hello\n"
     ]
    },
    {
     "data": {
      "text/plain": [
       "NoneType"
      ]
     },
     "execution_count": 4,
     "metadata": {},
     "output_type": "execute_result"
    }
   ],
   "source": [
    "type(print(greeting))"
   ]
  },
  {
   "cell_type": "code",
   "execution_count": 6,
   "id": "dee6024e",
   "metadata": {},
   "outputs": [],
   "source": [
    "name = \"Jose\"\n",
    "Age = 38"
   ]
  },
  {
   "cell_type": "code",
   "execution_count": 20,
   "id": "f8fd01de",
   "metadata": {},
   "outputs": [],
   "source": [
    "introduction = \"Hello my name is \" + name + \" my age is \" + str(Age)"
   ]
  },
  {
   "cell_type": "code",
   "execution_count": 21,
   "id": "5f7eb0e8",
   "metadata": {},
   "outputs": [
    {
     "name": "stdout",
     "output_type": "stream",
     "text": [
      "Hello my name is Jose my age is 38\n"
     ]
    }
   ],
   "source": [
    "print(introduction)"
   ]
  },
  {
   "cell_type": "code",
   "execution_count": 23,
   "id": "179f0882",
   "metadata": {},
   "outputs": [],
   "source": [
    "intro = \"hello world, my name is \", name, \" and my age is \", str(Age)"
   ]
  },
  {
   "cell_type": "code",
   "execution_count": 24,
   "id": "1eae9fe2",
   "metadata": {},
   "outputs": [
    {
     "name": "stdout",
     "output_type": "stream",
     "text": [
      "('hello world, my name is ', 'Jose', ' and my age is ', '38')\n"
     ]
    }
   ],
   "source": [
    "print(intro)"
   ]
  },
  {
   "cell_type": "code",
   "execution_count": 26,
   "id": "e2bd8efc",
   "metadata": {},
   "outputs": [],
   "source": [
    "greeting = \"Hello my name is \", name, \" and my age is \", str(Age)"
   ]
  },
  {
   "cell_type": "code",
   "execution_count": 27,
   "id": "e6fcbb64",
   "metadata": {},
   "outputs": [
    {
     "name": "stdout",
     "output_type": "stream",
     "text": [
      "('Hello my name is ', 'Jose', ' and my age is ', '38')\n"
     ]
    }
   ],
   "source": [
    "print(greeting)"
   ]
  },
  {
   "cell_type": "code",
   "execution_count": 28,
   "id": "b367457d",
   "metadata": {},
   "outputs": [
    {
     "data": {
      "text/plain": [
       "tuple"
      ]
     },
     "execution_count": 28,
     "metadata": {},
     "output_type": "execute_result"
    }
   ],
   "source": [
    "type(greeting)"
   ]
  },
  {
   "cell_type": "code",
   "execution_count": 31,
   "id": "fed1a6dc",
   "metadata": {},
   "outputs": [],
   "source": [
    "greeting = f\"Hello my name is {name}, and my age is {Age}\""
   ]
  },
  {
   "cell_type": "code",
   "execution_count": 33,
   "id": "49615c91",
   "metadata": {},
   "outputs": [
    {
     "name": "stdout",
     "output_type": "stream",
     "text": [
      "Hello my name is Jose, and my age is 38\n"
     ]
    }
   ],
   "source": [
    "print(greeting)"
   ]
  },
  {
   "cell_type": "code",
   "execution_count": 34,
   "id": "abc790df",
   "metadata": {},
   "outputs": [],
   "source": [
    "salutation = \"hello my name is {}, and my age is {}\" .format(name, Age)"
   ]
  },
  {
   "cell_type": "code",
   "execution_count": 36,
   "id": "283301d1",
   "metadata": {},
   "outputs": [
    {
     "name": "stdout",
     "output_type": "stream",
     "text": [
      "hello my name is Jose, and my age is 38\n"
     ]
    }
   ],
   "source": [
    "print(salutation)"
   ]
  },
  {
   "cell_type": "code",
   "execution_count": 37,
   "id": "e2191250",
   "metadata": {},
   "outputs": [],
   "source": [
    "string = \"this is a string\""
   ]
  },
  {
   "cell_type": "code",
   "execution_count": 38,
   "id": "2eeca0bf",
   "metadata": {},
   "outputs": [
    {
     "data": {
      "text/plain": [
       "'This is a string'"
      ]
     },
     "execution_count": 38,
     "metadata": {},
     "output_type": "execute_result"
    }
   ],
   "source": [
    "string.capitalize()"
   ]
  },
  {
   "cell_type": "code",
   "execution_count": 39,
   "id": "de339bd4",
   "metadata": {},
   "outputs": [
    {
     "data": {
      "text/plain": [
       "True"
      ]
     },
     "execution_count": 39,
     "metadata": {},
     "output_type": "execute_result"
    }
   ],
   "source": [
    "string.upper().isupper()"
   ]
  },
  {
   "cell_type": "code",
   "execution_count": 40,
   "id": "d05483f1",
   "metadata": {},
   "outputs": [
    {
     "data": {
      "text/plain": [
       "True"
      ]
     },
     "execution_count": 40,
     "metadata": {},
     "output_type": "execute_result"
    }
   ],
   "source": [
    "string.lower().islower()"
   ]
  },
  {
   "cell_type": "code",
   "execution_count": 41,
   "id": "27b70226",
   "metadata": {},
   "outputs": [
    {
     "data": {
      "text/plain": [
       "False"
      ]
     },
     "execution_count": 41,
     "metadata": {},
     "output_type": "execute_result"
    }
   ],
   "source": [
    "string.upper().islower()"
   ]
  },
  {
   "cell_type": "code",
   "execution_count": 43,
   "id": "d40e3263",
   "metadata": {},
   "outputs": [
    {
     "data": {
      "text/plain": [
       "'This Is A String'"
      ]
     },
     "execution_count": 43,
     "metadata": {},
     "output_type": "execute_result"
    }
   ],
   "source": [
    "string.title()"
   ]
  },
  {
   "cell_type": "code",
   "execution_count": 45,
   "id": "220d4b93",
   "metadata": {},
   "outputs": [
    {
     "data": {
      "text/plain": [
       "'JoseHUANGElisaHUANGCentenoHUANGHuang'"
      ]
     },
     "execution_count": 45,
     "metadata": {},
     "output_type": "execute_result"
    }
   ],
   "source": [
    "name_list = [\"Jose\", \"Elisa\", \"Centeno\", \"Huang\"]\n",
    "\"HUANG\".join(name_list)"
   ]
  },
  {
   "cell_type": "code",
   "execution_count": 46,
   "id": "a237c8fa",
   "metadata": {},
   "outputs": [],
   "source": [
    "number = \"67584\""
   ]
  },
  {
   "cell_type": "code",
   "execution_count": 47,
   "id": "3e2e8176",
   "metadata": {},
   "outputs": [
    {
     "data": {
      "text/plain": [
       "True"
      ]
     },
     "execution_count": 47,
     "metadata": {},
     "output_type": "execute_result"
    }
   ],
   "source": [
    "number.startswith(\"67\")"
   ]
  },
  {
   "cell_type": "code",
   "execution_count": 48,
   "id": "d007a018",
   "metadata": {},
   "outputs": [
    {
     "data": {
      "text/plain": [
       "False"
      ]
     },
     "execution_count": 48,
     "metadata": {},
     "output_type": "execute_result"
    }
   ],
   "source": [
    "number.startswith(\"+\")"
   ]
  },
  {
   "cell_type": "code",
   "execution_count": 51,
   "id": "24796a71",
   "metadata": {},
   "outputs": [
    {
     "data": {
      "text/plain": [
       "True"
      ]
     },
     "execution_count": 51,
     "metadata": {},
     "output_type": "execute_result"
    }
   ],
   "source": [
    "number.endswith(\"84\")"
   ]
  },
  {
   "cell_type": "code",
   "execution_count": 55,
   "id": "7a668168",
   "metadata": {},
   "outputs": [],
   "source": [
    "string = \"     +_# summer is +_comming\""
   ]
  },
  {
   "cell_type": "code",
   "execution_count": 56,
   "id": "f6674941",
   "metadata": {},
   "outputs": [],
   "source": [
    "new_string = string.lstrip()"
   ]
  },
  {
   "cell_type": "code",
   "execution_count": 57,
   "id": "7f9c62f1",
   "metadata": {},
   "outputs": [
    {
     "name": "stdout",
     "output_type": "stream",
     "text": [
      "+_# summer is +_comming\n"
     ]
    }
   ],
   "source": [
    "print(new_string)"
   ]
  },
  {
   "cell_type": "code",
   "execution_count": 58,
   "id": "cd0e4c9d",
   "metadata": {},
   "outputs": [],
   "source": [
    "string2 = string.lstrip(\"+\")"
   ]
  },
  {
   "cell_type": "code",
   "execution_count": 59,
   "id": "f3726c7f",
   "metadata": {},
   "outputs": [
    {
     "name": "stdout",
     "output_type": "stream",
     "text": [
      "     +_# summer is +_comming\n"
     ]
    }
   ],
   "source": [
    "print(string2)"
   ]
  },
  {
   "cell_type": "code",
   "execution_count": 85,
   "id": "6110ab69",
   "metadata": {},
   "outputs": [],
   "source": [
    "string3 = string.lstrip(  \" +_#\")"
   ]
  },
  {
   "cell_type": "code",
   "execution_count": 86,
   "id": "c086bf55",
   "metadata": {},
   "outputs": [
    {
     "name": "stdout",
     "output_type": "stream",
     "text": [
      "summer is +_comming\n"
     ]
    }
   ],
   "source": [
    "print(string3)"
   ]
  },
  {
   "cell_type": "code",
   "execution_count": 95,
   "id": "1e2d7f70",
   "metadata": {},
   "outputs": [],
   "source": [
    "frase = \"today# is my day %$#.  \""
   ]
  },
  {
   "cell_type": "code",
   "execution_count": 96,
   "id": "2ed0ca71",
   "metadata": {},
   "outputs": [],
   "source": [
    "frase1 = frase.rstrip(\"#\")"
   ]
  },
  {
   "cell_type": "code",
   "execution_count": 97,
   "id": "0cb9ea27",
   "metadata": {},
   "outputs": [
    {
     "name": "stdout",
     "output_type": "stream",
     "text": [
      "today# is my day %$#.  \n"
     ]
    }
   ],
   "source": [
    "print(frase1)"
   ]
  },
  {
   "cell_type": "code",
   "execution_count": 98,
   "id": "1339d3aa",
   "metadata": {},
   "outputs": [
    {
     "data": {
      "text/plain": [
       "'today) is my day %$).  '"
      ]
     },
     "execution_count": 98,
     "metadata": {},
     "output_type": "execute_result"
    }
   ],
   "source": [
    "frase.replace(\"#\", \")\")"
   ]
  },
  {
   "cell_type": "code",
   "execution_count": 99,
   "id": "151c6c45",
   "metadata": {},
   "outputs": [],
   "source": [
    "sentence = \"Hello my name is Elisa\""
   ]
  },
  {
   "cell_type": "code",
   "execution_count": 105,
   "id": "44679c28",
   "metadata": {},
   "outputs": [
    {
     "data": {
      "text/plain": [
       "['Hello ', 'y na', 'e is Elisa']"
      ]
     },
     "execution_count": 105,
     "metadata": {},
     "output_type": "execute_result"
    }
   ],
   "source": [
    "sentence.split(\"m\")"
   ]
  },
  {
   "cell_type": "code",
   "execution_count": 106,
   "id": "e0f8873c",
   "metadata": {},
   "outputs": [],
   "source": [
    "string = \"this is a string\""
   ]
  },
  {
   "cell_type": "code",
   "execution_count": 107,
   "id": "4b8a4936",
   "metadata": {},
   "outputs": [
    {
     "data": {
      "text/plain": [
       "['this is ', ' string']"
      ]
     },
     "execution_count": 107,
     "metadata": {},
     "output_type": "execute_result"
    }
   ],
   "source": [
    "string.split(\"a\")"
   ]
  },
  {
   "cell_type": "code",
   "execution_count": 109,
   "id": "f5308e7f",
   "metadata": {},
   "outputs": [],
   "source": [
    "list_ = [\"my\", \"yours\", \"his\", \"hers\"]"
   ]
  },
  {
   "cell_type": "code",
   "execution_count": 111,
   "id": "fb70e1b1",
   "metadata": {},
   "outputs": [],
   "source": [
    "mix = [\"how\", 3.1, \"this is mine\", True]"
   ]
  },
  {
   "cell_type": "code",
   "execution_count": 112,
   "id": "51d29954",
   "metadata": {},
   "outputs": [],
   "source": [
    "nest = [[\"dad\", \"mum\", \"kids\"], [1.4, 3.8, \"sister\"]]"
   ]
  },
  {
   "cell_type": "code",
   "execution_count": 115,
   "id": "30634cc9",
   "metadata": {},
   "outputs": [
    {
     "data": {
      "text/plain": [
       "'my'"
      ]
     },
     "execution_count": 115,
     "metadata": {},
     "output_type": "execute_result"
    }
   ],
   "source": [
    "list_[0]"
   ]
  },
  {
   "cell_type": "code",
   "execution_count": 116,
   "id": "5cfad94b",
   "metadata": {},
   "outputs": [
    {
     "data": {
      "text/plain": [
       "True"
      ]
     },
     "execution_count": 116,
     "metadata": {},
     "output_type": "execute_result"
    }
   ],
   "source": [
    "mix[-1]"
   ]
  },
  {
   "cell_type": "code",
   "execution_count": 118,
   "id": "7912591b",
   "metadata": {},
   "outputs": [
    {
     "data": {
      "text/plain": [
       "[1.4, 3.8, 'sister']"
      ]
     },
     "execution_count": 118,
     "metadata": {},
     "output_type": "execute_result"
    }
   ],
   "source": [
    "nest[1]"
   ]
  },
  {
   "cell_type": "code",
   "execution_count": 119,
   "id": "ce23e68c",
   "metadata": {},
   "outputs": [
    {
     "data": {
      "text/plain": [
       "4"
      ]
     },
     "execution_count": 119,
     "metadata": {},
     "output_type": "execute_result"
    }
   ],
   "source": [
    "len(mix)"
   ]
  },
  {
   "cell_type": "code",
   "execution_count": 120,
   "id": "bd6f7967",
   "metadata": {},
   "outputs": [
    {
     "data": {
      "text/plain": [
       "'sister'"
      ]
     },
     "execution_count": 120,
     "metadata": {},
     "output_type": "execute_result"
    }
   ],
   "source": [
    "nest[1][2]"
   ]
  },
  {
   "cell_type": "code",
   "execution_count": 123,
   "id": "55eee6c6",
   "metadata": {},
   "outputs": [
    {
     "data": {
      "text/plain": [
       "3.1"
      ]
     },
     "execution_count": 123,
     "metadata": {},
     "output_type": "execute_result"
    }
   ],
   "source": [
    "mix[-3]"
   ]
  },
  {
   "cell_type": "code",
   "execution_count": 124,
   "id": "b22e1419",
   "metadata": {},
   "outputs": [
    {
     "data": {
      "text/plain": [
       "2"
      ]
     },
     "execution_count": 124,
     "metadata": {},
     "output_type": "execute_result"
    }
   ],
   "source": [
    "len(nest)"
   ]
  },
  {
   "cell_type": "code",
   "execution_count": 125,
   "id": "1c7cfdca",
   "metadata": {},
   "outputs": [
    {
     "data": {
      "text/plain": [
       "4"
      ]
     },
     "execution_count": 125,
     "metadata": {},
     "output_type": "execute_result"
    }
   ],
   "source": [
    "len(list_)"
   ]
  },
  {
   "cell_type": "code",
   "execution_count": 7,
   "id": "de2c369c",
   "metadata": {},
   "outputs": [],
   "source": [
    "listA = [1]"
   ]
  },
  {
   "cell_type": "code",
   "execution_count": 8,
   "id": "0169283c",
   "metadata": {},
   "outputs": [],
   "source": [
    "listA.append(\"happy hour\")"
   ]
  },
  {
   "cell_type": "code",
   "execution_count": 9,
   "id": "4a5bc80b",
   "metadata": {},
   "outputs": [
    {
     "name": "stdout",
     "output_type": "stream",
     "text": [
      "[1, 'happy hour']\n"
     ]
    }
   ],
   "source": [
    "print(listA)"
   ]
  },
  {
   "cell_type": "code",
   "execution_count": 10,
   "id": "8c172723",
   "metadata": {},
   "outputs": [
    {
     "ename": "TypeError",
     "evalue": "list.extend() takes exactly one argument (2 given)",
     "output_type": "error",
     "traceback": [
      "\u001b[0;31m---------------------------------------------------------------------------\u001b[0m",
      "\u001b[0;31mTypeError\u001b[0m                                 Traceback (most recent call last)",
      "\u001b[0;32m/var/folders/31/2t1n00ls5kq101v6vw8zcthm0000gn/T/ipykernel_655/2404746370.py\u001b[0m in \u001b[0;36m<module>\u001b[0;34m\u001b[0m\n\u001b[0;32m----> 1\u001b[0;31m \u001b[0mlistA\u001b[0m\u001b[0;34m.\u001b[0m\u001b[0mextend\u001b[0m\u001b[0;34m(\u001b[0m\u001b[0;36m2\u001b[0m\u001b[0;34m,\u001b[0m\u001b[0;34m\"this is a laptop\"\u001b[0m\u001b[0;34m)\u001b[0m\u001b[0;34m\u001b[0m\u001b[0;34m\u001b[0m\u001b[0m\n\u001b[0m",
      "\u001b[0;31mTypeError\u001b[0m: list.extend() takes exactly one argument (2 given)"
     ]
    }
   ],
   "source": [
    "listA.extend(2,\"this is a laptop\")"
   ]
  },
  {
   "cell_type": "code",
   "execution_count": 11,
   "id": "595a4687",
   "metadata": {},
   "outputs": [],
   "source": [
    "listb = [90,\"this year\"]"
   ]
  },
  {
   "cell_type": "code",
   "execution_count": 12,
   "id": "9de63a7c",
   "metadata": {},
   "outputs": [],
   "source": [
    "listb.extend(listA)"
   ]
  },
  {
   "cell_type": "code",
   "execution_count": 13,
   "id": "a0f539e9",
   "metadata": {},
   "outputs": [
    {
     "name": "stdout",
     "output_type": "stream",
     "text": [
      "[90, 'this year', 1, 'happy hour']\n"
     ]
    }
   ],
   "source": [
    "print(listb)"
   ]
  },
  {
   "cell_type": "code",
   "execution_count": 14,
   "id": "c71de8ec",
   "metadata": {},
   "outputs": [],
   "source": [
    "listA.extend(listb)"
   ]
  },
  {
   "cell_type": "code",
   "execution_count": 15,
   "id": "f7c691c4",
   "metadata": {},
   "outputs": [
    {
     "name": "stdout",
     "output_type": "stream",
     "text": [
      "[1, 'happy hour', 90, 'this year', 1, 'happy hour']\n"
     ]
    }
   ],
   "source": [
    "print(listA)"
   ]
  },
  {
   "cell_type": "code",
   "execution_count": 16,
   "id": "27738f03",
   "metadata": {},
   "outputs": [],
   "source": [
    "listc = [\"to add something\", \"where\"]"
   ]
  },
  {
   "cell_type": "code",
   "execution_count": 17,
   "id": "fd4075a2",
   "metadata": {},
   "outputs": [],
   "source": [
    "listc.insert(1, \"watermeon\")"
   ]
  },
  {
   "cell_type": "code",
   "execution_count": 18,
   "id": "62858dc0",
   "metadata": {},
   "outputs": [
    {
     "name": "stdout",
     "output_type": "stream",
     "text": [
      "['to add something', 'watermeon', 'where']\n"
     ]
    }
   ],
   "source": [
    "print(listc)"
   ]
  },
  {
   "cell_type": "code",
   "execution_count": 19,
   "id": "10acf526",
   "metadata": {},
   "outputs": [
    {
     "name": "stdout",
     "output_type": "stream",
     "text": [
      "[1, 'B', 2, 3]\n"
     ]
    }
   ],
   "source": [
    "list0 = [1, 2, 3]\n",
    "list0.insert(1, 'B')\n",
    "print(list0)"
   ]
  },
  {
   "cell_type": "code",
   "execution_count": 22,
   "id": "11e00dbe",
   "metadata": {},
   "outputs": [
    {
     "name": "stdout",
     "output_type": "stream",
     "text": [
      "[1, 'happy hour', 90, 'this year', 1, 'happy hour']\n"
     ]
    }
   ],
   "source": [
    "print(listA)"
   ]
  },
  {
   "cell_type": "code",
   "execution_count": 25,
   "id": "42e9452a",
   "metadata": {},
   "outputs": [],
   "source": [
    "listA.remove(1)"
   ]
  },
  {
   "cell_type": "code",
   "execution_count": 26,
   "id": "beb51b58",
   "metadata": {},
   "outputs": [
    {
     "name": "stdout",
     "output_type": "stream",
     "text": [
      "['happy hour', 90, 'this year', 1, 'happy hour']\n"
     ]
    }
   ],
   "source": [
    "print(listA)"
   ]
  },
  {
   "cell_type": "code",
   "execution_count": 27,
   "id": "01ec494f",
   "metadata": {},
   "outputs": [
    {
     "name": "stdout",
     "output_type": "stream",
     "text": [
      "[1, 3]\n"
     ]
    }
   ],
   "source": [
    "list0 = [1, 2, 3]\n",
    "list0.pop(1)\n",
    "print(list0)"
   ]
  },
  {
   "cell_type": "code",
   "execution_count": 28,
   "id": "c81bf0c4",
   "metadata": {},
   "outputs": [
    {
     "name": "stdout",
     "output_type": "stream",
     "text": [
      "[]\n"
     ]
    }
   ],
   "source": [
    "list0 = [1, 2, 3]\n",
    "list0.clear()\n",
    "print(list0)"
   ]
  },
  {
   "cell_type": "code",
   "execution_count": 30,
   "id": "da7f1e76",
   "metadata": {},
   "outputs": [
    {
     "name": "stdout",
     "output_type": "stream",
     "text": [
      "['to add something', 'watermeon', 'where']\n"
     ]
    }
   ],
   "source": [
    "print(listc)"
   ]
  },
  {
   "cell_type": "code",
   "execution_count": 32,
   "id": "be62839e",
   "metadata": {},
   "outputs": [
    {
     "data": {
      "text/plain": [
       "2"
      ]
     },
     "execution_count": 32,
     "metadata": {},
     "output_type": "execute_result"
    }
   ],
   "source": [
    "listc.index(\"where\")"
   ]
  },
  {
   "cell_type": "code",
   "execution_count": 33,
   "id": "894708b3",
   "metadata": {},
   "outputs": [
    {
     "name": "stdout",
     "output_type": "stream",
     "text": [
      "2\n"
     ]
    }
   ],
   "source": [
    "print(listc.index(\"where\"))"
   ]
  },
  {
   "cell_type": "code",
   "execution_count": 34,
   "id": "314856c4",
   "metadata": {},
   "outputs": [
    {
     "name": "stdout",
     "output_type": "stream",
     "text": [
      "[90, 'this year', 1, 'happy hour']\n"
     ]
    }
   ],
   "source": [
    "print(listb)"
   ]
  },
  {
   "cell_type": "code",
   "execution_count": 35,
   "id": "27c33c84",
   "metadata": {},
   "outputs": [
    {
     "data": {
      "text/plain": [
       "1"
      ]
     },
     "execution_count": 35,
     "metadata": {},
     "output_type": "execute_result"
    }
   ],
   "source": [
    "listb.count(1)"
   ]
  },
  {
   "cell_type": "code",
   "execution_count": 36,
   "id": "bf93ba63",
   "metadata": {},
   "outputs": [],
   "source": [
    "listb.extend(listc)"
   ]
  },
  {
   "cell_type": "code",
   "execution_count": 37,
   "id": "6a0b19d3",
   "metadata": {},
   "outputs": [
    {
     "name": "stdout",
     "output_type": "stream",
     "text": [
      "[90, 'this year', 1, 'happy hour', 'to add something', 'watermeon', 'where']\n"
     ]
    }
   ],
   "source": [
    "print(listb)"
   ]
  },
  {
   "cell_type": "code",
   "execution_count": 38,
   "id": "5f8feafb",
   "metadata": {},
   "outputs": [
    {
     "data": {
      "text/plain": [
       "1"
      ]
     },
     "execution_count": 38,
     "metadata": {},
     "output_type": "execute_result"
    }
   ],
   "source": [
    "listb.count(90)"
   ]
  },
  {
   "cell_type": "code",
   "execution_count": 39,
   "id": "9a4e6928",
   "metadata": {},
   "outputs": [
    {
     "data": {
      "text/plain": [
       "1"
      ]
     },
     "execution_count": 39,
     "metadata": {},
     "output_type": "execute_result"
    }
   ],
   "source": [
    "listb.count(\"happy hour\")"
   ]
  },
  {
   "cell_type": "code",
   "execution_count": 40,
   "id": "0a1c3b98",
   "metadata": {},
   "outputs": [
    {
     "name": "stdout",
     "output_type": "stream",
     "text": [
      "[]\n"
     ]
    }
   ],
   "source": [
    "print(list0)"
   ]
  },
  {
   "cell_type": "code",
   "execution_count": 41,
   "id": "6787a916",
   "metadata": {},
   "outputs": [],
   "source": [
    "list0 = [58734020, 8943022, 56903]"
   ]
  },
  {
   "cell_type": "code",
   "execution_count": 43,
   "id": "1560bd72",
   "metadata": {},
   "outputs": [
    {
     "name": "stdout",
     "output_type": "stream",
     "text": [
      "None\n"
     ]
    }
   ],
   "source": [
    "print(list0.sort())"
   ]
  },
  {
   "cell_type": "code",
   "execution_count": 44,
   "id": "0e64fd9d",
   "metadata": {},
   "outputs": [],
   "source": [
    "list0.sort()"
   ]
  },
  {
   "cell_type": "code",
   "execution_count": 45,
   "id": "cd381d4c",
   "metadata": {},
   "outputs": [
    {
     "name": "stdout",
     "output_type": "stream",
     "text": [
      "[56903, 8943022, 58734020]\n"
     ]
    }
   ],
   "source": [
    "print(list0)"
   ]
  },
  {
   "cell_type": "code",
   "execution_count": 49,
   "id": "22f8d4b4",
   "metadata": {},
   "outputs": [],
   "source": [
    "listc.reverse()"
   ]
  },
  {
   "cell_type": "code",
   "execution_count": 50,
   "id": "c5f731c3",
   "metadata": {},
   "outputs": [
    {
     "name": "stdout",
     "output_type": "stream",
     "text": [
      "['where', 'watermeon', 'to add something']\n"
     ]
    }
   ],
   "source": [
    "print(listc)"
   ]
  },
  {
   "cell_type": "code",
   "execution_count": 63,
   "id": "bb1ceb08",
   "metadata": {},
   "outputs": [],
   "source": [
    "list3 = [\"apple\", \"Banana\", \"Cat\", \"DOG\", \"Elisa\", \"fEDERAL\", \"Giraffe\"]"
   ]
  },
  {
   "cell_type": "code",
   "execution_count": 64,
   "id": "8c446bc8",
   "metadata": {},
   "outputs": [],
   "source": [
    "list3.sort()"
   ]
  },
  {
   "cell_type": "code",
   "execution_count": 65,
   "id": "cac04c66",
   "metadata": {},
   "outputs": [
    {
     "name": "stdout",
     "output_type": "stream",
     "text": [
      "['Banana', 'Cat', 'DOG', 'Elisa', 'Giraffe', 'apple', 'fEDERAL']\n"
     ]
    }
   ],
   "source": [
    "print(list3)"
   ]
  },
  {
   "cell_type": "code",
   "execution_count": 66,
   "id": "7503f5b4",
   "metadata": {},
   "outputs": [],
   "source": [
    "list3.reverse()"
   ]
  },
  {
   "cell_type": "code",
   "execution_count": 67,
   "id": "3d17e285",
   "metadata": {},
   "outputs": [
    {
     "name": "stdout",
     "output_type": "stream",
     "text": [
      "['fEDERAL', 'apple', 'Giraffe', 'Elisa', 'DOG', 'Cat', 'Banana']\n"
     ]
    }
   ],
   "source": [
    "print(list3)"
   ]
  },
  {
   "cell_type": "code",
   "execution_count": 68,
   "id": "4c0dfc4f",
   "metadata": {},
   "outputs": [
    {
     "name": "stdout",
     "output_type": "stream",
     "text": [
      "[1, 2, 3]\n"
     ]
    }
   ],
   "source": [
    "list1 = [1, 2, 3]\n",
    "list2 = list1.copy()\n",
    "print(list2) "
   ]
  },
  {
   "cell_type": "code",
   "execution_count": 69,
   "id": "888e8aea",
   "metadata": {},
   "outputs": [
    {
     "name": "stdout",
     "output_type": "stream",
     "text": [
      "['happy hour', 90, 'this year', 1, 'happy hour']\n"
     ]
    }
   ],
   "source": [
    "print(listA)"
   ]
  },
  {
   "cell_type": "code",
   "execution_count": 71,
   "id": "5e6784bf",
   "metadata": {},
   "outputs": [
    {
     "name": "stdout",
     "output_type": "stream",
     "text": [
      "[90, 'this year', 1, 'happy hour', 'to add something', 'watermeon', 'where']\n"
     ]
    }
   ],
   "source": [
    "print(listb)"
   ]
  },
  {
   "cell_type": "code",
   "execution_count": 75,
   "id": "44637c85",
   "metadata": {},
   "outputs": [],
   "source": [
    "listd = [listA, listb]"
   ]
  },
  {
   "cell_type": "code",
   "execution_count": 76,
   "id": "657c850f",
   "metadata": {},
   "outputs": [
    {
     "name": "stdout",
     "output_type": "stream",
     "text": [
      "[['happy hour', 90, 'this year', 1, 'happy hour'], [90, 'this year', 1, 'happy hour', 'to add something', 'watermeon', 'where']]\n"
     ]
    }
   ],
   "source": [
    "print(listd)"
   ]
  },
  {
   "cell_type": "code",
   "execution_count": 74,
   "id": "8bb744a3",
   "metadata": {},
   "outputs": [
    {
     "name": "stdout",
     "output_type": "stream",
     "text": [
      "[1, 2, 3]\n"
     ]
    }
   ],
   "source": [
    "list1 = [1, 2, 3]\n",
    "list2 = list1.copy()\n",
    "print(list2) "
   ]
  },
  {
   "cell_type": "code",
   "execution_count": 88,
   "id": "5b7554da",
   "metadata": {},
   "outputs": [],
   "source": [
    "names = [\"Ana\", \"Beto\", \"Carla\", \"David\", \"Elena\", \"Fernando\"]"
   ]
  },
  {
   "cell_type": "code",
   "execution_count": 79,
   "id": "0cb5b5bb",
   "metadata": {},
   "outputs": [
    {
     "name": "stdout",
     "output_type": "stream",
     "text": [
      "['Carla', 'David', 'Elena', 'Fernando']\n"
     ]
    }
   ],
   "source": [
    "print(names[2:])"
   ]
  },
  {
   "cell_type": "code",
   "execution_count": 80,
   "id": "64e8affa",
   "metadata": {},
   "outputs": [
    {
     "name": "stdout",
     "output_type": "stream",
     "text": [
      "[90, 'this year', 1, 'happy hour', 'to add something', 'watermeon', 'where']\n"
     ]
    }
   ],
   "source": [
    "print(listb)"
   ]
  },
  {
   "cell_type": "code",
   "execution_count": 81,
   "id": "a7efe683",
   "metadata": {},
   "outputs": [
    {
     "name": "stdout",
     "output_type": "stream",
     "text": [
      "['happy hour', 'to add something', 'watermeon', 'where']\n"
     ]
    }
   ],
   "source": [
    "print(listb[3:])"
   ]
  },
  {
   "cell_type": "code",
   "execution_count": 89,
   "id": "58000eca",
   "metadata": {},
   "outputs": [
    {
     "name": "stdout",
     "output_type": "stream",
     "text": [
      "['Ana', 'Beto', 'Carla', 'David', 'Elena']\n"
     ]
    }
   ],
   "source": [
    "print(names[:-1])"
   ]
  },
  {
   "cell_type": "code",
   "execution_count": 84,
   "id": "a3e659fe",
   "metadata": {},
   "outputs": [],
   "source": [
    "names.reverse()"
   ]
  },
  {
   "cell_type": "code",
   "execution_count": 86,
   "id": "ed8ef054",
   "metadata": {},
   "outputs": [
    {
     "name": "stdout",
     "output_type": "stream",
     "text": [
      "['Fernando', 'Elena', 'David', 'Carla', 'Beto', 'Ana']\n"
     ]
    }
   ],
   "source": [
    "print(names)"
   ]
  },
  {
   "cell_type": "code",
   "execution_count": 90,
   "id": "077fb070",
   "metadata": {},
   "outputs": [],
   "source": [
    "Today = [\"this is a line\", \"this is an order\", \"Tuesday is tomorrow\", \"make a wish\", \"here is the rule\", \"who sets the rule\"]"
   ]
  },
  {
   "cell_type": "code",
   "execution_count": 95,
   "id": "547d0c7e",
   "metadata": {},
   "outputs": [
    {
     "name": "stdout",
     "output_type": "stream",
     "text": [
      "['Tuesday is tomorrow', 'here is the rule']\n"
     ]
    }
   ],
   "source": [
    "print(Today[2:5:2])"
   ]
  },
  {
   "cell_type": "code",
   "execution_count": 92,
   "id": "473afcda",
   "metadata": {},
   "outputs": [],
   "source": [
    "number_list = [0, 1, 2, 3, 4, 5, 6, 7, 8, 9, 10]\n"
   ]
  },
  {
   "cell_type": "code",
   "execution_count": 97,
   "id": "d0983ab5",
   "metadata": {},
   "outputs": [
    {
     "name": "stdout",
     "output_type": "stream",
     "text": [
      "[0, 2]\n"
     ]
    }
   ],
   "source": [
    "print(number_list[0:-8:2])"
   ]
  },
  {
   "cell_type": "code",
   "execution_count": 101,
   "id": "5d791158",
   "metadata": {},
   "outputs": [],
   "source": [
    "months = [\"jan\", \"feb\", \"mar\", \"apr\", \"may\", \"jun\", \"jul\", \"aug\", \"sep\", \"oct\", \"nov\", \"dec\"]"
   ]
  },
  {
   "cell_type": "code",
   "execution_count": 102,
   "id": "9775059e",
   "metadata": {},
   "outputs": [],
   "source": [
    "months.append(\"end of the year\")"
   ]
  },
  {
   "cell_type": "code",
   "execution_count": 104,
   "id": "486f4adb",
   "metadata": {},
   "outputs": [],
   "source": [
    "months.remove(\"end of the year\")"
   ]
  },
  {
   "cell_type": "code",
   "execution_count": 105,
   "id": "bff3e778",
   "metadata": {},
   "outputs": [
    {
     "name": "stdout",
     "output_type": "stream",
     "text": [
      "['jan', 'feb', 'mar', 'apr', 'may', 'jun', 'jul', 'aug', 'sep', 'oct', 'nov', 'dec']\n"
     ]
    }
   ],
   "source": [
    "print(months)"
   ]
  },
  {
   "cell_type": "code",
   "execution_count": 106,
   "id": "b084b99a",
   "metadata": {},
   "outputs": [],
   "source": [
    "months.reverse()"
   ]
  },
  {
   "cell_type": "code",
   "execution_count": 107,
   "id": "6fe4ba88",
   "metadata": {},
   "outputs": [
    {
     "name": "stdout",
     "output_type": "stream",
     "text": [
      "['dec', 'nov', 'oct', 'sep', 'aug', 'jul', 'jun', 'may', 'apr', 'mar', 'feb', 'jan']\n"
     ]
    }
   ],
   "source": [
    "print(months)"
   ]
  },
  {
   "cell_type": "code",
   "execution_count": 109,
   "id": "fbdf3955",
   "metadata": {},
   "outputs": [
    {
     "name": "stdout",
     "output_type": "stream",
     "text": [
      "['jun', 'may', 'apr']\n"
     ]
    }
   ],
   "source": [
    "print(months[6:9])"
   ]
  },
  {
   "cell_type": "code",
   "execution_count": 111,
   "id": "f568b6e7",
   "metadata": {},
   "outputs": [],
   "source": [
    "months.reverse()"
   ]
  },
  {
   "cell_type": "code",
   "execution_count": 112,
   "id": "844f13af",
   "metadata": {},
   "outputs": [
    {
     "name": "stdout",
     "output_type": "stream",
     "text": [
      "['jan', 'feb', 'mar', 'apr', 'may', 'jun', 'jul', 'aug', 'sep', 'oct', 'nov', 'dec']\n"
     ]
    }
   ],
   "source": [
    "print(months)"
   ]
  },
  {
   "cell_type": "code",
   "execution_count": 113,
   "id": "9bb7809e",
   "metadata": {},
   "outputs": [],
   "source": [
    "months.sort()"
   ]
  },
  {
   "cell_type": "code",
   "execution_count": 114,
   "id": "27622078",
   "metadata": {},
   "outputs": [
    {
     "name": "stdout",
     "output_type": "stream",
     "text": [
      "['apr', 'aug', 'dec', 'feb', 'jan', 'jul', 'jun', 'mar', 'may', 'nov', 'oct', 'sep']\n"
     ]
    }
   ],
   "source": [
    "print(months)"
   ]
  },
  {
   "cell_type": "code",
   "execution_count": 117,
   "id": "550f4351",
   "metadata": {},
   "outputs": [
    {
     "data": {
      "text/plain": [
       "6"
      ]
     },
     "execution_count": 117,
     "metadata": {},
     "output_type": "execute_result"
    }
   ],
   "source": [
    "months.index(\"jun\")"
   ]
  },
  {
   "cell_type": "code",
   "execution_count": 118,
   "id": "fa9308a0",
   "metadata": {},
   "outputs": [],
   "source": [
    "months = [\"jan\", \"feb\", \"mar\", \"apr\", \"may\", \"jun\", \"jul\", \"aug\", \"sep\", \"oct\", \"nov\", \"dec\"]"
   ]
  },
  {
   "cell_type": "code",
   "execution_count": 119,
   "id": "e1521753",
   "metadata": {},
   "outputs": [],
   "source": [
    "quaters = [months[0:3]], [months[3:6]],[months[6:9]], [months[9:]]"
   ]
  },
  {
   "cell_type": "code",
   "execution_count": 120,
   "id": "28681480",
   "metadata": {},
   "outputs": [
    {
     "name": "stdout",
     "output_type": "stream",
     "text": [
      "([['jan', 'feb', 'mar']], [['apr', 'may', 'jun']], [['jul', 'aug', 'sep']], [['oct', 'nov', 'dec']])\n"
     ]
    }
   ],
   "source": [
    "print(quaters)"
   ]
  },
  {
   "cell_type": "code",
   "execution_count": 121,
   "id": "b9e48a07",
   "metadata": {},
   "outputs": [
    {
     "ename": "NameError",
     "evalue": "name 'my_tuple' is not defined",
     "output_type": "error",
     "traceback": [
      "\u001b[0;31m---------------------------------------------------------------------------\u001b[0m",
      "\u001b[0;31mNameError\u001b[0m                                 Traceback (most recent call last)",
      "\u001b[0;32m/var/folders/31/2t1n00ls5kq101v6vw8zcthm0000gn/T/ipykernel_655/62882097.py\u001b[0m in \u001b[0;36m<module>\u001b[0;34m\u001b[0m\n\u001b[0;32m----> 1\u001b[0;31m \u001b[0ma\u001b[0m\u001b[0;34m,\u001b[0m \u001b[0mb\u001b[0m\u001b[0;34m,\u001b[0m \u001b[0mc\u001b[0m\u001b[0;34m,\u001b[0m \u001b[0md\u001b[0m\u001b[0;34m,\u001b[0m \u001b[0me\u001b[0m \u001b[0;34m=\u001b[0m \u001b[0mmy_tuple\u001b[0m\u001b[0;34m\u001b[0m\u001b[0;34m\u001b[0m\u001b[0m\n\u001b[0m",
      "\u001b[0;31mNameError\u001b[0m: name 'my_tuple' is not defined"
     ]
    }
   ],
   "source": [
    "a, b, c, d, e = my_tuple"
   ]
  },
  {
   "cell_type": "code",
   "execution_count": 122,
   "id": "8004b09b",
   "metadata": {},
   "outputs": [],
   "source": [
    "my_tuple = (\"great wall\", 2, True, \"fine\")"
   ]
  },
  {
   "cell_type": "code",
   "execution_count": 123,
   "id": "ae8cd84e",
   "metadata": {},
   "outputs": [
    {
     "data": {
      "text/plain": [
       "1"
      ]
     },
     "execution_count": 123,
     "metadata": {},
     "output_type": "execute_result"
    }
   ],
   "source": [
    "my_tuple.count(2)"
   ]
  },
  {
   "cell_type": "code",
   "execution_count": 124,
   "id": "570fa207",
   "metadata": {},
   "outputs": [
    {
     "name": "stdout",
     "output_type": "stream",
     "text": [
      "('great wall', 2, True, 'fine')\n"
     ]
    }
   ],
   "source": [
    "print(my_tuple)"
   ]
  },
  {
   "cell_type": "code",
   "execution_count": 126,
   "id": "bfa68d35",
   "metadata": {},
   "outputs": [
    {
     "data": {
      "text/plain": [
       "2"
      ]
     },
     "execution_count": 126,
     "metadata": {},
     "output_type": "execute_result"
    }
   ],
   "source": [
    "my_tuple[1]"
   ]
  },
  {
   "cell_type": "code",
   "execution_count": 127,
   "id": "e5183a07",
   "metadata": {},
   "outputs": [
    {
     "name": "stdout",
     "output_type": "stream",
     "text": [
      "Error: 'tuple' object does not support item assignment\n"
     ]
    }
   ],
   "source": [
    "try:\n",
    "    my_tuple[1] = 10\n",
    "except TypeError as e:\n",
    "    print(f\"Error: {e}\")"
   ]
  },
  {
   "cell_type": "code",
   "execution_count": 128,
   "id": "969bb0e0",
   "metadata": {},
   "outputs": [
    {
     "name": "stdout",
     "output_type": "stream",
     "text": [
      "('great wall', 2, True, 'fine')\n"
     ]
    }
   ],
   "source": [
    "print(my_tuple)"
   ]
  },
  {
   "cell_type": "code",
   "execution_count": 129,
   "id": "cfd04caa",
   "metadata": {},
   "outputs": [
    {
     "data": {
      "text/plain": [
       "1"
      ]
     },
     "execution_count": 129,
     "metadata": {},
     "output_type": "execute_result"
    }
   ],
   "source": [
    "my_tuple.index(2)"
   ]
  },
  {
   "cell_type": "code",
   "execution_count": 131,
   "id": "48ba3c7e",
   "metadata": {},
   "outputs": [],
   "source": [
    "index = my_tuple.index(2)"
   ]
  },
  {
   "cell_type": "code",
   "execution_count": 132,
   "id": "9ccc1fd8",
   "metadata": {},
   "outputs": [
    {
     "name": "stdout",
     "output_type": "stream",
     "text": [
      "the index of the first element equals to 2 is 1\n"
     ]
    }
   ],
   "source": [
    "print(f\"the index of the first element equals to 2 is {index}\")"
   ]
  },
  {
   "cell_type": "code",
   "execution_count": 133,
   "id": "06995708",
   "metadata": {},
   "outputs": [],
   "source": [
    "quantity = my_tuple.count(\"fine\")"
   ]
  },
  {
   "cell_type": "code",
   "execution_count": 135,
   "id": "a656f61d",
   "metadata": {},
   "outputs": [
    {
     "name": "stdout",
     "output_type": "stream",
     "text": [
      "the number of in my_tuple is 1\n"
     ]
    }
   ],
   "source": [
    "print(f\"the number of in my_tuple is {quantity}\")"
   ]
  },
  {
   "cell_type": "code",
   "execution_count": 136,
   "id": "ee9bf61b",
   "metadata": {},
   "outputs": [],
   "source": [
    "length = len(my_tuple)"
   ]
  },
  {
   "cell_type": "code",
   "execution_count": 138,
   "id": "1975b5fb",
   "metadata": {},
   "outputs": [
    {
     "name": "stdout",
     "output_type": "stream",
     "text": [
      "4\n"
     ]
    }
   ],
   "source": [
    "print(length)"
   ]
  },
  {
   "cell_type": "code",
   "execution_count": 140,
   "id": "df4cedbc",
   "metadata": {},
   "outputs": [
    {
     "name": "stdout",
     "output_type": "stream",
     "text": [
      "the length of the tuple is 4\n"
     ]
    }
   ],
   "source": [
    "print(f\"the length of the tuple is {length}\")"
   ]
  },
  {
   "cell_type": "code",
   "execution_count": 141,
   "id": "9c693ed5",
   "metadata": {},
   "outputs": [
    {
     "name": "stdout",
     "output_type": "stream",
     "text": [
      "('great wall', 2, True, 'fine')\n"
     ]
    }
   ],
   "source": [
    "print(my_tuple)"
   ]
  },
  {
   "cell_type": "code",
   "execution_count": 143,
   "id": "d84fc377",
   "metadata": {},
   "outputs": [
    {
     "name": "stdout",
     "output_type": "stream",
     "text": [
      "great wall is in my_tuple\n"
     ]
    }
   ],
   "source": [
    "if \"great wall\" in my_tuple:\n",
    "    print(\"great wall is in my_tuple\")\n",
    "else:\n",
    "    print(\"great wall is not in my_tuple\")"
   ]
  },
  {
   "cell_type": "code",
   "execution_count": 144,
   "id": "1da3daea",
   "metadata": {},
   "outputs": [],
   "source": [
    "element = my_tuple[3]"
   ]
  },
  {
   "cell_type": "code",
   "execution_count": 145,
   "id": "3385c570",
   "metadata": {},
   "outputs": [
    {
     "name": "stdout",
     "output_type": "stream",
     "text": [
      "fine is the third item\n"
     ]
    }
   ],
   "source": [
    "print(f\"{element} is the third item\")"
   ]
  },
  {
   "cell_type": "code",
   "execution_count": 146,
   "id": "e5ce992b",
   "metadata": {},
   "outputs": [
    {
     "name": "stdout",
     "output_type": "stream",
     "text": [
      "Reversed tuple: ('fine', True, 2, 'great wall')\n"
     ]
    }
   ],
   "source": [
    "reversed_tuple = tuple(reversed(my_tuple))\n",
    "print(f\"Reversed tuple: {reversed_tuple}\")"
   ]
  },
  {
   "cell_type": "code",
   "execution_count": 147,
   "id": "adeca500",
   "metadata": {},
   "outputs": [],
   "source": [
    "my_set = {1, 3, 5, 7, 9}"
   ]
  },
  {
   "cell_type": "code",
   "execution_count": 148,
   "id": "f1fcc202",
   "metadata": {},
   "outputs": [
    {
     "name": "stdout",
     "output_type": "stream",
     "text": [
      "{1, 3, 5, 7, 9}\n"
     ]
    }
   ],
   "source": [
    "print(my_set)"
   ]
  },
  {
   "cell_type": "code",
   "execution_count": 149,
   "id": "8a1eb505",
   "metadata": {},
   "outputs": [],
   "source": [
    "set1 = set()"
   ]
  },
  {
   "cell_type": "code",
   "execution_count": 150,
   "id": "8632bc21",
   "metadata": {},
   "outputs": [],
   "source": [
    "mi_lista = [1, 2, 2, 3, 4, 4]"
   ]
  },
  {
   "cell_type": "code",
   "execution_count": 152,
   "id": "ce9963a4",
   "metadata": {},
   "outputs": [],
   "source": [
    "my_set1 = set(mi_lista)"
   ]
  },
  {
   "cell_type": "code",
   "execution_count": 153,
   "id": "c0ea0164",
   "metadata": {},
   "outputs": [
    {
     "name": "stdout",
     "output_type": "stream",
     "text": [
      "{1, 2, 3, 4}\n"
     ]
    }
   ],
   "source": [
    "print(my_set1)"
   ]
  },
  {
   "cell_type": "code",
   "execution_count": 154,
   "id": "e52eb0a2",
   "metadata": {},
   "outputs": [],
   "source": [
    "set1 = {1, 2, 3, 4, 5}\n",
    "set2 = {3, 4, 5, 6, 7}"
   ]
  },
  {
   "cell_type": "code",
   "execution_count": 155,
   "id": "045c0cfd",
   "metadata": {},
   "outputs": [],
   "source": [
    "union = set1 | set2"
   ]
  },
  {
   "cell_type": "code",
   "execution_count": 156,
   "id": "6463b089",
   "metadata": {},
   "outputs": [
    {
     "name": "stdout",
     "output_type": "stream",
     "text": [
      "{1, 2, 3, 4, 5, 6, 7}\n"
     ]
    }
   ],
   "source": [
    "print(union)"
   ]
  },
  {
   "cell_type": "code",
   "execution_count": 161,
   "id": "a5cf299e",
   "metadata": {},
   "outputs": [],
   "source": [
    "difference = set2 - set1"
   ]
  },
  {
   "cell_type": "code",
   "execution_count": 162,
   "id": "3d9c8c1e",
   "metadata": {},
   "outputs": [
    {
     "name": "stdout",
     "output_type": "stream",
     "text": [
      "{6, 7}\n"
     ]
    }
   ],
   "source": [
    "print(difference)"
   ]
  },
  {
   "cell_type": "code",
   "execution_count": 163,
   "id": "371925bb",
   "metadata": {},
   "outputs": [],
   "source": [
    "intersection = set1 & set2"
   ]
  },
  {
   "cell_type": "code",
   "execution_count": 167,
   "id": "68a2a6e9",
   "metadata": {},
   "outputs": [
    {
     "name": "stdout",
     "output_type": "stream",
     "text": [
      "{3, 4, 5}\n"
     ]
    }
   ],
   "source": [
    "print(intersection)"
   ]
  },
  {
   "cell_type": "code",
   "execution_count": 174,
   "id": "244e5cf4",
   "metadata": {},
   "outputs": [
    {
     "name": "stdout",
     "output_type": "stream",
     "text": [
      "{1, 2, 3, 100}\n"
     ]
    }
   ],
   "source": [
    "mi_set = {1, 2, 3}\n",
    "mi_set.add(100)\n",
    "print(mi_set)"
   ]
  },
  {
   "cell_type": "code",
   "execution_count": 175,
   "id": "5e562853",
   "metadata": {},
   "outputs": [],
   "source": [
    "mi_set.remove(100)"
   ]
  },
  {
   "cell_type": "code",
   "execution_count": 176,
   "id": "0f6ea01b",
   "metadata": {},
   "outputs": [
    {
     "name": "stdout",
     "output_type": "stream",
     "text": [
      "{1, 2, 3}\n"
     ]
    }
   ],
   "source": [
    "print(mi_set)"
   ]
  },
  {
   "cell_type": "code",
   "execution_count": 180,
   "id": "3b63ac47",
   "metadata": {},
   "outputs": [],
   "source": [
    "mi_set.add(20)"
   ]
  },
  {
   "cell_type": "code",
   "execution_count": 181,
   "id": "3a18d91c",
   "metadata": {},
   "outputs": [],
   "source": [
    "mi_set.discard(3)"
   ]
  },
  {
   "cell_type": "code",
   "execution_count": 182,
   "id": "23c9b5b2",
   "metadata": {},
   "outputs": [
    {
     "name": "stdout",
     "output_type": "stream",
     "text": [
      "{1, 2, 20}\n"
     ]
    }
   ],
   "source": [
    "print(mi_set)"
   ]
  },
  {
   "cell_type": "code",
   "execution_count": 183,
   "id": "e2333404",
   "metadata": {},
   "outputs": [],
   "source": [
    "mi_set.discard(60)"
   ]
  },
  {
   "cell_type": "code",
   "execution_count": 185,
   "id": "856dcb22",
   "metadata": {},
   "outputs": [
    {
     "data": {
      "text/plain": [
       "1"
      ]
     },
     "execution_count": 185,
     "metadata": {},
     "output_type": "execute_result"
    }
   ],
   "source": [
    "mi_set.pop()"
   ]
  },
  {
   "cell_type": "code",
   "execution_count": 186,
   "id": "cd05effc",
   "metadata": {},
   "outputs": [
    {
     "name": "stdout",
     "output_type": "stream",
     "text": [
      "{2, 20}\n"
     ]
    }
   ],
   "source": [
    "print(mi_set)"
   ]
  },
  {
   "cell_type": "code",
   "execution_count": 188,
   "id": "e45e0d25",
   "metadata": {},
   "outputs": [
    {
     "ename": "TypeError",
     "evalue": "set.pop() takes no arguments (1 given)",
     "output_type": "error",
     "traceback": [
      "\u001b[0;31m---------------------------------------------------------------------------\u001b[0m",
      "\u001b[0;31mTypeError\u001b[0m                                 Traceback (most recent call last)",
      "\u001b[0;32m/var/folders/31/2t1n00ls5kq101v6vw8zcthm0000gn/T/ipykernel_655/1443581531.py\u001b[0m in \u001b[0;36m<module>\u001b[0;34m\u001b[0m\n\u001b[0;32m----> 1\u001b[0;31m \u001b[0mmi_set\u001b[0m\u001b[0;34m.\u001b[0m\u001b[0mpop\u001b[0m\u001b[0;34m(\u001b[0m\u001b[0;36m1\u001b[0m\u001b[0;34m)\u001b[0m\u001b[0;34m\u001b[0m\u001b[0;34m\u001b[0m\u001b[0m\n\u001b[0m",
      "\u001b[0;31mTypeError\u001b[0m: set.pop() takes no arguments (1 given)"
     ]
    }
   ],
   "source": [
    "mi_set.pop(1)"
   ]
  },
  {
   "cell_type": "code",
   "execution_count": 190,
   "id": "8001e69b",
   "metadata": {},
   "outputs": [],
   "source": [
    "set1 = {1, 2, 3, 4, 5, 6}\n",
    "set2 = {4, 5, 6}\n",
    "set3 = {4, 5, 6, 7, 8, 9,}"
   ]
  },
  {
   "cell_type": "code",
   "execution_count": 191,
   "id": "10a73170",
   "metadata": {},
   "outputs": [],
   "source": [
    "union = set1.union(set2).union(set3)"
   ]
  },
  {
   "cell_type": "code",
   "execution_count": 192,
   "id": "4a2d03ab",
   "metadata": {},
   "outputs": [
    {
     "name": "stdout",
     "output_type": "stream",
     "text": [
      "{1, 2, 3, 4, 5, 6, 7, 8, 9}\n"
     ]
    }
   ],
   "source": [
    "print(union)"
   ]
  },
  {
   "cell_type": "code",
   "execution_count": 193,
   "id": "0261b9ab",
   "metadata": {},
   "outputs": [],
   "source": [
    "intersection  = set1.intersection(set2).intersection(set3)"
   ]
  },
  {
   "cell_type": "code",
   "execution_count": 194,
   "id": "7e77d8be",
   "metadata": {},
   "outputs": [
    {
     "name": "stdout",
     "output_type": "stream",
     "text": [
      "{4, 5, 6}\n"
     ]
    }
   ],
   "source": [
    "print(intersection)"
   ]
  },
  {
   "cell_type": "code",
   "execution_count": 195,
   "id": "c093c4a9",
   "metadata": {},
   "outputs": [],
   "source": [
    "differenct = set1 - set2"
   ]
  },
  {
   "cell_type": "code",
   "execution_count": 196,
   "id": "8d059f09",
   "metadata": {},
   "outputs": [
    {
     "name": "stdout",
     "output_type": "stream",
     "text": [
      "{1, 2, 3}\n"
     ]
    }
   ],
   "source": [
    "print(differenct)"
   ]
  },
  {
   "cell_type": "code",
   "execution_count": 197,
   "id": "ef939e6e",
   "metadata": {},
   "outputs": [],
   "source": [
    "difference1 = set3 - set2 - set1"
   ]
  },
  {
   "cell_type": "code",
   "execution_count": 198,
   "id": "beabddc1",
   "metadata": {},
   "outputs": [
    {
     "name": "stdout",
     "output_type": "stream",
     "text": [
      "{8, 9, 7}\n"
     ]
    }
   ],
   "source": [
    "print(difference1)"
   ]
  },
  {
   "cell_type": "code",
   "execution_count": 199,
   "id": "a74eee16",
   "metadata": {},
   "outputs": [
    {
     "data": {
      "text/plain": [
       "True"
      ]
     },
     "execution_count": 199,
     "metadata": {},
     "output_type": "execute_result"
    }
   ],
   "source": [
    "set2.issubset(set1)"
   ]
  },
  {
   "cell_type": "code",
   "execution_count": 200,
   "id": "d0c36ddd",
   "metadata": {},
   "outputs": [
    {
     "data": {
      "text/plain": [
       "False"
      ]
     },
     "execution_count": 200,
     "metadata": {},
     "output_type": "execute_result"
    }
   ],
   "source": [
    "set2.issuperset(set3)"
   ]
  },
  {
   "cell_type": "code",
   "execution_count": 204,
   "id": "2bfd960e",
   "metadata": {},
   "outputs": [],
   "source": [
    "dictionary = {\"name\": \"Jose\", \"age\": 39, \"place of birth\": \"Shanghai\" ,  \"language\": \"Spanish\"}"
   ]
  },
  {
   "cell_type": "code",
   "execution_count": 205,
   "id": "28dd5454",
   "metadata": {},
   "outputs": [
    {
     "name": "stdout",
     "output_type": "stream",
     "text": [
      "Jose\n"
     ]
    }
   ],
   "source": [
    "print(dictionary[\"name\"])"
   ]
  },
  {
   "cell_type": "code",
   "execution_count": 206,
   "id": "3592473c",
   "metadata": {},
   "outputs": [
    {
     "data": {
      "text/plain": [
       "39"
      ]
     },
     "execution_count": 206,
     "metadata": {},
     "output_type": "execute_result"
    }
   ],
   "source": [
    "dictionary[\"age\"]"
   ]
  },
  {
   "cell_type": "code",
   "execution_count": 209,
   "id": "38d7b621",
   "metadata": {},
   "outputs": [],
   "source": [
    "dictionary[\"graduation\"] = 2020"
   ]
  },
  {
   "cell_type": "code",
   "execution_count": 210,
   "id": "35cebb7a",
   "metadata": {},
   "outputs": [
    {
     "name": "stdout",
     "output_type": "stream",
     "text": [
      "{'name': 'Jose', 'age': 39, 'place of birth': 'Shanghai', 'language': 'Spanish', 'graduation': 2020}\n"
     ]
    }
   ],
   "source": [
    "print(dictionary)"
   ]
  },
  {
   "cell_type": "code",
   "execution_count": 211,
   "id": "0f93088b",
   "metadata": {},
   "outputs": [],
   "source": [
    "del dictionary[\"name\"]"
   ]
  },
  {
   "cell_type": "code",
   "execution_count": 212,
   "id": "c610a5a2",
   "metadata": {},
   "outputs": [
    {
     "name": "stdout",
     "output_type": "stream",
     "text": [
      "{'age': 39, 'place of birth': 'Shanghai', 'language': 'Spanish', 'graduation': 2020}\n"
     ]
    }
   ],
   "source": [
    "print(dictionary)"
   ]
  },
  {
   "cell_type": "code",
   "execution_count": 213,
   "id": "83fee895",
   "metadata": {},
   "outputs": [
    {
     "data": {
      "text/plain": [
       "39"
      ]
     },
     "execution_count": 213,
     "metadata": {},
     "output_type": "execute_result"
    }
   ],
   "source": [
    "dictionary.get(\"age\")"
   ]
  },
  {
   "cell_type": "code",
   "execution_count": 216,
   "id": "0182a6a8",
   "metadata": {},
   "outputs": [
    {
     "data": {
      "text/plain": [
       "dict_keys(['age', 'place of birth', 'language', 'graduation'])"
      ]
     },
     "execution_count": 216,
     "metadata": {},
     "output_type": "execute_result"
    }
   ],
   "source": [
    "dictionary.keys()"
   ]
  },
  {
   "cell_type": "code",
   "execution_count": 218,
   "id": "e4787e3e",
   "metadata": {},
   "outputs": [
    {
     "data": {
      "text/plain": [
       "dict_items([('age', 39), ('place of birth', 'Shanghai'), ('language', 'Spanish'), ('graduation', 2020)])"
      ]
     },
     "execution_count": 218,
     "metadata": {},
     "output_type": "execute_result"
    }
   ],
   "source": [
    "dictionary.items()"
   ]
  },
  {
   "cell_type": "code",
   "execution_count": 219,
   "id": "d7912c7c",
   "metadata": {},
   "outputs": [
    {
     "data": {
      "text/plain": [
       "dict_values([39, 'Shanghai', 'Spanish', 2020])"
      ]
     },
     "execution_count": 219,
     "metadata": {},
     "output_type": "execute_result"
    }
   ],
   "source": [
    "dictionary.values()"
   ]
  },
  {
   "cell_type": "code",
   "execution_count": 220,
   "id": "2c076ddc",
   "metadata": {},
   "outputs": [],
   "source": [
    "dictionary.update({\"age\": 20})"
   ]
  },
  {
   "cell_type": "code",
   "execution_count": 222,
   "id": "b1e4e78f",
   "metadata": {},
   "outputs": [],
   "source": [
    "dictionary.update({\"DOB\": 1992})"
   ]
  },
  {
   "cell_type": "code",
   "execution_count": 223,
   "id": "e72ff68e",
   "metadata": {},
   "outputs": [
    {
     "name": "stdout",
     "output_type": "stream",
     "text": [
      "{'age': 20, 'place of birth': 'Shanghai', 'language': 'Spanish', 'graduation': 2020, 'DOB': 1992}\n"
     ]
    }
   ],
   "source": [
    "print(dictionary)"
   ]
  },
  {
   "cell_type": "code",
   "execution_count": 224,
   "id": "fe7dc499",
   "metadata": {},
   "outputs": [],
   "source": [
    "dictionary.update({\"place of birth\": \"Caracas\"})"
   ]
  },
  {
   "cell_type": "code",
   "execution_count": 225,
   "id": "0bf61219",
   "metadata": {},
   "outputs": [
    {
     "name": "stdout",
     "output_type": "stream",
     "text": [
      "{'age': 20, 'place of birth': 'Caracas', 'language': 'Spanish', 'graduation': 2020, 'DOB': 1992}\n"
     ]
    }
   ],
   "source": [
    "print(dictionary)"
   ]
  },
  {
   "cell_type": "code",
   "execution_count": null,
   "id": "cb60891b",
   "metadata": {},
   "outputs": [],
   "source": []
  }
 ],
 "metadata": {
  "kernelspec": {
   "display_name": "Python 3 (ipykernel)",
   "language": "python",
   "name": "python3"
  },
  "language_info": {
   "codemirror_mode": {
    "name": "ipython",
    "version": 3
   },
   "file_extension": ".py",
   "mimetype": "text/x-python",
   "name": "python",
   "nbconvert_exporter": "python",
   "pygments_lexer": "ipython3",
   "version": "3.9.13"
  }
 },
 "nbformat": 4,
 "nbformat_minor": 5
}
