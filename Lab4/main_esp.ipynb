{
 "cells": [
  {
   "cell_type": "markdown",
   "metadata": {},
   "source": [
    "# Functions"
   ]
  },
  {
   "cell_type": "markdown",
   "metadata": {},
   "source": [
    "En este laboratorio pondremos en práctica algunos de los conceptos que hemos aprendido en los últimos días.\n",
    "\n",
    "`NOTA: En este laboratorio deberías intentar escribir todas las funciones por ti mismo utilizando solo la sintaxis más básica de Python y sin funciones como len, count, sum, max, min, in, etc. Dale una oportunidad. 🧑🏻‍💻👩🏻‍💻`\n",
    "\n",
    "La celda después de cada ejercicio contiene algunas pruebas para verificar si tu función funciona como se espera."
   ]
  },
  {
   "cell_type": "code",
   "execution_count": 1,
   "metadata": {},
   "outputs": [],
   "source": [
    "from mod.testing import *\n",
    "import unittest"
   ]
  },
  {
   "cell_type": "code",
   "execution_count": 2,
   "metadata": {},
   "outputs": [],
   "source": [
    "# Como no podemos usar \"len\", defino esta función equivalente \"my_len\"\n",
    "\n",
    "def my_len(lst):\n",
    "    cnt = 0\n",
    "\n",
    "    for _ in lst:\n",
    "        cnt += 1\n",
    "\n",
    "    return cnt"
   ]
  },
  {
   "cell_type": "markdown",
   "metadata": {},
   "source": [
    "## 1. Escribe una función que devuelva el mayor de dos números"
   ]
  },
  {
   "cell_type": "code",
   "execution_count": 3,
   "metadata": {},
   "outputs": [],
   "source": [
    "def greater(a,b):\n",
    "    max = 0\n",
    "\n",
    "    if a > b:\n",
    "        max = a\n",
    "    else:\n",
    "        max = b\n",
    "    \n",
    "    return max"
   ]
  },
  {
   "cell_type": "code",
   "execution_count": 4,
   "metadata": {},
   "outputs": [
    {
     "data": {
      "text/plain": [
       "6"
      ]
     },
     "execution_count": 4,
     "metadata": {},
     "output_type": "execute_result"
    }
   ],
   "source": [
    "greater(5,6)"
   ]
  },
  {
   "cell_type": "code",
   "execution_count": 5,
   "metadata": {},
   "outputs": [
    {
     "name": "stderr",
     "output_type": "stream",
     "text": [
      "....................................................................................................\n",
      "----------------------------------------------------------------------\n",
      "Ran 100 tests in 0.078s\n",
      "\n",
      "OK\n"
     ]
    }
   ],
   "source": [
    "# Para testear tu función\n",
    "test_greater(greater)"
   ]
  },
  {
   "cell_type": "markdown",
   "metadata": {},
   "source": [
    "## 2. Ahora escribe una función que devuelva el elemento más"
   ]
  },
  {
   "cell_type": "markdown",
   "metadata": {},
   "source": [
    "--> Entiendo que el elemento más... ¿grande de una lista? "
   ]
  },
  {
   "cell_type": "code",
   "execution_count": 6,
   "metadata": {},
   "outputs": [],
   "source": [
    "def greatest(lista):\n",
    "    max = 0\n",
    "\n",
    "    for n in lista:\n",
    "        if n > max:\n",
    "            max = n\n",
    "    \n",
    "    return max"
   ]
  },
  {
   "cell_type": "code",
   "execution_count": 7,
   "metadata": {},
   "outputs": [
    {
     "data": {
      "text/plain": [
       "211"
      ]
     },
     "execution_count": 7,
     "metadata": {},
     "output_type": "execute_result"
    }
   ],
   "source": [
    "lst = [6,7,25,211]\n",
    "greatest(lst)"
   ]
  },
  {
   "cell_type": "code",
   "execution_count": 8,
   "metadata": {},
   "outputs": [
    {
     "name": "stderr",
     "output_type": "stream",
     "text": [
      "....................................................................................................\n",
      "----------------------------------------------------------------------\n",
      "Ran 100 tests in 0.088s\n",
      "\n",
      "OK\n"
     ]
    }
   ],
   "source": [
    "# Para testear tu función\n",
    "test_greatest(greatest)"
   ]
  },
  {
   "cell_type": "markdown",
   "metadata": {},
   "source": [
    "## 3. Escribe una función que sume todos los elementos de una lista"
   ]
  },
  {
   "cell_type": "code",
   "execution_count": 9,
   "metadata": {},
   "outputs": [],
   "source": [
    "def sum_all(lst):\n",
    "    total = 0\n",
    "    \n",
    "    for number in lst:\n",
    "        total += number\n",
    "    \n",
    "    return total"
   ]
  },
  {
   "cell_type": "code",
   "execution_count": 10,
   "metadata": {},
   "outputs": [
    {
     "data": {
      "text/plain": [
       "249"
      ]
     },
     "execution_count": 10,
     "metadata": {},
     "output_type": "execute_result"
    }
   ],
   "source": [
    "sum_all(lst)"
   ]
  },
  {
   "cell_type": "code",
   "execution_count": 11,
   "metadata": {
    "scrolled": true
   },
   "outputs": [
    {
     "name": "stderr",
     "output_type": "stream",
     "text": [
      "....................................................................................................\n",
      "----------------------------------------------------------------------\n",
      "Ran 100 tests in 0.084s\n",
      "\n",
      "OK\n"
     ]
    }
   ],
   "source": [
    "# Para testear tu función\n",
    "test_sum(sum_all)"
   ]
  },
  {
   "cell_type": "markdown",
   "metadata": {},
   "source": [
    "## 4. Escribe otra función que multiplique todos los elementos de una lista"
   ]
  },
  {
   "cell_type": "code",
   "execution_count": 12,
   "metadata": {},
   "outputs": [],
   "source": [
    "def mult_all(lst):\n",
    "    total = 1\n",
    "    \n",
    "    for number in lst:\n",
    "        total *= number\n",
    "    \n",
    "    return total"
   ]
  },
  {
   "cell_type": "code",
   "execution_count": 13,
   "metadata": {},
   "outputs": [
    {
     "data": {
      "text/plain": [
       "221550"
      ]
     },
     "execution_count": 13,
     "metadata": {},
     "output_type": "execute_result"
    }
   ],
   "source": [
    "mult_all(lst)"
   ]
  },
  {
   "cell_type": "code",
   "execution_count": 14,
   "metadata": {
    "scrolled": true
   },
   "outputs": [
    {
     "name": "stderr",
     "output_type": "stream",
     "text": [
      "....................................................................................................\n",
      "----------------------------------------------------------------------\n",
      "Ran 100 tests in 0.103s\n",
      "\n",
      "OK\n"
     ]
    }
   ],
   "source": [
    "# Para testear tu función\n",
    "test_mult(mult_all)"
   ]
  },
  {
   "cell_type": "markdown",
   "metadata": {},
   "source": [
    "## 5. Ahora combina esas dos ideas y escribe una función que reciba una lista y ya sea \"+\" o \"*\", y produzca el resultado acorde"
   ]
  },
  {
   "cell_type": "code",
   "execution_count": 15,
   "metadata": {},
   "outputs": [],
   "source": [
    "def oper_all(arr, oper = \"*\"):\n",
    "    result = 0\n",
    "    \n",
    "    if oper == \"*\":\n",
    "        # Aprovechamos que hemos definido previamente la función de multiplicar todos los elementos de una lista\n",
    "        result = mult_all(arr)\n",
    "    elif oper == \"+\":\n",
    "        # Aprovechamos que hemos definido previamente la función de sumar todos los elementos de una lista\n",
    "        result = sum_all(arr)\n",
    "    \n",
    "    return result"
   ]
  },
  {
   "cell_type": "code",
   "execution_count": 16,
   "metadata": {},
   "outputs": [
    {
     "data": {
      "text/plain": [
       "249"
      ]
     },
     "execution_count": 16,
     "metadata": {},
     "output_type": "execute_result"
    }
   ],
   "source": [
    "oper_all(lst, \"+\")"
   ]
  },
  {
   "cell_type": "code",
   "execution_count": 17,
   "metadata": {},
   "outputs": [
    {
     "data": {
      "text/plain": [
       "221550"
      ]
     },
     "execution_count": 17,
     "metadata": {},
     "output_type": "execute_result"
    }
   ],
   "source": [
    "oper_all(lst, \"*\")"
   ]
  },
  {
   "cell_type": "code",
   "execution_count": 18,
   "metadata": {},
   "outputs": [
    {
     "name": "stderr",
     "output_type": "stream",
     "text": [
      "....................................................................................................\n",
      "----------------------------------------------------------------------\n",
      "Ran 100 tests in 0.111s\n",
      "\n",
      "OK\n"
     ]
    }
   ],
   "source": [
    "# Para testear tu función\n",
    "test_operations(oper_all)"
   ]
  },
  {
   "cell_type": "markdown",
   "metadata": {},
   "source": [
    "## 6. Escribe una función que devuelva el factorial de un número."
   ]
  },
  {
   "cell_type": "code",
   "execution_count": 19,
   "metadata": {},
   "outputs": [],
   "source": [
    "def factorial(n):\n",
    "    if n == 0:\n",
    "        result = 1\n",
    "    else:\n",
    "        # Aprovechamos que hemos definido previamente la función de multiplicar todos los elementos de una lista\n",
    "        result = mult_all(range(1, n+1))\n",
    "\n",
    "    return result"
   ]
  },
  {
   "cell_type": "code",
   "execution_count": 20,
   "metadata": {},
   "outputs": [
    {
     "data": {
      "text/plain": [
       "720"
      ]
     },
     "execution_count": 20,
     "metadata": {},
     "output_type": "execute_result"
    }
   ],
   "source": [
    "factorial(6)"
   ]
  },
  {
   "cell_type": "code",
   "execution_count": 21,
   "metadata": {},
   "outputs": [],
   "source": [
    "# Fórmula factorial\n",
    "# n! = n * (n - 1) *...*1\n",
    "\n",
    "# Este código define una función llamada \"factorial\" que toma una entrada \"n\". La función utiliza un bucle for para iterar a través del rango de números\n",
    "# desde 1 hasta n+1. Para cada número en ese rango, multiplica el valor actual de x por el número en el rango. Al final del bucle,\n",
    "# la función devuelve el valor final de x, que será el factorial del número de entrada \"n\".\n",
    "\n",
    "# El factorial de un entero positivo n es el producto de todos los enteros positivos menores o iguales a n.\n",
    "# Por ejemplo, el factorial de 6 (escrito \"6!\") es 6 * 5 * 4 * 3 * 2 * 1 = 720.\n",
    "\n",
    "# Así que esta función toma una entrada de cualquier entero positivo y devuelve el factorial de ese número."
   ]
  },
  {
   "cell_type": "code",
   "execution_count": 22,
   "metadata": {},
   "outputs": [
    {
     "name": "stderr",
     "output_type": "stream",
     "text": [
      "....................................................................................................\n",
      "----------------------------------------------------------------------\n",
      "Ran 100 tests in 0.176s\n",
      "\n",
      "OK\n"
     ]
    }
   ],
   "source": [
    "# This will test your function \n",
    "test_factorial(factorial)"
   ]
  },
  {
   "cell_type": "markdown",
   "metadata": {},
   "source": [
    "## 7. Escribe una función que tome una lista y devuelva una lista de los valores únicos.\n",
    "\n",
    "`NOTE: No podemos usar set. 🤔`"
   ]
  },
  {
   "cell_type": "code",
   "execution_count": 23,
   "metadata": {},
   "outputs": [],
   "source": [
    "def unique(lst):\n",
    "    unique_list = []\n",
    "\n",
    "    for value in lst:\n",
    "        if value not in unique_list:\n",
    "            unique_list.append(value)\n",
    "            \n",
    "    return unique_list"
   ]
  },
  {
   "cell_type": "code",
   "execution_count": 24,
   "metadata": {},
   "outputs": [
    {
     "data": {
      "text/plain": [
       "[6, 7, 25, 211]"
      ]
     },
     "execution_count": 24,
     "metadata": {},
     "output_type": "execute_result"
    }
   ],
   "source": [
    "unique(lst)"
   ]
  },
  {
   "cell_type": "code",
   "execution_count": 25,
   "metadata": {},
   "outputs": [
    {
     "name": "stderr",
     "output_type": "stream",
     "text": [
      "....................................................................................................\n",
      "----------------------------------------------------------------------\n",
      "Ran 100 tests in 0.415s\n",
      "\n",
      "OK\n"
     ]
    }
   ],
   "source": [
    "# Para testear tu función \n",
    "test_unique(unique)"
   ]
  },
  {
   "cell_type": "markdown",
   "metadata": {},
   "source": [
    "## 8. Escribe una función que devuelva la moda de una lista, es decir: el elemento que aparece más veces.\n",
    "\n",
    "`NOTE: No se debe usar count... 🧐`"
   ]
  },
  {
   "cell_type": "code",
   "execution_count": 26,
   "metadata": {},
   "outputs": [],
   "source": [
    "def mode_counter(arr):\n",
    "    dict_cnt = dict()\n",
    "    mode = 0\n",
    "\n",
    "    for key in arr:\n",
    "        if key in dict_cnt:\n",
    "            dict_cnt[key] += 1\n",
    "        else:\n",
    "            dict_cnt[key] = 1\n",
    "\n",
    "        if dict_cnt[key] > mode:\n",
    "            mode = key\n",
    "                \n",
    "    return mode"
   ]
  },
  {
   "cell_type": "code",
   "execution_count": 27,
   "metadata": {},
   "outputs": [
    {
     "data": {
      "text/plain": [
       "3"
      ]
     },
     "execution_count": 27,
     "metadata": {},
     "output_type": "execute_result"
    }
   ],
   "source": [
    "mode_counter([1,2,3,3,4,5,6])"
   ]
  },
  {
   "cell_type": "code",
   "execution_count": 28,
   "metadata": {},
   "outputs": [
    {
     "name": "stderr",
     "output_type": "stream",
     "text": [
      "........................................................................................"
     ]
    },
    {
     "name": "stderr",
     "output_type": "stream",
     "text": [
      "............\n",
      "----------------------------------------------------------------------\n",
      "Ran 100 tests in 0.143s\n",
      "\n",
      "OK\n"
     ]
    }
   ],
   "source": [
    "# Para testear tu función \n",
    "test_mode(mode_counter)"
   ]
  },
  {
   "cell_type": "markdown",
   "metadata": {},
   "source": [
    "## 9. Escribe una función que calcule la desviación estándar de una lista.\n",
    "`NOTE: no utilices librerías ni ninguna función ya construida. 😉`"
   ]
  },
  {
   "attachments": {
    "image-2.png": {
     "image/png": "[encoded data removed]"
    }
   },
   "cell_type": "markdown",
   "metadata": {},
   "source": [
    "La fórmula es esta para la Sample Standard Deviation:\n",
    "\n",
    "Si quiesieramos la Population, cambiaríamos (N-1) por N\n",
    "\n",
    "![image-2.png](attachment:image-2.png)"
   ]
  },
  {
   "cell_type": "code",
   "execution_count": 29,
   "metadata": {},
   "outputs": [
    {
     "data": {
      "text/plain": [
       "[4, 5, 8, 9, 10]"
      ]
     },
     "execution_count": 29,
     "metadata": {},
     "output_type": "execute_result"
    }
   ],
   "source": [
    "[4, 5, 8, 9, 10]"
   ]
  },
  {
   "cell_type": "code",
   "execution_count": 30,
   "metadata": {},
   "outputs": [],
   "source": [
    "def st_dev(list_sd):\n",
    "    N = my_len(list_sd)\n",
    "\n",
    "    mean = sum_all(list_sd) / my_len(list_sd) \n",
    "    variance = sum_all([((xi - mean)**2) for xi in list_sd]) / (N-1)\n",
    "    \n",
    "    return variance**0.5"
   ]
  },
  {
   "cell_type": "code",
   "execution_count": 31,
   "metadata": {},
   "outputs": [
    {
     "data": {
      "text/plain": [
       "2.588435821108957"
      ]
     },
     "execution_count": 31,
     "metadata": {},
     "output_type": "execute_result"
    }
   ],
   "source": [
    "test_list = [4, 5, 8, 9, 10] \n",
    "st_dev(test_list)"
   ]
  },
  {
   "cell_type": "code",
   "execution_count": 32,
   "metadata": {},
   "outputs": [
    {
     "name": "stderr",
     "output_type": "stream",
     "text": [
      "....................................................................................................\n",
      "----------------------------------------------------------------------\n",
      "Ran 100 tests in 0.249s\n",
      "\n",
      "OK\n"
     ]
    }
   ],
   "source": [
    "# Para testear tu función\n",
    "test_stdev(st_dev)"
   ]
  },
  {
   "cell_type": "markdown",
   "metadata": {},
   "source": [
    "## 10. Escribe una función para verificar si una cadena es un pangrama, es decir: si contiene todas las letras del alfabeto al menos una vez. Ten en cuenta que las cadenas pueden contener caracteres que no son letras."
   ]
  },
  {
   "cell_type": "code",
   "execution_count": 33,
   "metadata": {},
   "outputs": [
    {
     "name": "stdout",
     "output_type": "stream",
     "text": [
      "['a', 'b', 'c', 'd', 'e', 'f', 'g', 'h', 'i', 'j', 'k', 'l', 'm', 'n', 'o', 'p', 'q', 'r', 's', 't', 'u', 'v', 'w', 'x', 'y', 'z']\n"
     ]
    }
   ],
   "source": [
    "import string\n",
    "\n",
    "alphabet_str = string.ascii_uppercase\n",
    "alphabet_list = list(alphabet_str.lower())\n",
    "print(alphabet_list)\n"
   ]
  },
  {
   "cell_type": "code",
   "execution_count": 34,
   "metadata": {},
   "outputs": [
    {
     "name": "stdout",
     "output_type": "stream",
     "text": [
      "['e', 'l', 'v', 'e', 'l', 'o', 'z', 'm', 'u', 'r', 'c', 'i', 'e', 'l', 'a', 'g', 'o', 'h', 'i', 'n', 'd', 'u', 'c', 'o', 'm', 'i', 'a', 'f', 'e', 'l', 'i', 'z', 'c', 'a', 'r', 'd', 'i', 'l', 'l', 'o', 'y', 'k', 'i', 'w', 'i', '.', 'l', 'a', 'c', 'i', 'g', 'ü', 'e', 'ñ', 'a', 't', 'o', 'c', 'a', 'b', 'a', 'e', 'l', 's', 'a', 'x', 'o', 'f', 'o', 'n', 'd', 'e', 't', 'r', 'a', 's', 'd', 'e', 'l', 'p', 'a', 'l', 'e', 'n', 'q', 'u', 'e', 'd', 'e', 'p', 'a', 'j', 'a']\n"
     ]
    }
   ],
   "source": [
    "str_pangrama = \"El veloz murcielago hindu comia feliz cardillo y kiwi. La cigüeña tocaba el saxofon detras del palenque de paja\"\n",
    "list_letters_pangrama = list(str_pangrama.replace(\" \",\"\").lower())\n",
    "print(list_letters_pangrama)"
   ]
  },
  {
   "cell_type": "code",
   "execution_count": 35,
   "metadata": {},
   "outputs": [],
   "source": [
    "import string\n",
    "def pangram(str_pangrama):\n",
    "    alphabet_set = set(string.ascii_lowercase)\n",
    "    list_letters_pangrama = list(str_pangrama.replace(\" \",\"\").lower())\n",
    "\n",
    "    is_pangram = alphabet_set.issubset(set(list_letters_pangrama)) # boolean\n",
    "            \n",
    "    return is_pangram"
   ]
  },
  {
   "cell_type": "code",
   "execution_count": 36,
   "metadata": {},
   "outputs": [
    {
     "data": {
      "text/plain": [
       "True"
      ]
     },
     "execution_count": 36,
     "metadata": {},
     "output_type": "execute_result"
    }
   ],
   "source": [
    "pangram(str_pangrama)"
   ]
  },
  {
   "cell_type": "code",
   "execution_count": 37,
   "metadata": {},
   "outputs": [
    {
     "name": "stderr",
     "output_type": "stream",
     "text": [
      "..............................\n",
      "----------------------------------------------------------------------\n",
      "Ran 30 tests in 0.068s\n",
      "\n",
      "OK\n"
     ]
    }
   ],
   "source": [
    "# Para testear tu función\n",
    "test_pangram(pangram)"
   ]
  },
  {
   "cell_type": "markdown",
   "metadata": {},
   "source": [
    "## 11. Escribe una función que reciba una cadena de palabras separadas por comas y devuelva una cadena de palabras separadas por comas ordenadas alfabéticamente.\n",
    "\n",
    "`NOTA: Puedes usar sorted pero no split y definitivamente no join! 🤪`"
   ]
  },
  {
   "cell_type": "code",
   "execution_count": 38,
   "metadata": {},
   "outputs": [],
   "source": [
    "str_commas = \"elena,aitana,berta\""
   ]
  },
  {
   "cell_type": "code",
   "execution_count": 39,
   "metadata": {},
   "outputs": [],
   "source": [
    "import re\n",
    "def sort_alpha(str_commas):\n",
    "    pattern = re.compile(r'[^,]+')\n",
    "    words = sorted(pattern.findall(str_commas))\n",
    "    sorted_words = sorted(words)\n",
    "\n",
    "    sort_str_commas = \"\"\n",
    "    for idx, word in enumerate(sorted_words):\n",
    "        sort_str_commas += word\n",
    "        if idx != (my_len(sorted_words)-1):\n",
    "            sort_str_commas += \",\"        \n",
    "\n",
    "    return sort_str_commas"
   ]
  },
  {
   "cell_type": "code",
   "execution_count": 40,
   "metadata": {},
   "outputs": [
    {
     "data": {
      "text/plain": [
       "'aitana,berta,elena'"
      ]
     },
     "execution_count": 40,
     "metadata": {},
     "output_type": "execute_result"
    }
   ],
   "source": [
    "sort_alpha(str_commas)"
   ]
  },
  {
   "cell_type": "code",
   "execution_count": 41,
   "metadata": {},
   "outputs": [
    {
     "name": "stderr",
     "output_type": "stream",
     "text": [
      "....................................................................................................\n",
      "----------------------------------------------------------------------\n",
      "Ran 100 tests in 0.122s\n",
      "\n",
      "OK\n"
     ]
    }
   ],
   "source": [
    "# Para testear tu función \n",
    "test_alpha(sort_alpha)"
   ]
  },
  {
   "cell_type": "markdown",
   "metadata": {},
   "source": [
    "## 12. Escribe una función para verificar si una contraseña dada es fuerte (al menos 8 caracteres, al menos una minúscula, al menos una mayúscula, al menos un número y al menos un carácter especial). Debería devolver True si es fuerte y False si no lo es."
   ]
  },
  {
   "cell_type": "code",
   "execution_count": 42,
   "metadata": {},
   "outputs": [],
   "source": [
    "import re \n",
    "def check_pass(password):\n",
    "    is_strong = False\n",
    "\n",
    "    if my_len(password) >= 8:\n",
    "        if not re.search(\"[a-z]\", password): \n",
    "            print(\"Contraseña débil. Debe contener al menos una minúscula.\")\n",
    "            return is_strong\n",
    "        if not re.search(\"[A-Z]\", password):\n",
    "            print(\"Contraseña débil. Debe contener al menos una mayúscula.\")\n",
    "            return is_strong\n",
    "        if not re.search(\"[0-9]\", password):\n",
    "            print(\"Contraseña débil. Debe contener al menos un número.\") \n",
    "            return is_strong\n",
    "        if not re.search(r'[@_!#$%^&*()<>?}{~:()\\[\\]]', password): \n",
    "            print(\"Contraseña débil. Debe contener al menos un carácter especial.\")\n",
    "            return is_strong\n",
    "        else:\n",
    "            is_strong= True\n",
    "            print(\"La contraseña dada es una contraseña fuerte.\")\n",
    "    else:\n",
    "        print(\"Contraseña débil. Deben ser al menos 8 caracteres.\")\n",
    "\n",
    "    return is_strong"
   ]
  },
  {
   "cell_type": "code",
   "execution_count": 43,
   "metadata": {},
   "outputs": [
    {
     "name": "stdout",
     "output_type": "stream",
     "text": [
      "La contraseña dada es una contraseña fuerte.\n"
     ]
    },
    {
     "data": {
      "text/plain": [
       "True"
      ]
     },
     "execution_count": 43,
     "metadata": {},
     "output_type": "execute_result"
    }
   ],
   "source": [
    "check_pass(\"Abc@defg1\")"
   ]
  },
  {
   "cell_type": "code",
   "execution_count": 44,
   "metadata": {},
   "outputs": [
    {
     "name": "stdout",
     "output_type": "stream",
     "text": [
      "Contraseña débil. Debe contener al menos un número.\n"
     ]
    },
    {
     "data": {
      "text/plain": [
       "False"
      ]
     },
     "execution_count": 44,
     "metadata": {},
     "output_type": "execute_result"
    }
   ],
   "source": [
    "check_pass(\"Abcssssssss\")"
   ]
  },
  {
   "cell_type": "code",
   "execution_count": 45,
   "metadata": {},
   "outputs": [
    {
     "name": "stdout",
     "output_type": "stream",
     "text": [
      "La contraseña dada es una contraseña fuerte.\n"
     ]
    },
    {
     "data": {
      "text/plain": [
       "True"
      ]
     },
     "execution_count": 45,
     "metadata": {},
     "output_type": "execute_result"
    }
   ],
   "source": [
    "check_pass(\"][L[ya0WaVa\")"
   ]
  },
  {
   "cell_type": "code",
   "execution_count": 46,
   "metadata": {},
   "outputs": [
    {
     "name": "stderr",
     "output_type": "stream",
     "text": [
      ".............."
     ]
    },
    {
     "name": "stdout",
     "output_type": "stream",
     "text": [
      "La contraseña dada es una contraseña fuerte.\n",
      "Contraseña débil. Debe contener al menos un número.\n",
      "Contraseña débil. Deben ser al menos 8 caracteres.\n",
      "Contraseña débil. Deben ser al menos 8 caracteres.\n",
      "La contraseña dada es una contraseña fuerte.\n",
      "Contraseña débil. Debe contener al menos un carácter especial.\n",
      "Contraseña débil. Debe contener al menos un carácter especial.\n",
      "La contraseña dada es una contraseña fuerte.\n",
      "Contraseña débil. Debe contener al menos un carácter especial.\n",
      "La contraseña dada es una contraseña fuerte.\n",
      "Contraseña débil. Deben ser al menos 8 caracteres.\n",
      "Contraseña débil. Deben ser al menos 8 caracteres.\n",
      "Contraseña débil. Debe contener al menos un número.\n",
      "Contraseña débil. Deben ser al menos 8 caracteres.\n",
      "Contraseña débil. Deben ser al menos 8 caracteres.\n"
     ]
    },
    {
     "name": "stderr",
     "output_type": "stream",
     "text": [
      "......................................................................................\n",
      "----------------------------------------------------------------------\n",
      "Ran 100 tests in 0.083s\n",
      "\n",
      "OK\n"
     ]
    },
    {
     "name": "stdout",
     "output_type": "stream",
     "text": [
      "Contraseña débil. Debe contener al menos un número.\n",
      "Contraseña débil. Debe contener al menos un número.\n",
      "La contraseña dada es una contraseña fuerte.\n",
      "La contraseña dada es una contraseña fuerte.\n",
      "Contraseña débil. Deben ser al menos 8 caracteres.\n",
      "Contraseña débil. Deben ser al menos 8 caracteres.\n",
      "Contraseña débil. Debe contener al menos un número.\n",
      "La contraseña dada es una contraseña fuerte.\n",
      "Contraseña débil. Debe contener al menos un número.\n",
      "Contraseña débil. Deben ser al menos 8 caracteres.\n",
      "Contraseña débil. Deben ser al menos 8 caracteres.\n",
      "Contraseña débil. Debe contener al menos un carácter especial.\n",
      "Contraseña débil. Deben ser al menos 8 caracteres.\n",
      "La contraseña dada es una contraseña fuerte.\n",
      "Contraseña débil. Debe contener al menos un número.\n",
      "Contraseña débil. Deben ser al menos 8 caracteres.\n",
      "La contraseña dada es una contraseña fuerte.\n",
      "Contraseña débil. Deben ser al menos 8 caracteres.\n",
      "Contraseña débil. Debe contener al menos una mayúscula.\n",
      "Contraseña débil. Debe contener al menos un número.\n",
      "Contraseña débil. Deben ser al menos 8 caracteres.\n",
      "Contraseña débil. Debe contener al menos un carácter especial.\n",
      "Contraseña débil. Debe contener al menos un número.\n",
      "Contraseña débil. Debe contener al menos una mayúscula.\n",
      "Contraseña débil. Deben ser al menos 8 caracteres.\n",
      "La contraseña dada es una contraseña fuerte.\n",
      "Contraseña débil. Debe contener al menos un número.\n",
      "Contraseña débil. Debe contener al menos un número.\n",
      "Contraseña débil. Deben ser al menos 8 caracteres.\n",
      "Contraseña débil. Debe contener al menos un carácter especial.\n",
      "Contraseña débil. Deben ser al menos 8 caracteres.\n",
      "Contraseña débil. Debe contener al menos un número.\n",
      "Contraseña débil. Debe contener al menos un carácter especial.\n",
      "La contraseña dada es una contraseña fuerte.\n",
      "Contraseña débil. Deben ser al menos 8 caracteres.\n",
      "Contraseña débil. Deben ser al menos 8 caracteres.\n",
      "Contraseña débil. Debe contener al menos un número.\n",
      "Contraseña débil. Deben ser al menos 8 caracteres.\n",
      "Contraseña débil. Deben ser al menos 8 caracteres.\n",
      "Contraseña débil. Deben ser al menos 8 caracteres.\n",
      "La contraseña dada es una contraseña fuerte.\n",
      "Contraseña débil. Deben ser al menos 8 caracteres.\n",
      "Contraseña débil. Deben ser al menos 8 caracteres.\n",
      "Contraseña débil. Debe contener al menos un número.\n",
      "Contraseña débil. Debe contener al menos un número.\n",
      "Contraseña débil. Deben ser al menos 8 caracteres.\n",
      "Contraseña débil. Debe contener al menos una mayúscula.\n",
      "Contraseña débil. Debe contener al menos un número.\n",
      "Contraseña débil. Debe contener al menos un número.\n",
      "Contraseña débil. Debe contener al menos un número.\n",
      "La contraseña dada es una contraseña fuerte.\n",
      "Contraseña débil. Debe contener al menos un número.\n",
      "Contraseña débil. Deben ser al menos 8 caracteres.\n",
      "Contraseña débil. Debe contener al menos un número.\n",
      "Contraseña débil. Deben ser al menos 8 caracteres.\n",
      "La contraseña dada es una contraseña fuerte.\n",
      "Contraseña débil. Debe contener al menos un carácter especial.\n",
      "Contraseña débil. Deben ser al menos 8 caracteres.\n",
      "Contraseña débil. Deben ser al menos 8 caracteres.\n",
      "La contraseña dada es una contraseña fuerte.\n",
      "Contraseña débil. Deben ser al menos 8 caracteres.\n",
      "La contraseña dada es una contraseña fuerte.\n",
      "Contraseña débil. Deben ser al menos 8 caracteres.\n",
      "Contraseña débil. Debe contener al menos un carácter especial.\n",
      "Contraseña débil. Deben ser al menos 8 caracteres.\n",
      "Contraseña débil. Deben ser al menos 8 caracteres.\n",
      "Contraseña débil. Deben ser al menos 8 caracteres.\n",
      "Contraseña débil. Deben ser al menos 8 caracteres.\n",
      "Contraseña débil. Debe contener al menos un carácter especial.\n",
      "Contraseña débil. Deben ser al menos 8 caracteres.\n",
      "Contraseña débil. Debe contener al menos un número.\n",
      "La contraseña dada es una contraseña fuerte.\n",
      "La contraseña dada es una contraseña fuerte.\n",
      "Contraseña débil. Deben ser al menos 8 caracteres.\n",
      "Contraseña débil. Deben ser al menos 8 caracteres.\n",
      "Contraseña débil. Debe contener al menos un número.\n",
      "Contraseña débil. Deben ser al menos 8 caracteres.\n",
      "Contraseña débil. Debe contener al menos un número.\n",
      "Contraseña débil. Deben ser al menos 8 caracteres.\n",
      "Contraseña débil. Debe contener al menos un número.\n",
      "La contraseña dada es una contraseña fuerte.\n",
      "Contraseña débil. Deben ser al menos 8 caracteres.\n",
      "La contraseña dada es una contraseña fuerte.\n",
      "Contraseña débil. Debe contener al menos un número.\n",
      "Contraseña débil. Deben ser al menos 8 caracteres.\n"
     ]
    }
   ],
   "source": [
    "# Para testear tu función\n",
    "test_pass(check_pass)"
   ]
  }
 ],
 "metadata": {
  "kernelspec": {
   "display_name": "Python 3 (ipykernel)",
   "language": "python",
   "name": "python3"
  },
  "language_info": {
   "codemirror_mode": {
    "name": "ipython",
    "version": 3
   },
   "file_extension": ".py",
   "mimetype": "text/x-python",
   "name": "python",
   "nbconvert_exporter": "python",
   "pygments_lexer": "ipython3",
   "version": "3.12.2"
  },
  "vscode": {
   "interpreter": {
    "hash": "aee8b7b246df8f9039afb4144a1f6fd8d2ca17a180786b69acc140d282b71a49"
   }
  }
 },
 "nbformat": 4,
 "nbformat_minor": 4
}
